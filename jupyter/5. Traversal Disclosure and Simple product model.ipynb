{
 "cells": [
  {
   "cell_type": "code",
   "execution_count": 1,
   "metadata": {},
   "outputs": [],
   "source": [
    "import os\n",
    "# import sys\n",
    "WORKING_DIR = '/data/GitHub/2019/EPA_PSM_antelope'\n",
    "# sys.path.append(WORKING_DIR)\n",
    "CAT_DIR = os.path.join(WORKING_DIR, 'catalog')"
   ]
  },
  {
   "cell_type": "code",
   "execution_count": 2,
   "metadata": {},
   "outputs": [],
   "source": [
    "from antelope_catalog import LcCatalog"
   ]
  },
  {
   "cell_type": "code",
   "execution_count": 3,
   "metadata": {},
   "outputs": [
    {
     "name": "stdout",
     "output_type": "stream",
     "text": [
      "Loading JSON data from /data/GitHub/2019/EPA_PSM_antelope/catalog/reference-quantities.json:\n",
      "local.qdb: /data/GitHub/2019/EPA_PSM_antelope/catalog/reference-quantities.json\n",
      "local.qdb: /data/GitHub/lca-tools/lcatools/qdb/data/elcd_reference_quantities.json\n",
      "6 new flow entities added (6 total)\n",
      "25 new quantity entities added (25 total)\n"
     ]
    }
   ],
   "source": [
    "cat = LcCatalog(CAT_DIR)"
   ]
  },
  {
   "cell_type": "code",
   "execution_count": 4,
   "metadata": {},
   "outputs": [],
   "source": [
    "fg = cat.create_foreground('psm-hackathon')"
   ]
  },
  {
   "cell_type": "code",
   "execution_count": 5,
   "metadata": {},
   "outputs": [
    {
     "name": "stdout",
     "output_type": "stream",
     "text": [
      "foreground.psm-hackathon: /data/GitHub/2019/EPA_PSM_antelope/catalog/psm-hackathon\n",
      "Loading /data/GitHub/2019/EPA_PSM_antelope/catalog/psm-hackathon\n",
      "foreground.psm-hackathon: /data/GitHub/2019/EPA_PSM_antelope/catalog/psm-hackathon/entities.json\n",
      "local.usepa.useeio.1.1: /data/LCI/USEEIO/USEEIOv1.1-JSONLD-foropenlca.zip\n",
      "Found Extension: zip\n",
      "Applying stored configuration\n",
      "Applying context hint local.usepa.useeio.1.1:water => to water\n",
      "Applying context hint local.usepa.useeio.1.1:air => to air\n",
      "Applying configuration to OpenLcaJsonLdArchive with 0 entities at /data/LCI/USEEIO/USEEIOv1.1-JSONLD-foropenlca.zip\n",
      "Missing canonical quantity-- adding to LciaDb\n",
      "registering local.usepa.useeio.1.1/b0682037-e878-4be4-a63a-a7a81053a691\n",
      "Retrieving canonical [local.usepa.useeio.1.1] Producer Price US 2013 [USD]\n",
      "1019 new flow entities added (1019 total)\n",
      "0 new fragment entities added (0 total)\n",
      "3 new quantity entities added (3 total)\n",
      "1402 new fragment entities added (1402 total)\n",
      "   -<--O   44679 [       2 Item(s)] 74A400800-1001 ASSEMBLY\n",
      "    [   1 unit] 74A400800-1001 ASSEMBLY\n",
      "       | -<----: 126be (       2 Item(s)) RETAINER\n",
      "       | -<----: 1d01b (       1 Item(s)) PACKING\n",
      "       | -<----: 23fb1 (       1 Item(s)) PACKING\n",
      "       | -<----: 338d3 (       1 Item(s)) CYLINDER, RETRACT\n",
      "       | -<----: 33b39 (       1 Item(s)) SCRAPER\n",
      "       | -<----: 34a24 (       2 Item(s)) RETAINER\n",
      "       | -<----: 34a9d (       2 Item(s)) RETAINER\n",
      "       | -<----: 540e0 (       1 Item(s)) TUBE, TRANSFER\n",
      "       | -<----: 82b88 (       2 Item(s)) RETAINER\n",
      "       | -<----: 8f01b (       1 Item(s)) PLATE, LOCKING\n",
      "       | -<----: 8f8d0 (       1 Item(s)) PISTON, RETRACT\n",
      "       | -<----: b1cc4 (       1 Item(s)) PACKING\n",
      "       | -<----: c16fc (       2 Item(s)) RETAINER\n",
      "       | -<----: c668b (       1 Item(s)) SPACER, PLATE\n",
      "       | -<----: c840d (       1 Item(s)) LOCKWIRE\n",
      "       | -<----: d25ed (       1 Item(s)) PACKING\n",
      "       | -<----: d4d53 (       2 Item(s)) SCREW\n",
      "       | -<----: de72a (       1 Item(s)) PLATE, IDENT\n",
      "       | -<----: ea954 (       1 Item(s)) SEAL\n",
      "       | -<----: f0c29 (       2 Item(s)) RETAINER\n",
      "       | -<--O   40a73 (       1 Item(s)) ROD ASSEMBLY\n",
      "       |  [   1 unit] ROD ASSEMBLY\n",
      "       |     | -<----: 04ce8 (       1 Item(s)) ROD\n",
      "       |     | -<----: 142fa (       1 Item(s)) BEARING\n",
      "       |     x \n",
      "       | -<--O   58121 (       1 Item(s)) RING, PISTON\n",
      "       |  [   1 unit] RING, PISTON\n",
      "       |     | -<----: 8d1bf (       2 Item(s)) RING, PISTON\n",
      "       |     | -<----: ceced (       1 Item(s)) RING, EXPANDER\n",
      "       |     x \n",
      "       | -<--O   d0bf3 (       1 Item(s)) HEAD ASSEMBLY\n",
      "       |  [   1 unit] HEAD ASSEMBLY\n",
      "       |     | -<----: 392df (       1 Item(s)) BEARING\n",
      "       |     | -<----: 3e525 (       2 Item(s)) PACKING\n",
      "       |     | -<----: 91b6e (       2 Item(s)) PLUG\n",
      "       |     | -<----: 9b49d (       1 Item(s)) HEAD\n",
      "       |     | -<----: b6890 (       2 Item(s)) PIN\n",
      "       |     | -<----: bbd04 (       2 Item(s)) ADAPTER\n",
      "       |     x \n",
      "       x \n"
     ]
    }
   ],
   "source": [
    "frag = fg.get('74A400800-1001 ASSEMBLY')\n",
    "frag.show_tree()"
   ]
  },
  {
   "cell_type": "code",
   "execution_count": 6,
   "metadata": {},
   "outputs": [
    {
     "data": {
      "text/plain": [
       "['44679           1 [ Input] -#  74A400800-1001 ASSEMBLY',\n",
       " '126be           2 [ Input] --: RETAINER',\n",
       " '1d01b           1 [ Input] --: PACKING',\n",
       " '23fb1           1 [ Input] --: PACKING',\n",
       " '338d3           1 [ Input] --: CYLINDER, RETRACT',\n",
       " '33b39           1 [ Input] --: SCRAPER',\n",
       " '34a24           2 [ Input] --: RETAINER',\n",
       " '34a9d           2 [ Input] --: RETAINER',\n",
       " '40a73           1 [ Input] -#  ROD ASSEMBLY',\n",
       " '04ce8           1 [ Input] --: ROD',\n",
       " '142fa           1 [ Input] --: BEARING',\n",
       " '540e0           1 [ Input] --: TUBE, TRANSFER',\n",
       " '58121           1 [ Input] -#  RING, PISTON',\n",
       " '8d1bf           2 [ Input] --: RING, PISTON',\n",
       " 'ceced           1 [ Input] --: RING, EXPANDER',\n",
       " '82b88           2 [ Input] --: RETAINER',\n",
       " '8f01b           1 [ Input] --: PLATE, LOCKING',\n",
       " '8f8d0           1 [ Input] --: PISTON, RETRACT',\n",
       " 'b1cc4           1 [ Input] --: PACKING',\n",
       " 'c16fc           2 [ Input] --: RETAINER',\n",
       " 'c668b           1 [ Input] --: SPACER, PLATE',\n",
       " 'c840d           1 [ Input] --: LOCKWIRE',\n",
       " 'd0bf3           1 [ Input] -#  HEAD ASSEMBLY',\n",
       " '392df           1 [ Input] --: BEARING',\n",
       " '3e525           2 [ Input] --: PACKING',\n",
       " '91b6e           2 [ Input] --: PLUG',\n",
       " '9b49d           1 [ Input] --: HEAD',\n",
       " 'b6890           2 [ Input] --: PIN',\n",
       " 'bbd04           2 [ Input] --: ADAPTER',\n",
       " 'd25ed           1 [ Input] --: PACKING',\n",
       " 'd4d53           2 [ Input] --: SCREW',\n",
       " 'de72a           1 [ Input] --: PLATE, IDENT',\n",
       " 'ea954           1 [ Input] --: SEAL',\n",
       " 'f0c29           2 [ Input] --: RETAINER']"
      ]
     },
     "execution_count": 6,
     "metadata": {},
     "output_type": "execute_result"
    }
   ],
   "source": [
    "[str(k) for k in frag.traverse()]"
   ]
  },
  {
   "cell_type": "code",
   "execution_count": 7,
   "metadata": {},
   "outputs": [
    {
     "data": {
      "text/plain": [
       "[' Input:     [2 [Item(s)]]     RETAINER []',\n",
       " ' Input:     [2 [Item(s)]]     RETAINER []',\n",
       " ' Input:     [2 [Item(s)]]     RETAINER []',\n",
       " ' Input:     [2 [Item(s)]]     RING, PISTON []',\n",
       " ' Input:     [2 [Item(s)]]     RETAINER []',\n",
       " ' Input:     [2 [Item(s)]]     RETAINER []',\n",
       " ' Input:     [2 [Item(s)]]     PACKING []',\n",
       " ' Input:     [2 [Item(s)]]     PLUG []',\n",
       " ' Input:     [2 [Item(s)]]     PIN []',\n",
       " ' Input:     [2 [Item(s)]]     ADAPTER []',\n",
       " ' Input:     [2 [Item(s)]]     SCREW []',\n",
       " ' Input:     [2 [Item(s)]]     RETAINER []',\n",
       " ' Input:     [1 [Item(s)]]     PACKING []',\n",
       " ' Input:     [1 [Item(s)]]     PACKING []',\n",
       " ' Input:     [1 [Item(s)]]     CYLINDER, RETRACT []',\n",
       " ' Input:     [1 [Item(s)]]     SCRAPER []',\n",
       " ' Input:     [1 [Item(s)]]     ROD []',\n",
       " ' Input:     [1 [Item(s)]]     BEARING []',\n",
       " ' Input:     [1 [Item(s)]]     TUBE, TRANSFER []',\n",
       " ' Input:     [1 [Item(s)]]     RING, EXPANDER []',\n",
       " ' Input:     [1 [Item(s)]]     PLATE, LOCKING []',\n",
       " ' Input:     [1 [Item(s)]]     PISTON, RETRACT []',\n",
       " ' Input:     [1 [Item(s)]]     PACKING []',\n",
       " ' Input:     [1 [Item(s)]]     SPACER, PLATE []',\n",
       " ' Input:     [1 [Item(s)]]     LOCKWIRE []',\n",
       " ' Input:     [1 [Item(s)]]     BEARING []',\n",
       " ' Input:     [1 [Item(s)]]     HEAD []',\n",
       " ' Input:     [1 [Item(s)]]     PACKING []',\n",
       " ' Input:     [1 [Item(s)]]     PLATE, IDENT []',\n",
       " ' Input:     [1 [Item(s)]]     SEAL []',\n",
       " 'Output: {*} [2 [Item(s)]] {*} RETRACT ACTUATOR ASSY []']"
      ]
     },
     "execution_count": 7,
     "metadata": {},
     "output_type": "execute_result"
    }
   ],
   "source": [
    "[str(k) for k in frag.inventory()]"
   ]
  },
  {
   "cell_type": "code",
   "execution_count": 8,
   "metadata": {},
   "outputs": [],
   "source": [
    "import sys\n",
    "sys.path.append('/data/GitHub/2019/EPA_PSM_antelope/')"
   ]
  },
  {
   "cell_type": "code",
   "execution_count": 9,
   "metadata": {},
   "outputs": [],
   "source": [
    "from antelope_epa.terminations import PsmTerminationBuilder"
   ]
  },
  {
   "cell_type": "code",
   "execution_count": 11,
   "metadata": {},
   "outputs": [],
   "source": [
    "builder = PsmTerminationBuilder(cat, fg, '../PSM-hackathon-leaf-flows_annotated.xlsx')"
   ]
  },
  {
   "cell_type": "code",
   "execution_count": 12,
   "metadata": {},
   "outputs": [],
   "source": [
    "x = next(_x for _x in frag.inventory() if not _x.is_reference)"
   ]
  },
  {
   "cell_type": "code",
   "execution_count": 12,
   "metadata": {},
   "outputs": [
    {
     "data": {
      "text/plain": [
       "' Input:     [10 [Item(s)]]     FITTING []'"
      ]
     },
     "execution_count": 12,
     "metadata": {},
     "output_type": "execute_result"
    }
   ],
   "source": [
    "str(x)"
   ]
  },
  {
   "cell_type": "code",
   "execution_count": 13,
   "metadata": {},
   "outputs": [
    {
     "data": {
      "text/plain": [
       "{'local.uslci.olca': 'e10de570-42e6-3cb6-98fe-7bf6da57046c',\n",
       " 'local.usepa.useeio.1.1': 'ad81ce2a-e3c5-3695-a2ef-812cd8b79dd3',\n",
       " 'local.ecoinvent.3.4.apos': None,\n",
       " 'local.elcd.3.2': 'db009019-338f-11dd-bd11-0800200c9a66'}"
      ]
     },
     "execution_count": 13,
     "metadata": {},
     "output_type": "execute_result"
    }
   ],
   "source": [
    "builder._get_term_dict(x.flow)\n"
   ]
  },
  {
   "cell_type": "code",
   "execution_count": 14,
   "metadata": {},
   "outputs": [
    {
     "name": "stdout",
     "output_type": "stream",
     "text": [
      "local.uslci.olca: /data/GitHub/2019/EPA_PSM_antelope/catalog/downloads/9f8daaf52dfb8462db119c42c92eb58913353ea1\n",
      "Found Extension: zip\n",
      "Applying stored configuration\n",
      "Applying quantity hint Energy -> Net Calorific Value\n",
      "Applying context hint local.uslci.olca:water => to water\n",
      "Applying context hint local.uslci.olca:air => to air\n",
      "Applying configuration to OpenLcaJsonLdArchive with 0 entities at /data/GitHub/2019/EPA_PSM_antelope/catalog/downloads/9f8daaf52dfb8462db119c42c92eb58913353ea1\n",
      "Setting reference 562918fe-3ff5-33f4-abaa-d8c615380d25 [Output] for 0aaf1e13-5d80-37f9-b7bb-81a6b8965c71\n",
      "Setting reference 30a64e63-3583-3f83-8d8d-0b6ea003b888 [Output] for 0aaf1e13-5d80-37f9-b7bb-81a6b8965c71\n",
      "Setting reference c5f94bb1-b39e-39fa-b616-376a30531c2d [Output] for 0aaf1e13-5d80-37f9-b7bb-81a6b8965c71\n",
      "Setting reference 5f96ad43-abab-3b62-bcf8-c71f9d6c7881 [Output] for 0aaf1e13-5d80-37f9-b7bb-81a6b8965c71\n",
      "Setting reference c4069217-dfd4-324a-9243-2ee8058809d6 [Output] for 0aaf1e13-5d80-37f9-b7bb-81a6b8965c71\n",
      "Setting reference d939590b-a0d7-310c-8952-9921ed64a078 [Output] for 0aaf1e13-5d80-37f9-b7bb-81a6b8965c71\n",
      "Setting reference 588384cf-851f-391e-bf49-c6e5309d76db [Output] for 0aaf1e13-5d80-37f9-b7bb-81a6b8965c71\n",
      "Setting reference 4f1bfabb-f0d3-3f1f-a905-2fd9b36bbfa0 [Output] for 0aaf1e13-5d80-37f9-b7bb-81a6b8965c71\n",
      "Setting reference 0e44e579-abb0-3c77-af64-c774d65be529 [Output] for 0aaf1e13-5d80-37f9-b7bb-81a6b8965c71\n",
      "UnSetting reference d939590b-a0d7-310c-8952-9921ed64a078 [Output] for dc72e285-719b-318b-9c9c-c838846a9cf4\n",
      "UnSetting reference 9dfc9e7c-3c20-3f4d-9d79-d54ec2d8d08b [Output] for 155839ec-d6ab-3ed6-b7c8-45586e676f6d\n",
      "Characterizing flow 588384cf-851f-391e-bf49-c6e5309d76db by 93a60a56-a3c8-11da-a746-0800200b9a66: 500\n",
      "Characterizing flow d939590b-a0d7-310c-8952-9921ed64a078 by 93a60a56-a3c8-11da-a746-0800200b9a66: 850\n",
      "Characterizing flow 0e44e579-abb0-3c77-af64-c774d65be529 by 93a60a56-a3c8-11da-a746-0800200b9a66: 750\n",
      "Characterizing flow c5f94bb1-b39e-39fa-b616-376a30531c2d by 93a60a56-a3c8-11da-a746-0800200b9a66: 809\n",
      "Characterizing flow 562918fe-3ff5-33f4-abaa-d8c615380d25 by 93a60a56-a3c8-11da-a746-0800200b9a66: 975\n",
      "Characterizing flow c4069217-dfd4-324a-9243-2ee8058809d6 by 93a60a56-a3c8-11da-a746-0800200b9a66: 0.737\n",
      "Allocating 0aaf1e13-5d80-37f9-b7bb-81a6b8965c71 by 93a60a56-a3c8-11da-a746-0800200b9a66\n"
     ]
    }
   ],
   "source": [
    "container_frag = builder.build_container(frag, 'local.uslci.olca', 'local.usepa.useeio.1.1')"
   ]
  },
  {
   "cell_type": "code",
   "execution_count": 15,
   "metadata": {},
   "outputs": [
    {
     "name": "stdout",
     "output_type": "stream",
     "text": [
      "   -<--#:: a76f8 [       1 Item(s)] RETRACT ACTUATOR ASSY\n",
      "    [   1 unit] RETRACT ACTUATOR ASSY\n",
      "       | -<--B*  03001 (+      1 Item(s)) CYLINDER, RETRACT\n",
      "       | -<--B*  0743d (+      1 Item(s)) ROD\n",
      "       | -<--B*  358d3 (+      1 Item(s)) SCRAPER\n",
      "       | -<--B*  48556 (+      1 Item(s)) RETAINER\n",
      "       | -<--B*  58093 (+      1 Item(s)) RETAINER\n",
      "       | -<--B*  599c7 (+      1 Item(s)) RING, PISTON\n",
      "       | -<--B*  5d3fb (+      1 Item(s)) PISTON, RETRACT\n",
      "       | -<--B*  625ba (+      1 Item(s)) PLATE, LOCKING\n",
      "       | -<--B*  65af5 (+      1 Item(s)) RETAINER\n",
      "       | -<--B*  70607 (+      1 Item(s)) BEARING\n",
      "       | -<--B*  76851 (+      1 Item(s)) PACKING\n",
      "       | -<--B*  8119e (+      1 Item(s)) PIN\n",
      "       | -<--B*  922d3 (+      1 Item(s)) RETAINER\n",
      "       | -<--B*  97d00 (+      1 Item(s)) RETAINER\n",
      "       | -<--B*  9b5de (+      1 Item(s)) ADAPTER\n",
      "       | -<--B*  a59e4 (+      1 Item(s)) PACKING\n",
      "       | -<--B*  ac375 (+      1 Item(s)) PACKING\n",
      "       | -<--B*  ac641 (+      1 Item(s)) TUBE, TRANSFER\n",
      "       | -<--B*  ae0ef (+      1 Item(s)) SEAL\n",
      "       | -<--B*  bf366 (+      1 Item(s)) BEARING\n",
      "       | -<--B*  c709e (+      1 Item(s)) PACKING\n",
      "       | -<--B*  c9cdc (+      1 Item(s)) RING, EXPANDER\n",
      "       | -<--B*  cbe17 (+      1 Item(s)) PLATE, IDENT\n",
      "       | -<--B*  ce4e1 (+      1 Item(s)) SCREW\n",
      "       | -<--B*  ce896 (+      1 Item(s)) LOCKWIRE\n",
      "       | -<--B*  f3e54 (+      1 Item(s)) HEAD\n",
      "       | -<--B*  f8c46 (+      1 Item(s)) PLUG\n",
      "       | -<--B*  f9b3b (+      1 Item(s)) SPACER, PLATE\n",
      "       | -<--B*  f9b8d (+      1 Item(s)) RETAINER\n",
      "       | -<--B*  fd7ae (+      1 Item(s)) PACKING\n",
      "       x \n"
     ]
    }
   ],
   "source": [
    "container_frag.show_tree('local.usepa.useeio.1.1')"
   ]
  },
  {
   "cell_type": "code",
   "execution_count": 16,
   "metadata": {
    "scrolled": false
   },
   "outputs": [],
   "source": [
    "ffs = [k for k in container_frag.traverse('local.uslci.olca')]"
   ]
  },
  {
   "cell_type": "code",
   "execution_count": 17,
   "metadata": {},
   "outputs": [
    {
     "data": {
      "text/plain": [
       "['a76f8           1 [ Input] -#  74A400800-1001 ASSEMBLY',\n",
       " '44679         0.5 [ Input] -#  74A400800-1001 ASSEMBLY',\n",
       " '40a73         0.5 [ Input] -#  ROD ASSEMBLY',\n",
       " '58121         0.5 [ Input] -#  RING, PISTON',\n",
       " 'd0bf3         0.5 [ Input] -#  HEAD ASSEMBLY',\n",
       " '03001        1.27 [ Input] -#  Office scanner [GLO]',\n",
       " '0743d       0.482 [ Input] -#  Iron, sand casted [RNA]',\n",
       " '358d3      0.0839 [ Input] -#  Ethylene dichloride-vinyl chloride monomer, at plant [RNA]',\n",
       " '48556       0.102 [ Input] -#  Ethylene dichloride-vinyl chloride monomer, at plant [RNA]',\n",
       " '58093       0.192 [ Input] -#  Ethylene dichloride-vinyl chloride monomer, at plant [RNA]',\n",
       " '599c7        0.42 [ Input] -#  Iron, sand casted [RNA]',\n",
       " '5d3fb        1.01 [ Input] -#  Cold rolled sheet, steel, at plant [RNA]',\n",
       " '625ba        1.66 [ Input] -#  Cold rolled sheet, steel, at plant [RNA]',\n",
       " '65af5      0.0836 [ Input] -#  Ethylene dichloride-vinyl chloride monomer, at plant [RNA]',\n",
       " '70607       0.172 [ Input] -#  Steel, stainless 304, flat rolled coil [RNA]',\n",
       " '76851      0.0669 [ Input] -#  Polybutadiene, at plant [RNA]',\n",
       " '8119e       0.462 [ Input] -#  Semi-permanent mold (SPM) casting, aluminum [RNA]',\n",
       " '922d3      0.0883 [ Input] -#  Ethylene dichloride-vinyl chloride monomer, at plant [RNA]',\n",
       " '97d00       0.074 [ Input] -#  Polystyrene, high impact, resin, at plant [RNA]',\n",
       " '9b5de       0.484 [ Input] -#  Steel, stainless 304, flat rolled coil [RNA]',\n",
       " 'a59e4      0.0474 [ Input] -#  Polybutadiene, at plant [RNA]',\n",
       " 'ac375      0.0658 [ Input] -#  Polybutadiene, at plant [RNA]',\n",
       " 'ac641       0.675 [ Input] -#  Cold rolled sheet, steel, at plant [RNA]',\n",
       " 'ae0ef      0.0357 [ Input] -#  Butadiene, at plant [RNA]',\n",
       " 'bf366       0.157 [ Input] -#  Steel, stainless 304, flat rolled coil [RNA]',\n",
       " 'c709e        0.17 [ Input] -#  Polybutadiene, at plant [RNA]',\n",
       " 'c9cdc       0.578 [ Input] -#  Iron, sand casted [RNA]',\n",
       " 'cbe17      0.0691 [ Input] -#  Aluminum, extrusion, at plant [RNA]',\n",
       " 'ce4e1     0.00842 [ Input] -#  Iron and steel, production mix [RNA]',\n",
       " 'ce896     0.00517 [ Input] -#  Iron and steel, production mix [RNA]',\n",
       " 'f3e54       0.443 [ Input] -#  Iron, sand casted [RNA]',\n",
       " 'f8c46       0.819 [ Input] -#  Iron, sand casted [RNA]',\n",
       " 'f9b3b       0.718 [ Input] -#  Cold rolled sheet, steel, at plant [RNA]',\n",
       " 'f9b8d       0.105 [ Input] -#  Ethylene dichloride-vinyl chloride monomer, at plant [RNA]',\n",
       " 'fd7ae       0.131 [ Input] -#  Polybutadiene, at plant [RNA]']"
      ]
     },
     "execution_count": 17,
     "metadata": {},
     "output_type": "execute_result"
    }
   ],
   "source": [
    "# terminated amounts in mass\n",
    "[str(k) for k in ffs]"
   ]
  },
  {
   "cell_type": "code",
   "execution_count": 18,
   "metadata": {},
   "outputs": [
    {
     "data": {
      "text/plain": [
       "['a76f8           1 [ Input] -#  74A400800-1001 ASSEMBLY',\n",
       " '44679         0.5 [ Input] -#  74A400800-1001 ASSEMBLY',\n",
       " '40a73         0.5 [ Input] -#  ROD ASSEMBLY',\n",
       " '58121         0.5 [ Input] -#  RING, PISTON',\n",
       " 'd0bf3         0.5 [ Input] -#  HEAD ASSEMBLY',\n",
       " '03001         343 [ Input] -#  Relay and industrial controls; at manufacturer [United States]',\n",
       " '0743d        76.5 [ Input] -#  Other aircraft parts; at manufacturer [United States]',\n",
       " '358d3         236 [ Input] -#  Other plastic products; at manufacturer [United States]',\n",
       " '48556        33.9 [ Input] -#  Other plastic products; at manufacturer [United States]',\n",
       " '58093         586 [ Input] -#  Other plastic products; at manufacturer [United States]',\n",
       " '599c7         109 [ Input] -#  Other aircraft parts; at manufacturer [United States]',\n",
       " '5d3fb         323 [ Input] -#  Metal pipe fittings, ball and roller bearings, industrial patterns, metal bath fixtures, other misc. fabricated metals; at manufacturer [United States]',\n",
       " '625ba         397 [ Input] -#  Metal pipe fittings, ball and roller bearings, industrial patterns, metal bath fixtures, other misc. fabricated metals; at manufacturer [United States]',\n",
       " '65af5        34.8 [ Input] -#  Other plastic products; at manufacturer [United States]',\n",
       " '70607         402 [ Input] -#  Ball and roller bearings; at manufacturer [United States]',\n",
       " '76851        17.1 [ Input] -#  Synthetic rubber and artificial and synthetic fibers; at manufacturer [United States]',\n",
       " '8119e    1.15e+03 [ Input] -#  Metal pipe fittings, ball and roller bearings, industrial patterns, metal bath fixtures, other misc. fabricated metals; at manufacturer [United States]',\n",
       " '922d3        28.9 [ Input] -#  Other plastic products; at manufacturer [United States]',\n",
       " '97d00        14.9 [ Input] -#  Other plastic products; at manufacturer [United States]',\n",
       " '9b5de        78.4 [ Input] -#  Metal pipe fittings, ball and roller bearings, industrial patterns, metal bath fixtures, other misc. fabricated metals; at manufacturer [United States]',\n",
       " 'a59e4        15.9 [ Input] -#  Synthetic rubber and artificial and synthetic fibers; at manufacturer [United States]',\n",
       " 'ac375        9.43 [ Input] -#  Synthetic rubber and artificial and synthetic fibers; at manufacturer [United States]',\n",
       " 'ac641         418 [ Input] -#  Metal pipe fittings, ball and roller bearings, industrial patterns, metal bath fixtures, other misc. fabricated metals; at manufacturer [United States]',\n",
       " 'ae0ef        8.66 [ Input] -#  Other plastic products; at manufacturer [United States]',\n",
       " 'bf366         426 [ Input] -#  Ball and roller bearings; at manufacturer [United States]',\n",
       " 'c709e        28.1 [ Input] -#  Synthetic rubber and artificial and synthetic fibers; at manufacturer [United States]',\n",
       " 'c9cdc        19.2 [ Input] -#  Other aircraft parts; at manufacturer [United States]',\n",
       " 'cbe17        16.6 [ Input] -#  Aluminum products; at manufacturer [United States]',\n",
       " 'ce4e1       0.236 [ Input] -#  Screws, nuts, and bolts; at manufacturer [United States]',\n",
       " 'ce896        0.93 [ Input] -#  Screws, nuts, and bolts; at manufacturer [United States]',\n",
       " 'f3e54        35.4 [ Input] -#  Other aircraft parts; at manufacturer [United States]',\n",
       " 'f8c46    1.17e+03 [ Input] -#  Fluid meters and counting devices; at manufacturer [United States]',\n",
       " 'f9b3b         542 [ Input] -#  Metal pipe fittings, ball and roller bearings, industrial patterns, metal bath fixtures, other misc. fabricated metals; at manufacturer [United States]',\n",
       " 'f9b8d        23.3 [ Input] -#  Other plastic products; at manufacturer [United States]',\n",
       " 'fd7ae         153 [ Input] -#  Synthetic rubber and artificial and synthetic fibers; at manufacturer [United States]']"
      ]
     },
     "execution_count": 18,
     "metadata": {},
     "output_type": "execute_result"
    }
   ],
   "source": [
    "# terminated amounts in USD\n",
    "[str(k) for k in container_frag.traverse('local.usepa.useeio.1.1')]"
   ]
  },
  {
   "cell_type": "code",
   "execution_count": null,
   "metadata": {},
   "outputs": [],
   "source": []
  },
  {
   "cell_type": "code",
   "execution_count": 19,
   "metadata": {},
   "outputs": [],
   "source": [
    "from lca_disclosures.antelope import AntelopeTraversalDisclosure"
   ]
  },
  {
   "cell_type": "code",
   "execution_count": 20,
   "metadata": {},
   "outputs": [
    {
     "name": "stdout",
     "output_type": "stream",
     "text": [
      "a76f8           1 [ Input] -#  74A400800-1001 ASSEMBLY\n",
      "Handling as FG\n",
      "Adding parent ObservedFragmentFlow(Parent: None, Term: (0,), Magnitude: 1)\n",
      " # descending 0\n",
      "44679         0.5 [ Input] -#  74A400800-1001 ASSEMBLY\n",
      "Handling as FG\n",
      "Adding parent ObservedFragmentFlow(Parent: None, Term: (0, 1), Magnitude: 1)\n",
      "40a73         0.5 [ Input] -#  ROD ASSEMBLY\n",
      "Handling as FG\n",
      "Adding parent ObservedFragmentFlow(Parent: (0, 1), Term: (0, 2), Magnitude: 0.5)\n",
      "58121         0.5 [ Input] -#  RING, PISTON\n",
      "Popped parent ObservedFragmentFlow(Parent: (0, 1), Term: (0, 2), Magnitude: 0.5)\n",
      "Handling as FG\n",
      "Adding parent ObservedFragmentFlow(Parent: (0, 1), Term: (0, 3), Magnitude: 0.5)\n",
      "d0bf3         0.5 [ Input] -#  HEAD ASSEMBLY\n",
      "Popped parent ObservedFragmentFlow(Parent: (0, 1), Term: (0, 3), Magnitude: 0.5)\n",
      "Handling as FG\n",
      "Adding parent ObservedFragmentFlow(Parent: (0, 1), Term: (0, 4), Magnitude: 0.5)\n",
      "03001        1.27 [ Input] -#  Office scanner [GLO]\n",
      "Popped parent ObservedFragmentFlow(Parent: (0, 1), Term: (0, 4), Magnitude: 0.5)\n",
      "Popped parent ObservedFragmentFlow(Parent: None, Term: (0, 1), Magnitude: 1)\n",
      "Handling as BG\n",
      "0743d       0.482 [ Input] -#  Iron, sand casted [RNA]\n",
      "Handling as BG\n",
      "358d3      0.0839 [ Input] -#  Ethylene dichloride-vinyl chloride monomer, at plant [RNA]\n",
      "Handling as BG\n",
      "48556       0.102 [ Input] -#  Ethylene dichloride-vinyl chloride monomer, at plant [RNA]\n",
      "Handling as BG\n",
      "58093       0.192 [ Input] -#  Ethylene dichloride-vinyl chloride monomer, at plant [RNA]\n",
      "Handling as BG\n",
      "599c7        0.42 [ Input] -#  Iron, sand casted [RNA]\n",
      "Handling as BG\n",
      "5d3fb        1.01 [ Input] -#  Cold rolled sheet, steel, at plant [RNA]\n",
      "Handling as BG\n",
      "625ba        1.66 [ Input] -#  Cold rolled sheet, steel, at plant [RNA]\n",
      "Handling as BG\n",
      "65af5      0.0836 [ Input] -#  Ethylene dichloride-vinyl chloride monomer, at plant [RNA]\n",
      "Handling as BG\n",
      "70607       0.172 [ Input] -#  Steel, stainless 304, flat rolled coil [RNA]\n",
      "Handling as BG\n",
      "76851      0.0669 [ Input] -#  Polybutadiene, at plant [RNA]\n",
      "Handling as BG\n",
      "8119e       0.462 [ Input] -#  Semi-permanent mold (SPM) casting, aluminum [RNA]\n",
      "Handling as BG\n",
      "922d3      0.0883 [ Input] -#  Ethylene dichloride-vinyl chloride monomer, at plant [RNA]\n",
      "Handling as BG\n",
      "97d00       0.074 [ Input] -#  Polystyrene, high impact, resin, at plant [RNA]\n",
      "Handling as BG\n",
      "9b5de       0.484 [ Input] -#  Steel, stainless 304, flat rolled coil [RNA]\n",
      "Handling as BG\n",
      "a59e4      0.0474 [ Input] -#  Polybutadiene, at plant [RNA]\n",
      "Handling as BG\n",
      "ac375      0.0658 [ Input] -#  Polybutadiene, at plant [RNA]\n",
      "Handling as BG\n",
      "ac641       0.675 [ Input] -#  Cold rolled sheet, steel, at plant [RNA]\n",
      "Handling as BG\n",
      "ae0ef      0.0357 [ Input] -#  Butadiene, at plant [RNA]\n",
      "Handling as BG\n",
      "bf366       0.157 [ Input] -#  Steel, stainless 304, flat rolled coil [RNA]\n",
      "Handling as BG\n",
      "c709e        0.17 [ Input] -#  Polybutadiene, at plant [RNA]\n",
      "Handling as BG\n",
      "c9cdc       0.578 [ Input] -#  Iron, sand casted [RNA]\n",
      "Handling as BG\n",
      "cbe17      0.0691 [ Input] -#  Aluminum, extrusion, at plant [RNA]\n",
      "Handling as BG\n",
      "ce4e1     0.00842 [ Input] -#  Iron and steel, production mix [RNA]\n",
      "Handling as BG\n",
      "ce896     0.00517 [ Input] -#  Iron and steel, production mix [RNA]\n",
      "Handling as BG\n",
      "f3e54       0.443 [ Input] -#  Iron, sand casted [RNA]\n",
      "Handling as BG\n",
      "f8c46       0.819 [ Input] -#  Iron, sand casted [RNA]\n",
      "Handling as BG\n",
      "f9b3b       0.718 [ Input] -#  Cold rolled sheet, steel, at plant [RNA]\n",
      "Handling as BG\n",
      "f9b8d       0.105 [ Input] -#  Ethylene dichloride-vinyl chloride monomer, at plant [RNA]\n",
      "Handling as BG\n",
      "fd7ae       0.131 [ Input] -#  Polybutadiene, at plant [RNA]\n",
      "Handling as BG\n"
     ]
    }
   ],
   "source": [
    "ads = AntelopeTraversalDisclosure(container_frag.traverse(scenario='local.uslci.olca'))"
   ]
  },
  {
   "cell_type": "code",
   "execution_count": 21,
   "metadata": {},
   "outputs": [
    {
     "data": {
      "text/plain": [
       "'retract-actuator_olca_descend.xlsx'"
      ]
     },
     "execution_count": 21,
     "metadata": {},
     "output_type": "execute_result"
    }
   ],
   "source": [
    "ads.write_excel('retract-actuator_olca_descend')"
   ]
  },
  {
   "cell_type": "code",
   "execution_count": 22,
   "metadata": {},
   "outputs": [
    {
     "name": "stdout",
     "output_type": "stream",
     "text": [
      "a76f8           1 [ Input] -#  74A400800-1001 ASSEMBLY\n",
      "Handling as FG\n",
      "Adding parent ObservedFragmentFlow(Parent: None, Term: (0,), Magnitude: 1)\n",
      " # descending 0\n",
      "44679         0.5 [ Input] -#  74A400800-1001 ASSEMBLY\n",
      "Handling as FG\n",
      "Adding parent ObservedFragmentFlow(Parent: None, Term: (0, 1), Magnitude: 1)\n",
      "40a73         0.5 [ Input] -#  ROD ASSEMBLY\n",
      "Handling as FG\n",
      "Adding parent ObservedFragmentFlow(Parent: (0, 1), Term: (0, 2), Magnitude: 0.5)\n",
      "58121         0.5 [ Input] -#  RING, PISTON\n",
      "Popped parent ObservedFragmentFlow(Parent: (0, 1), Term: (0, 2), Magnitude: 0.5)\n",
      "Handling as FG\n",
      "Adding parent ObservedFragmentFlow(Parent: (0, 1), Term: (0, 3), Magnitude: 0.5)\n",
      "d0bf3         0.5 [ Input] -#  HEAD ASSEMBLY\n",
      "Popped parent ObservedFragmentFlow(Parent: (0, 1), Term: (0, 3), Magnitude: 0.5)\n",
      "Handling as FG\n",
      "Adding parent ObservedFragmentFlow(Parent: (0, 1), Term: (0, 4), Magnitude: 0.5)\n",
      "03001         343 [ Input] -#  Relay and industrial controls; at manufacturer [United States]\n",
      "Popped parent ObservedFragmentFlow(Parent: (0, 1), Term: (0, 4), Magnitude: 0.5)\n",
      "Popped parent ObservedFragmentFlow(Parent: None, Term: (0, 1), Magnitude: 1)\n",
      "Handling as BG\n",
      "0743d        76.5 [ Input] -#  Other aircraft parts; at manufacturer [United States]\n",
      "Handling as BG\n",
      "358d3         236 [ Input] -#  Other plastic products; at manufacturer [United States]\n",
      "Handling as BG\n",
      "48556        33.9 [ Input] -#  Other plastic products; at manufacturer [United States]\n",
      "Handling as BG\n",
      "58093         586 [ Input] -#  Other plastic products; at manufacturer [United States]\n",
      "Handling as BG\n",
      "599c7         109 [ Input] -#  Other aircraft parts; at manufacturer [United States]\n",
      "Handling as BG\n",
      "5d3fb         323 [ Input] -#  Metal pipe fittings, ball and roller bearings, industrial patterns, metal bath fixtures, other misc. fabricated metals; at manufacturer [United States]\n",
      "Handling as BG\n",
      "625ba         397 [ Input] -#  Metal pipe fittings, ball and roller bearings, industrial patterns, metal bath fixtures, other misc. fabricated metals; at manufacturer [United States]\n",
      "Handling as BG\n",
      "65af5        34.8 [ Input] -#  Other plastic products; at manufacturer [United States]\n",
      "Handling as BG\n",
      "70607         402 [ Input] -#  Ball and roller bearings; at manufacturer [United States]\n",
      "Handling as BG\n",
      "76851        17.1 [ Input] -#  Synthetic rubber and artificial and synthetic fibers; at manufacturer [United States]\n",
      "Handling as BG\n",
      "8119e    1.15e+03 [ Input] -#  Metal pipe fittings, ball and roller bearings, industrial patterns, metal bath fixtures, other misc. fabricated metals; at manufacturer [United States]\n",
      "Handling as BG\n",
      "922d3        28.9 [ Input] -#  Other plastic products; at manufacturer [United States]\n",
      "Handling as BG\n",
      "97d00        14.9 [ Input] -#  Other plastic products; at manufacturer [United States]\n",
      "Handling as BG\n",
      "9b5de        78.4 [ Input] -#  Metal pipe fittings, ball and roller bearings, industrial patterns, metal bath fixtures, other misc. fabricated metals; at manufacturer [United States]\n",
      "Handling as BG\n",
      "a59e4        15.9 [ Input] -#  Synthetic rubber and artificial and synthetic fibers; at manufacturer [United States]\n",
      "Handling as BG\n",
      "ac375        9.43 [ Input] -#  Synthetic rubber and artificial and synthetic fibers; at manufacturer [United States]\n",
      "Handling as BG\n",
      "ac641         418 [ Input] -#  Metal pipe fittings, ball and roller bearings, industrial patterns, metal bath fixtures, other misc. fabricated metals; at manufacturer [United States]\n",
      "Handling as BG\n",
      "ae0ef        8.66 [ Input] -#  Other plastic products; at manufacturer [United States]\n",
      "Handling as BG\n",
      "bf366         426 [ Input] -#  Ball and roller bearings; at manufacturer [United States]\n",
      "Handling as BG\n",
      "c709e        28.1 [ Input] -#  Synthetic rubber and artificial and synthetic fibers; at manufacturer [United States]\n",
      "Handling as BG\n",
      "c9cdc        19.2 [ Input] -#  Other aircraft parts; at manufacturer [United States]\n",
      "Handling as BG\n",
      "cbe17        16.6 [ Input] -#  Aluminum products; at manufacturer [United States]\n",
      "Handling as BG\n",
      "ce4e1       0.236 [ Input] -#  Screws, nuts, and bolts; at manufacturer [United States]\n",
      "Handling as BG\n",
      "ce896        0.93 [ Input] -#  Screws, nuts, and bolts; at manufacturer [United States]\n",
      "Handling as BG\n",
      "f3e54        35.4 [ Input] -#  Other aircraft parts; at manufacturer [United States]\n",
      "Handling as BG\n",
      "f8c46    1.17e+03 [ Input] -#  Fluid meters and counting devices; at manufacturer [United States]\n",
      "Handling as BG\n",
      "f9b3b         542 [ Input] -#  Metal pipe fittings, ball and roller bearings, industrial patterns, metal bath fixtures, other misc. fabricated metals; at manufacturer [United States]\n",
      "Handling as BG\n",
      "f9b8d        23.3 [ Input] -#  Other plastic products; at manufacturer [United States]\n",
      "Handling as BG\n",
      "fd7ae         153 [ Input] -#  Synthetic rubber and artificial and synthetic fibers; at manufacturer [United States]\n",
      "Handling as BG\n"
     ]
    }
   ],
   "source": [
    "adt = AntelopeTraversalDisclosure(container_frag.traverse(scenario='local.usepa.useeio.1.1'))"
   ]
  },
  {
   "cell_type": "code",
   "execution_count": 23,
   "metadata": {},
   "outputs": [
    {
     "data": {
      "text/plain": [
       "'retract-actuator_useeio_descend.xlsx'"
      ]
     },
     "execution_count": 23,
     "metadata": {},
     "output_type": "execute_result"
    }
   ],
   "source": [
    "adt.write_excel('retract-actuator_useeio_descend.xlsx')"
   ]
  },
  {
   "cell_type": "code",
   "execution_count": 24,
   "metadata": {},
   "outputs": [
    {
     "name": "stdout",
     "output_type": "stream",
     "text": [
      "   -<--#:: a76f8 [       1 Item(s)] RETRACT ACTUATOR ASSY\n",
      "    [   1 unit] RETRACT ACTUATOR ASSY\n",
      "       | -<--B*  03001 (+      1 Item(s)) CYLINDER, RETRACT\n",
      "       | -<--B*  0743d (+      1 Item(s)) ROD\n",
      "       | -<--B*  358d3 (+      1 Item(s)) SCRAPER\n",
      "       | -<--B*  48556 (+      1 Item(s)) RETAINER\n",
      "       | -<--B*  58093 (+      1 Item(s)) RETAINER\n",
      "       | -<--B*  599c7 (+      1 Item(s)) RING, PISTON\n",
      "       | -<--B*  5d3fb (+      1 Item(s)) PISTON, RETRACT\n",
      "       | -<--B*  625ba (+      1 Item(s)) PLATE, LOCKING\n",
      "       | -<--B*  65af5 (+      1 Item(s)) RETAINER\n",
      "       | -<--B*  70607 (+      1 Item(s)) BEARING\n",
      "       | -<--B*  76851 (+      1 Item(s)) PACKING\n",
      "       | -<--B*  8119e (+      1 Item(s)) PIN\n",
      "       | -<--B*  922d3 (+      1 Item(s)) RETAINER\n",
      "       | -<--B*  97d00 (+      1 Item(s)) RETAINER\n",
      "       | -<--B*  9b5de (+      1 Item(s)) ADAPTER\n",
      "       | -<--B*  a59e4 (+      1 Item(s)) PACKING\n",
      "       | -<--B*  ac375 (+      1 Item(s)) PACKING\n",
      "       | -<--B*  ac641 (+      1 Item(s)) TUBE, TRANSFER\n",
      "       | -<--B*  ae0ef (+      1 Item(s)) SEAL\n",
      "       | -<--B*  bf366 (+      1 Item(s)) BEARING\n",
      "       | -<--B*  c709e (+      1 Item(s)) PACKING\n",
      "       | -<--B*  c9cdc (+      1 Item(s)) RING, EXPANDER\n",
      "       | -<--B*  cbe17 (+      1 Item(s)) PLATE, IDENT\n",
      "       | -<--B*  ce4e1 (+      1 Item(s)) SCREW\n",
      "       | -<--B*  ce896 (+      1 Item(s)) LOCKWIRE\n",
      "       | -<--B*  f3e54 (+      1 Item(s)) HEAD\n",
      "       | -<--B*  f8c46 (+      1 Item(s)) PLUG\n",
      "       | -<--B*  f9b3b (+      1 Item(s)) SPACER, PLATE\n",
      "       | -<--B*  f9b8d (+      1 Item(s)) RETAINER\n",
      "       | -<--B*  fd7ae (+      1 Item(s)) PACKING\n",
      "       x \n"
     ]
    }
   ],
   "source": [
    "container_frag.show_tree('local.uslci.olca')"
   ]
  },
  {
   "cell_type": "code",
   "execution_count": 25,
   "metadata": {},
   "outputs": [],
   "source": [
    "container_frag.term.descend = False"
   ]
  },
  {
   "cell_type": "code",
   "execution_count": 26,
   "metadata": {
    "scrolled": false
   },
   "outputs": [
    {
     "name": "stdout",
     "output_type": "stream",
     "text": [
      "a76f8         0.5 [ Input] -#  74A400800-1001 ASSEMBLY\n",
      "Handling as FG\n",
      "Adding parent ObservedFragmentFlow(Parent: None, Term: (0,), Magnitude: 1)\n",
      "03001        1.27 [ Input] -#  Office scanner [GLO]\n",
      "Handling as BG\n",
      "Adding Cutoff  * negated\n",
      "0743d       0.482 [ Input] -#  Iron, sand casted [RNA]\n",
      "Handling as BG\n",
      "Adding Cutoff  * negated\n",
      "358d3      0.0839 [ Input] -#  Ethylene dichloride-vinyl chloride monomer, at plant [RNA]\n",
      "Handling as BG\n",
      "Adding Cutoff  * negated\n",
      "48556       0.102 [ Input] -#  Ethylene dichloride-vinyl chloride monomer, at plant [RNA]\n",
      "Handling as BG\n",
      "Adding Cutoff  * negated\n",
      "58093       0.192 [ Input] -#  Ethylene dichloride-vinyl chloride monomer, at plant [RNA]\n",
      "Handling as BG\n",
      "Adding Cutoff  * negated\n",
      "599c7        0.42 [ Input] -#  Iron, sand casted [RNA]\n",
      "Handling as BG\n",
      "Adding Cutoff  * negated\n",
      "5d3fb        1.01 [ Input] -#  Cold rolled sheet, steel, at plant [RNA]\n",
      "Handling as BG\n",
      "Adding Cutoff  * negated\n",
      "625ba        1.66 [ Input] -#  Cold rolled sheet, steel, at plant [RNA]\n",
      "Handling as BG\n",
      "Adding Cutoff  * negated\n",
      "65af5      0.0836 [ Input] -#  Ethylene dichloride-vinyl chloride monomer, at plant [RNA]\n",
      "Handling as BG\n",
      "Adding Cutoff  * negated\n",
      "70607       0.172 [ Input] -#  Steel, stainless 304, flat rolled coil [RNA]\n",
      "Handling as BG\n",
      "Adding Cutoff  * negated\n",
      "76851      0.0669 [ Input] -#  Polybutadiene, at plant [RNA]\n",
      "Handling as BG\n",
      "Adding Cutoff  * negated\n",
      "8119e       0.462 [ Input] -#  Semi-permanent mold (SPM) casting, aluminum [RNA]\n",
      "Handling as BG\n",
      "Adding Cutoff  * negated\n",
      "922d3      0.0883 [ Input] -#  Ethylene dichloride-vinyl chloride monomer, at plant [RNA]\n",
      "Handling as BG\n",
      "Adding Cutoff  * negated\n",
      "97d00       0.074 [ Input] -#  Polystyrene, high impact, resin, at plant [RNA]\n",
      "Handling as BG\n",
      "Adding Cutoff  * negated\n",
      "9b5de       0.484 [ Input] -#  Steel, stainless 304, flat rolled coil [RNA]\n",
      "Handling as BG\n",
      "Adding Cutoff  * negated\n",
      "a59e4      0.0474 [ Input] -#  Polybutadiene, at plant [RNA]\n",
      "Handling as BG\n",
      "Adding Cutoff  * negated\n",
      "ac375      0.0658 [ Input] -#  Polybutadiene, at plant [RNA]\n",
      "Handling as BG\n",
      "Adding Cutoff  * negated\n",
      "ac641       0.675 [ Input] -#  Cold rolled sheet, steel, at plant [RNA]\n",
      "Handling as BG\n",
      "Adding Cutoff  * negated\n",
      "ae0ef      0.0357 [ Input] -#  Butadiene, at plant [RNA]\n",
      "Handling as BG\n",
      "Adding Cutoff  * negated\n",
      "bf366       0.157 [ Input] -#  Steel, stainless 304, flat rolled coil [RNA]\n",
      "Handling as BG\n",
      "Adding Cutoff  * negated\n",
      "c709e        0.17 [ Input] -#  Polybutadiene, at plant [RNA]\n",
      "Handling as BG\n",
      "Adding Cutoff  * negated\n",
      "c9cdc       0.578 [ Input] -#  Iron, sand casted [RNA]\n",
      "Handling as BG\n",
      "Adding Cutoff  * negated\n",
      "cbe17      0.0691 [ Input] -#  Aluminum, extrusion, at plant [RNA]\n",
      "Handling as BG\n",
      "Adding Cutoff  * negated\n",
      "ce4e1     0.00842 [ Input] -#  Iron and steel, production mix [RNA]\n",
      "Handling as BG\n",
      "Adding Cutoff  * negated\n",
      "ce896     0.00517 [ Input] -#  Iron and steel, production mix [RNA]\n",
      "Handling as BG\n",
      "Adding Cutoff  * negated\n",
      "f3e54       0.443 [ Input] -#  Iron, sand casted [RNA]\n",
      "Handling as BG\n",
      "Adding Cutoff  * negated\n",
      "f8c46       0.819 [ Input] -#  Iron, sand casted [RNA]\n",
      "Handling as BG\n",
      "Adding Cutoff  * negated\n",
      "f9b3b       0.718 [ Input] -#  Cold rolled sheet, steel, at plant [RNA]\n",
      "Handling as BG\n",
      "Adding Cutoff  * negated\n",
      "f9b8d       0.105 [ Input] -#  Ethylene dichloride-vinyl chloride monomer, at plant [RNA]\n",
      "Handling as BG\n",
      "Adding Cutoff  * negated\n",
      "fd7ae       0.131 [ Input] -#  Polybutadiene, at plant [RNA]\n",
      "Handling as BG\n",
      "Adding Cutoff  * negated\n",
      "44679           1 [ Input] -#  74A400800-1001 ASSEMBLY\n",
      "Handling as FG\n",
      "Adding parent ObservedFragmentFlow(Parent: None, Term: (31,), Magnitude: 2)\n",
      "126be           2 [ Input] --: RETAINER\n",
      "Adding Cutoff \n",
      "1d01b           1 [ Input] --: PACKING\n",
      "Adding Cutoff \n",
      "23fb1           1 [ Input] --: PACKING\n",
      "Adding Cutoff \n",
      "338d3           1 [ Input] --: CYLINDER, RETRACT\n",
      "Adding Cutoff \n",
      "33b39           1 [ Input] --: SCRAPER\n",
      "Adding Cutoff \n",
      "34a24           2 [ Input] --: RETAINER\n",
      "Adding Cutoff \n",
      "34a9d           2 [ Input] --: RETAINER\n",
      "Adding Cutoff \n",
      "40a73           1 [ Input] -#  ROD ASSEMBLY\n",
      "Handling as FG\n",
      "Adding parent ObservedFragmentFlow(Parent: (31,), Term: (39,), Magnitude: 1)\n",
      "04ce8           1 [ Input] --: ROD\n",
      "Adding Cutoff \n",
      "142fa           1 [ Input] --: BEARING\n",
      "Adding Cutoff \n",
      "540e0           1 [ Input] --: TUBE, TRANSFER\n",
      "Popped parent ObservedFragmentFlow(Parent: (31,), Term: (39,), Magnitude: 1)\n",
      "Adding Cutoff \n",
      "58121           1 [ Input] -#  RING, PISTON\n",
      "Handling as FG\n",
      "Adding parent ObservedFragmentFlow(Parent: (31,), Term: (43,), Magnitude: 1)\n",
      "8d1bf           2 [ Input] --: RING, PISTON\n",
      "Adding Cutoff \n",
      "ceced           1 [ Input] --: RING, EXPANDER\n",
      "Adding Cutoff \n",
      "82b88           2 [ Input] --: RETAINER\n",
      "Popped parent ObservedFragmentFlow(Parent: (31,), Term: (43,), Magnitude: 1)\n",
      "Adding Cutoff \n",
      "8f01b           1 [ Input] --: PLATE, LOCKING\n",
      "Adding Cutoff \n",
      "8f8d0           1 [ Input] --: PISTON, RETRACT\n",
      "Adding Cutoff \n",
      "b1cc4           1 [ Input] --: PACKING\n",
      "Adding Cutoff \n",
      "c16fc           2 [ Input] --: RETAINER\n",
      "Adding Cutoff \n",
      "c668b           1 [ Input] --: SPACER, PLATE\n",
      "Adding Cutoff \n",
      "c840d           1 [ Input] --: LOCKWIRE\n",
      "Adding Cutoff \n",
      "d0bf3           1 [ Input] -#  HEAD ASSEMBLY\n",
      "Handling as FG\n",
      "Adding parent ObservedFragmentFlow(Parent: (31,), Term: (53,), Magnitude: 1)\n",
      "392df           1 [ Input] --: BEARING\n",
      "Adding Cutoff \n",
      "3e525           2 [ Input] --: PACKING\n",
      "Adding Cutoff \n",
      "91b6e           2 [ Input] --: PLUG\n",
      "Adding Cutoff \n",
      "9b49d           1 [ Input] --: HEAD\n",
      "Adding Cutoff \n",
      "b6890           2 [ Input] --: PIN\n",
      "Adding Cutoff \n",
      "bbd04           2 [ Input] --: ADAPTER\n",
      "Adding Cutoff \n",
      "d25ed           1 [ Input] --: PACKING\n",
      "Popped parent ObservedFragmentFlow(Parent: (31,), Term: (53,), Magnitude: 1)\n",
      "Adding Cutoff \n",
      "d4d53           2 [ Input] --: SCREW\n",
      "Adding Cutoff \n",
      "de72a           1 [ Input] --: PLATE, IDENT\n",
      "Adding Cutoff \n",
      "ea954           1 [ Input] --: SEAL\n",
      "Adding Cutoff \n",
      "f0c29           2 [ Input] --: RETAINER\n",
      "Adding Cutoff \n"
     ]
    }
   ],
   "source": [
    "ad_nodesc_asspl = AntelopeTraversalDisclosure(container_frag.traverse(scenario='local.uslci.olca'))"
   ]
  },
  {
   "cell_type": "code",
   "execution_count": 27,
   "metadata": {},
   "outputs": [
    {
     "data": {
      "text/plain": [
       "'retract-actuator_olca_nondescend.xlsx'"
      ]
     },
     "execution_count": 27,
     "metadata": {},
     "output_type": "execute_result"
    }
   ],
   "source": [
    "ad_nodesc_asspl.write_excel('retract-actuator_olca_nondescend.xlsx')"
   ]
  },
  {
   "cell_type": "code",
   "execution_count": null,
   "metadata": {},
   "outputs": [],
   "source": []
  },
  {
   "cell_type": "code",
   "execution_count": 28,
   "metadata": {},
   "outputs": [
    {
     "data": {
      "text/plain": [
       "True"
      ]
     },
     "execution_count": 28,
     "metadata": {},
     "output_type": "execute_result"
    }
   ],
   "source": [
    "container_frag.term.term_node is frag"
   ]
  },
  {
   "cell_type": "code",
   "execution_count": 29,
   "metadata": {},
   "outputs": [
    {
     "name": "stdout",
     "output_type": "stream",
     "text": [
      "126be           2 [ Input] --: RETAINER\n",
      "1d01b           1 [ Input] --: PACKING\n",
      "23fb1           1 [ Input] --: PACKING\n",
      "338d3           1 [ Input] --: CYLINDER, RETRACT\n",
      "33b39           1 [ Input] --: SCRAPER\n",
      "34a24           2 [ Input] --: RETAINER\n",
      "34a9d           2 [ Input] --: RETAINER\n",
      "04ce8           1 [ Input] --: ROD\n",
      "142fa           1 [ Input] --: BEARING\n",
      "540e0           1 [ Input] --: TUBE, TRANSFER\n",
      "8d1bf           2 [ Input] --: RING, PISTON\n",
      "ceced           1 [ Input] --: RING, EXPANDER\n",
      "82b88           2 [ Input] --: RETAINER\n",
      "8f01b           1 [ Input] --: PLATE, LOCKING\n",
      "8f8d0           1 [ Input] --: PISTON, RETRACT\n",
      "b1cc4           1 [ Input] --: PACKING\n",
      "c16fc           2 [ Input] --: RETAINER\n",
      "c668b           1 [ Input] --: SPACER, PLATE\n",
      "c840d           1 [ Input] --: LOCKWIRE\n",
      "392df           1 [ Input] --: BEARING\n",
      "3e525           2 [ Input] --: PACKING\n",
      "91b6e           2 [ Input] --: PLUG\n",
      "9b49d           1 [ Input] --: HEAD\n",
      "b6890           2 [ Input] --: PIN\n",
      "bbd04           2 [ Input] --: ADAPTER\n",
      "d25ed           1 [ Input] --: PACKING\n",
      "d4d53           2 [ Input] --: SCREW\n",
      "de72a           1 [ Input] --: PLATE, IDENT\n",
      "ea954           1 [ Input] --: SEAL\n",
      "f0c29           2 [ Input] --: RETAINER\n"
     ]
    }
   ],
   "source": [
    "builder.terminate_leaf_nodes(frag, 'local.uslci.olca', scenario='breakout')"
   ]
  },
  {
   "cell_type": "code",
   "execution_count": 30,
   "metadata": {},
   "outputs": [],
   "source": [
    "container_frag.term.descend = True"
   ]
  },
  {
   "cell_type": "code",
   "execution_count": 31,
   "metadata": {},
   "outputs": [
    {
     "name": "stdout",
     "output_type": "stream",
     "text": [
      "a76f8           1 [ Input] -#  74A400800-1001 ASSEMBLY\n",
      "Handling as FG\n",
      "Adding parent ObservedFragmentFlow(Parent: None, Term: (0,), Magnitude: 1)\n",
      " # descending 0\n",
      "44679         0.5 [ Input] -#  74A400800-1001 ASSEMBLY\n",
      "Handling as FG\n",
      "Adding parent ObservedFragmentFlow(Parent: None, Term: (0, 1), Magnitude: 1)\n",
      "126be       0.074 [ Input] -#  Polystyrene, high impact, resin, at plant [RNA]\n",
      "Handling as BG\n",
      "1d01b       0.131 [ Input] -#  Polybutadiene, at plant [RNA]\n",
      "Handling as BG\n",
      "23fb1      0.0669 [ Input] -#  Polybutadiene, at plant [RNA]\n",
      "Handling as BG\n",
      "338d3        1.27 [ Input] -#  Office scanner [GLO]\n",
      "Handling as BG\n",
      "33b39      0.0839 [ Input] -#  Ethylene dichloride-vinyl chloride monomer, at plant [RNA]\n",
      "Handling as BG\n",
      "34a24       0.102 [ Input] -#  Ethylene dichloride-vinyl chloride monomer, at plant [RNA]\n",
      "Handling as BG\n",
      "34a9d       0.192 [ Input] -#  Ethylene dichloride-vinyl chloride monomer, at plant [RNA]\n",
      "Handling as BG\n",
      "40a73         0.5 [ Input] -#  ROD ASSEMBLY\n",
      "Handling as FG\n",
      "Adding parent ObservedFragmentFlow(Parent: (0, 1), Term: (0, 9), Magnitude: 0.5)\n",
      "04ce8       0.482 [ Input] -#  Iron, sand casted [RNA]\n",
      "Handling as BG\n",
      "142fa       0.172 [ Input] -#  Steel, stainless 304, flat rolled coil [RNA]\n",
      "Handling as BG\n",
      "540e0       0.675 [ Input] -#  Cold rolled sheet, steel, at plant [RNA]\n",
      "Popped parent ObservedFragmentFlow(Parent: (0, 1), Term: (0, 9), Magnitude: 0.5)\n",
      "Handling as BG\n",
      "58121         0.5 [ Input] -#  RING, PISTON\n",
      "Handling as FG\n",
      "Adding parent ObservedFragmentFlow(Parent: (0, 1), Term: (0, 13), Magnitude: 0.5)\n",
      "8d1bf        0.42 [ Input] -#  Iron, sand casted [RNA]\n",
      "Handling as BG\n",
      "ceced       0.578 [ Input] -#  Iron, sand casted [RNA]\n",
      "Handling as BG\n",
      "82b88      0.0883 [ Input] -#  Ethylene dichloride-vinyl chloride monomer, at plant [RNA]\n",
      "Popped parent ObservedFragmentFlow(Parent: (0, 1), Term: (0, 13), Magnitude: 0.5)\n",
      "Handling as BG\n",
      "8f01b        1.66 [ Input] -#  Cold rolled sheet, steel, at plant [RNA]\n",
      "Handling as BG\n",
      "8f8d0        1.01 [ Input] -#  Cold rolled sheet, steel, at plant [RNA]\n",
      "Handling as BG\n",
      "b1cc4      0.0658 [ Input] -#  Polybutadiene, at plant [RNA]\n",
      "Handling as BG\n",
      "c16fc       0.105 [ Input] -#  Ethylene dichloride-vinyl chloride monomer, at plant [RNA]\n",
      "Handling as BG\n",
      "c668b       0.718 [ Input] -#  Cold rolled sheet, steel, at plant [RNA]\n",
      "Handling as BG\n",
      "c840d     0.00517 [ Input] -#  Iron and steel, production mix [RNA]\n",
      "Handling as BG\n",
      "d0bf3         0.5 [ Input] -#  HEAD ASSEMBLY\n",
      "Handling as FG\n",
      "Adding parent ObservedFragmentFlow(Parent: (0, 1), Term: (0, 23), Magnitude: 0.5)\n",
      "392df       0.157 [ Input] -#  Steel, stainless 304, flat rolled coil [RNA]\n",
      "Handling as BG\n",
      "3e525        0.17 [ Input] -#  Polybutadiene, at plant [RNA]\n",
      "Handling as BG\n",
      "91b6e       0.819 [ Input] -#  Iron, sand casted [RNA]\n",
      "Handling as BG\n",
      "9b49d       0.443 [ Input] -#  Iron, sand casted [RNA]\n",
      "Handling as BG\n",
      "b6890       0.462 [ Input] -#  Semi-permanent mold (SPM) casting, aluminum [RNA]\n",
      "Handling as BG\n",
      "bbd04       0.484 [ Input] -#  Steel, stainless 304, flat rolled coil [RNA]\n",
      "Handling as BG\n",
      "d25ed      0.0474 [ Input] -#  Polybutadiene, at plant [RNA]\n",
      "Popped parent ObservedFragmentFlow(Parent: (0, 1), Term: (0, 23), Magnitude: 0.5)\n",
      "Handling as BG\n",
      "d4d53     0.00842 [ Input] -#  Iron and steel, production mix [RNA]\n",
      "Handling as BG\n",
      "de72a      0.0691 [ Input] -#  Aluminum, extrusion, at plant [RNA]\n",
      "Handling as BG\n",
      "ea954      0.0357 [ Input] -#  Butadiene, at plant [RNA]\n",
      "Handling as BG\n",
      "f0c29      0.0836 [ Input] -#  Ethylene dichloride-vinyl chloride monomer, at plant [RNA]\n",
      "Handling as BG\n"
     ]
    }
   ],
   "source": [
    "ad_termed = AntelopeTraversalDisclosure(container_frag.traverse('breakout'))"
   ]
  },
  {
   "cell_type": "code",
   "execution_count": 32,
   "metadata": {},
   "outputs": [
    {
     "data": {
      "text/plain": [
       "'retract-actuator_olca_termed.xlsx'"
      ]
     },
     "execution_count": 32,
     "metadata": {},
     "output_type": "execute_result"
    }
   ],
   "source": [
    "ad_termed.write_excel('retract-actuator_olca_termed.xlsx')"
   ]
  }
 ],
 "metadata": {
  "kernelspec": {
   "display_name": "lca-tools",
   "language": "python",
   "name": "lca-tools"
  },
  "language_info": {
   "codemirror_mode": {
    "name": "ipython",
    "version": 3
   },
   "file_extension": ".py",
   "mimetype": "text/x-python",
   "name": "python",
   "nbconvert_exporter": "python",
   "pygments_lexer": "ipython3",
   "version": "3.7.3"
  }
 },
 "nbformat": 4,
 "nbformat_minor": 2
}
