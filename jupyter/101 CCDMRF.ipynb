{
 "cells": [
  {
   "cell_type": "markdown",
   "metadata": {},
   "source": [
    "## Construction and Demolition MRF\n",
    "Here I will attempt to use Antelope tools (if not precisely tools developed for the hackathon) to render a supplied OpenLCA model of a MRF as a product system."
   ]
  },
  {
   "cell_type": "code",
   "execution_count": 1,
   "metadata": {},
   "outputs": [],
   "source": [
    "from antelope_catalog  import LcCatalog"
   ]
  },
  {
   "cell_type": "code",
   "execution_count": 2,
   "metadata": {},
   "outputs": [
    {
     "name": "stdout",
     "output_type": "stream",
     "text": [
      "Loading JSON data from /data/GitHub/2019/EPA_PSM_antelope/catalog/reference-quantities.json:\n",
      "local.qdb: /data/GitHub/2019/EPA_PSM_antelope/catalog/reference-quantities.json\n",
      "local.qdb: /data/GitHub/lca-tools/lcatools/qdb/data/elcd_reference_quantities.json\n",
      "25 new quantity entities added (25 total)\n",
      "6 new flow entities added (6 total)\n"
     ]
    }
   ],
   "source": [
    "cat = LcCatalog('/data/GitHub/2019/EPA_PSM_antelope/catalog/')"
   ]
  },
  {
   "cell_type": "code",
   "execution_count": 3,
   "metadata": {},
   "outputs": [
    {
     "name": "stdout",
     "output_type": "stream",
     "text": [
      "Help on method new_resource in module antelope_catalog.catalog.catalog:\n",
      "\n",
      "new_resource(*args, store=True, **kwargs) method of antelope_catalog.catalog.catalog.LcCatalog instance\n",
      "    Create a new data resource by specifying its properties directly to the constructor\n",
      "    :param args: reference, source, ds_type\n",
      "    :param store: [True] permanently store this resource\n",
      "    :param kwargs: interfaces=None, priority=0, static=False; **kwargs passed to archive constructor\n",
      "    :return:\n",
      "\n"
     ]
    }
   ],
   "source": [
    "help(cat.new_resource)"
   ]
  },
  {
   "cell_type": "code",
   "execution_count": 4,
   "metadata": {},
   "outputs": [
    {
     "name": "stdout",
     "output_type": "stream",
     "text": [
      "foreground.psm-hackathon [basic, foreground, index, quantity]\n",
      "local.ecoinvent.3.4.apos [basic, inventory]\n",
      "local.ecoinvent.3.4.apos.index.20190528 [basic, index]\n",
      "local.elcd.3.2 [basic, inventory, quantity]\n",
      "local.elcd.3.2.index.20190528 [basic, index]\n",
      "local.qdb [basic, index, quantity]\n",
      "local.usepa.useeio.1.1 [basic, inventory, quantity]\n",
      "local.usepa.useeio.1.1.index.20190528 [background, basic, index]\n",
      "local.uslci.olca [basic, inventory, quantity]\n",
      "local.uslci.olca.index.20190528 [background, basic, index]\n"
     ]
    }
   ],
   "source": [
    "cat.show_interfaces()"
   ]
  },
  {
   "cell_type": "code",
   "execution_count": 9,
   "metadata": {},
   "outputs": [
    {
     "data": {
      "text/plain": [
       "LcResource(epa.ccdmrf, dataSource=/data/GitHub/2019/LCAproductsystemassembly_resources/data/CDDMRF/:OpenLCAJsonLDArchive, ['basic'] [50])"
      ]
     },
     "execution_count": 9,
     "metadata": {},
     "output_type": "execute_result"
    }
   ],
   "source": [
    "res"
   ]
  },
  {
   "cell_type": "code",
   "execution_count": 10,
   "metadata": {},
   "outputs": [
    {
     "name": "stdout",
     "output_type": "stream",
     "text": [
      "epa.ccdmrf [basic]\n",
      "foreground.psm-hackathon [basic, foreground, index, quantity]\n",
      "local.ecoinvent.3.4.apos [basic, inventory]\n",
      "local.ecoinvent.3.4.apos.index.20190528 [basic, index]\n",
      "local.elcd.3.2 [basic, inventory, quantity]\n",
      "local.elcd.3.2.index.20190528 [basic, index]\n",
      "local.qdb [basic, index, quantity]\n",
      "local.usepa.useeio.1.1 [basic, inventory, quantity]\n",
      "local.usepa.useeio.1.1.index.20190528 [background, basic, index]\n",
      "local.uslci.olca [basic, inventory, quantity]\n",
      "local.uslci.olca.index.20190528 [background, basic, index]\n"
     ]
    }
   ],
   "source": [
    "cat.show_interfaces()"
   ]
  },
  {
   "cell_type": "code",
   "execution_count": 16,
   "metadata": {},
   "outputs": [],
   "source": [
    "# gotta do something about ds_type arg here\n",
    "res = cat.new_resource('epa.ccdmrf', '/data/GitHub/2019/LCAproductsystemassembly_resources/data/CDDMRF/', \n",
    "                       'OpenLcaJsonLdArchive', interfaces='inventory')"
   ]
  },
  {
   "cell_type": "code",
   "execution_count": 17,
   "metadata": {},
   "outputs": [
    {
     "name": "stdout",
     "output_type": "stream",
     "text": [
      "epa.ccdmrf: /data/GitHub/2019/LCAproductsystemassembly_resources/data/CDDMRF/\n",
      "Loading /data/GitHub/2019/LCAproductsystemassembly_resources/data/CDDMRF/\n",
      "epa.ccdmrf.index.20191127: /data/GitHub/2019/EPA_PSM_antelope/catalog/index/154ecae95d56662224a8a69376c3ebca4b7b64c8.json.gz\n",
      "epa.ccdmrf: /data/GitHub/2019/LCAproductsystemassembly_resources/data/CDDMRF/\n",
      "9 new quantity entities added (9 total)\n",
      "62 new flow entities added (62 total)\n",
      "1 new process entities added (1 total)\n"
     ]
    },
    {
     "data": {
      "text/plain": [
       "'epa.ccdmrf.index.20191127'"
      ]
     },
     "execution_count": 17,
     "metadata": {},
     "output_type": "execute_result"
    }
   ],
   "source": [
    "cat.index_ref(res.reference)"
   ]
  },
  {
   "cell_type": "code",
   "execution_count": 19,
   "metadata": {},
   "outputs": [],
   "source": [
    "q = cat.query(res.reference)"
   ]
  },
  {
   "cell_type": "code",
   "execution_count": 20,
   "metadata": {},
   "outputs": [],
   "source": [
    "p = next(q.processes())"
   ]
  },
  {
   "cell_type": "code",
   "execution_count": 23,
   "metadata": {},
   "outputs": [],
   "source": [
    "inv = [k for k in p.inventory()]"
   ]
  },
  {
   "cell_type": "code",
   "execution_count": 25,
   "metadata": {},
   "outputs": [],
   "source": [
    "tt = [k for k in inv if k.type != 'cutoff']"
   ]
  },
  {
   "cell_type": "code",
   "execution_count": null,
   "metadata": {},
   "outputs": [],
   "source": []
  },
  {
   "cell_type": "code",
   "execution_count": 31,
   "metadata": {},
   "outputs": [
    {
     "data": {
      "text/plain": [
       "['Output: {*} [0.324 kg] {*} [epa.ccdmrf] Concrete; demolished; at mixed CDD MRF [kg]',\n",
       " 'Output:     [0.00615 kg] (-) [epa.ccdmrf] Gypsum drywall; demolished; at mixed CDD MRF [kg]',\n",
       " ' Input:     [0.02 t*km] (-) [epa.ccdmrf] Truck transport, class 8, heavy heavy-duty (HHD), diesel, short-haul, load factor 0.75 [t*km]',\n",
       " ' Input:     [1.18e-10 Item(s)] (-) [epa.ccdmrf] Picking line conveyor with apron; 30 hp; electric [Item(s)]',\n",
       " ' Input:     [3.41e-05 kg] (-) [epa.ccdmrf] Fuel combustion; diesel sweepers/scrubbers; 50 < hp <= 75 [kg]',\n",
       " ' Input:     [3.13e-08 kg] (-) [epa.ccdmrf] Privacy screen; high density polyethylene, UV stabilized; at plant [kg]',\n",
       " ' Input:     [2e-05 kg] (-) [epa.ccdmrf] Steel product, primary structural, beams and columns, at plant [kg]',\n",
       " ' Input:     [0.000446 kg] (-) [epa.ccdmrf] Concrete; ready-mix, truck mix; at plant [kg]',\n",
       " 'Output:     [0.00238 kg] (-) [epa.ccdmrf] Carpet or carpet padding; unspecified scrap; at mixed CDD MRF [kg]',\n",
       " ' Input:     [5.37e-05 kg] (-) [epa.ccdmrf] Fuel combustion; diesel other material handling equipment; 1000 < hp <= 1200 [kg]',\n",
       " ' Input:     [1.5e-05 kg] (-) [epa.ccdmrf] Fuel combustion; diesel rubber tire loaders; 50 < hp <= 75 [kg]',\n",
       " 'Output:     [0.565 kg] (-) [epa.ccdmrf] Water, fresh [kg]',\n",
       " ' Input:     [0.000291 kg] (-) [epa.ccdmrf] Fuel combustion; diesel rubber tire loaders; 175 < hp <= 300 [kg]',\n",
       " 'Output:     [0.00897 kg] (-) [epa.ccdmrf] Asphalt shingles; tear-off; at mixed CDD MRF [kg]',\n",
       " ' Input:     [1.18e-10 Item(s)] (-) [epa.ccdmrf] Destoner; 140 hp; 72-inch wide; electric [Item(s)]',\n",
       " ' Input:     [0.000246 kg] (-) [epa.ccdmrf] Fuel combustion; diesel excavators; 100 < hp <= 175 [kg]',\n",
       " ' Input:     [2.16e-05 kg] (-) [epa.ccdmrf] Equipment support infrastructure and other equipment; unspecified [kg]',\n",
       " ' Input:     [5.91e-05 kg] (-) [epa.ccdmrf] Hot mix asphalt (HMA), at production facility [kg]',\n",
       " 'Output:     [0.0183 kg] (-) [epa.ccdmrf] Bricks and masonry; at mixed CDD MRF [kg]',\n",
       " ' Input:     [2.14e-06 kg] (-) [epa.ccdmrf] Surfaced dried lumber, at planar mill, US SE [kg]',\n",
       " ' Input:     [1 kg] (-) [epa.ccdmrf] Mixed CDD, at generation [kg]',\n",
       " ' Input:     [0.000203 kg] (-) [epa.ccdmrf] Fuel combustion; diesel rubber tire loaders; 300 < hp <= 600 [kg]',\n",
       " ' Input:     [3.44e-08 m2] (-) [epa.ccdmrf] Gypsum wallboard product, regular, 0.5 inch (12.7 mm) [m2]',\n",
       " ' Input:     [2.36e-10 Item(s)] (-) [epa.ccdmrf] Picking line conveyor; 5 hp; electric [Item(s)]',\n",
       " ' Input:     [1.1e-05 kg] (-) [epa.ccdmrf] Fuel combustion; diesel rubber tire loaders; 40 < hp <= 50 [kg]',\n",
       " 'Output:     [0.2 kg] (-) [epa.ccdmrf] Solid waste; to landfill; at drywall processing facility [kg]',\n",
       " ' Input:     [1.18e-10 Item(s)] (-) [epa.ccdmrf] Shaker screen; 26500 pounds; 47.5 hp; electric [Item(s)]',\n",
       " 'Output:     [0.0715 kg] (-) [epa.ccdmrf] Green waste; unspecified; at mixed CDD MRF [kg]',\n",
       " 'Output:     [0.00579 kg] (-) [epa.ccdmrf] Reclaimed asphalt pavement; at mixed CDD MRF [kg]',\n",
       " ' Input:     [1.18e-10 Item(s)] (-) [epa.ccdmrf] Finger screen; 96000 pounds; 50 hp; electric [Item(s)]',\n",
       " ' Input:     [5.35e-08 kg] (-) [epa.ccdmrf] Asphalt shingles; at plant [kg]',\n",
       " ' Input:     [4.64e-07 kg] (-) [epa.ccdmrf] Water, fresh [kg]',\n",
       " 'Output:     [0.0202 kg] (-) [epa.ccdmrf] Metal; unspecified scrap; at mixed CDD MRF [kg]',\n",
       " 'Output:     [0.00348 kg] (-) [epa.ccdmrf] Plastic; unspecified scrap; at mixed CDD MRF [kg]',\n",
       " ' Input:     [5.28e-05 m2*a] (-) [epa.ccdmrf] Land use [m2*a]',\n",
       " ' Input:     [1.18e-10 Item(s)] (-) [epa.ccdmrf] Finger screen; 90000 pounds; 50 hp; electric [Item(s)]',\n",
       " ' Input:     [1.18e-10 Item(s)] (-) [epa.ccdmrf] Magnet and belt; 12.5 hp; electric [Item(s)]',\n",
       " 'Output:     [0.181 kg] (-) [epa.ccdmrf] Fines; recovered screened material; at mixed CDD MRF [kg]',\n",
       " ' Input:     [1.18e-10 Item(s)] (-) [epa.ccdmrf] Trommel; 60 hp; electric [Item(s)]',\n",
       " 'Output:     [0.464 kg] (-) [epa.ccdmrf] Water [kg]',\n",
       " 'Output:     [0.00599 kg] (-) [epa.ccdmrf] Glass; broken; at mixed CDD MRF [kg]',\n",
       " ' Input:     [1.18e-10 Item(s)] (-) [epa.ccdmrf] Picking line conveyor with transfer; 12.5 hp; electric [Item(s)]',\n",
       " ' Input:     [2.16e-08 kg] (-) [epa.ccdmrf] Vinyl canvas; at plant [kg]',\n",
       " ' Input:     [0.000267 kg] (-) [epa.ccdmrf] Fuel combustion; diesel excavators; 175 < hp <= 300 [kg]',\n",
       " ' Input:     [0.000199 kg] (-) [epa.ccdmrf] Fuel combustion; diesel terminal tractors; 175 < hp <= 300 [kg]',\n",
       " ' Input:     [6.43e-08 kg] (-) [epa.ccdmrf] Vinyl flooring; at plant [kg]',\n",
       " 'Output:     [5.3e-05 kg] (-) [epa.ccdmrf] Paper; unspecified scrap, at mixed CDD MRF [kg]',\n",
       " 'Output:     [0.00183 kg] (-) [epa.ccdmrf] Wood; unspecified scrap; at mixed CDD MRF [kg]',\n",
       " 'Output:     [0.134 kg] (-) [epa.ccdmrf] Fuel product; unspecified; at mixed CDD MRF [kg]',\n",
       " 'Output:     [0.00413 kg] (-) [epa.ccdmrf] Top soil; at mixed CDD MRF [kg]',\n",
       " 'Output:     [0.0127 kg] (-) [epa.ccdmrf] Cardboard; unspecified scrap; at mixed CDD MRF [kg]',\n",
       " ' Input:     [1.18e-10 Item(s)] (-) [epa.ccdmrf] Destoner; 25 hp; 48-inch wide; electric [Item(s)]']"
      ]
     },
     "execution_count": 31,
     "metadata": {},
     "output_type": "execute_result"
    }
   ],
   "source": [
    "[str(k) for k in tt if not isinstance(k.termination, str) ]"
   ]
  },
  {
   "cell_type": "code",
   "execution_count": null,
   "metadata": {},
   "outputs": [],
   "source": []
  }
 ],
 "metadata": {
  "kernelspec": {
   "display_name": "lca-tools",
   "language": "python",
   "name": "lca-tools"
  },
  "language_info": {
   "codemirror_mode": {
    "name": "ipython",
    "version": 3
   },
   "file_extension": ".py",
   "mimetype": "text/x-python",
   "name": "python",
   "nbconvert_exporter": "python",
   "pygments_lexer": "ipython3",
   "version": "3.8.0"
  }
 },
 "nbformat": 4,
 "nbformat_minor": 2
}
