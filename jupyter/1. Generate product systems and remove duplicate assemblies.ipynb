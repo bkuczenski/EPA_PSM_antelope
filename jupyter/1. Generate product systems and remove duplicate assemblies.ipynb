{
 "cells": [
  {
   "cell_type": "code",
   "execution_count": 1,
   "metadata": {},
   "outputs": [],
   "source": [
    "import os\n",
    "import sys\n",
    "WORKING_DIR = '/data/GitHub/2019/EPA_PSM_antelope'\n",
    "sys.path.append(WORKING_DIR)\n",
    "CAT_DIR = os.path.join(WORKING_DIR, 'catalog')"
   ]
  },
  {
   "cell_type": "code",
   "execution_count": 2,
   "metadata": {},
   "outputs": [],
   "source": [
    "from antelope_epa.epa_psm_antelope import EpaF18Foreground"
   ]
  },
  {
   "cell_type": "code",
   "execution_count": 3,
   "metadata": {},
   "outputs": [],
   "source": [
    "from antelope_catalog import LcCatalog"
   ]
  },
  {
   "cell_type": "code",
   "execution_count": 4,
   "metadata": {},
   "outputs": [
    {
     "name": "stdout",
     "output_type": "stream",
     "text": [
      "Loading JSON data from /data/GitHub/2019/EPA_PSM_antelope/catalog/reference-quantities.json:\n",
      "local.qdb: /data/GitHub/2019/EPA_PSM_antelope/catalog/reference-quantities.json\n",
      "local.qdb: /data/GitHub/lca-tools/lcatools/qdb/data/elcd_reference_quantities.json\n",
      "25 new quantity entities added (25 total)\n",
      "6 new flow entities added (6 total)\n"
     ]
    }
   ],
   "source": [
    "cat = LcCatalog(CAT_DIR)"
   ]
  },
  {
   "cell_type": "code",
   "execution_count": 5,
   "metadata": {},
   "outputs": [
    {
     "name": "stdout",
     "output_type": "stream",
     "text": [
      "local.data.GitHub.2019.EPA_PSM_antelope.catalog.psm-hackathon: /data/GitHub/2019/EPA_PSM_antelope/catalog/psm-hackathon\n",
      "Loading /data/GitHub/2019/EPA_PSM_antelope/catalog/psm-hackathon\n",
      "0 new fragment entities added (0 total)\n"
     ]
    }
   ],
   "source": [
    "fg = cat.foreground('psm-hackathon')"
   ]
  },
  {
   "cell_type": "code",
   "execution_count": 6,
   "metadata": {},
   "outputs": [
    {
     "name": "stdout",
     "output_type": "stream",
     "text": [
      "Workbook: NLG F18EFG ABL.xlsx\n",
      "Assemblies: ['74A430500-1017', '74A430700-1009', '74A430800-1021']\n",
      "74A430500-1017: set()\n",
      "Warning: parent is self: 74B430704-101 (row 19)\n",
      "Warning: parent is self: 74B430705-103 (row 21)\n",
      "74A430700-1009: set()\n",
      "74A430800-1021: set()\n",
      "Missing: set()\n",
      "\n",
      "Workbook: MLG F18EFG ABL_c.xlsx\n",
      "Assemblies: ['74A400500-1017', '74A400500-1018', '74A400700-1013', '74A400700-1014', '74A400800-1001']\n",
      "74A400500-1017: set()\n",
      "74A400500-1018: set()\n",
      "74A400700-1013: set()\n",
      "74A400700-1014: set()\n",
      "74A400800-1001: set()\n",
      "Missing: set()\n",
      "\n",
      "Workbook: MLG F18EFG ABL.xlsx\n",
      "Assemblies: ['74A400500-1017', '74A400500-1018', '74A400700-1013', '74A400700-1014', '74A400800-1001']\n",
      "74A400500-1017: {'74A400600-1017', '74A400631-2003'}\n",
      "74A400500-1018: {'74A400600-1017', '74A400631-2003'}\n",
      "74A400700-1013: {'74A400700-2009', '74A400700-1011', '74A400780-1001'}\n",
      "74A400700-1014: {'74A400700-2009', '74A400700-1012', '74A400780-1001'}\n",
      "74A400800-1001: set()\n",
      "Missing: {'74A400631-2003', '74A400700-1011', '74A400700-2009', '74A400600-1017', '74A400700-1012', '74A400780-1001'}\n",
      "\n",
      "Cross-References: set()\n",
      "Globally Missing: {'74A400700-1012', '74A400780-1001', '74A400631-2003', '74A400700-1011', '74A400700-2009', '74A400600-1017'}\n",
      "Valid assemblies: ['74A430500-1017', '74A430700-1009', '74A430800-1021', '74A400500-1017', '74A400500-1018', '74A400700-1013', '74A400700-1014', '74A400800-1001']\n"
     ]
    }
   ],
   "source": [
    "efg = EpaF18Foreground(fg, folder='/data/GitHub/2019/LCAproductsystemassembly_1/data-foreground/')"
   ]
  },
  {
   "cell_type": "code",
   "execution_count": 7,
   "metadata": {},
   "outputs": [],
   "source": [
    "for x in efg.valid_sheets:\n",
    "    efg.create_assembly(x)"
   ]
  },
  {
   "cell_type": "code",
   "execution_count": 8,
   "metadata": {},
   "outputs": [
    {
     "data": {
      "text/plain": [
       "['74A430500-1017 ASSEMBLY',\n",
       " '74A430700-1009 ASSEMBLY',\n",
       " '74A430800-1021 ASSEMBLY',\n",
       " '74A400500-1017 ASSEMBLY',\n",
       " '74A400500-1018 ASSEMBLY',\n",
       " '74A400700-1013 ASSEMBLY',\n",
       " '74A400700-1014 ASSEMBLY',\n",
       " '74A400800-1001 ASSEMBLY']"
      ]
     },
     "execution_count": 8,
     "metadata": {},
     "output_type": "execute_result"
    }
   ],
   "source": [
    "[k.external_ref for k in efg._refs]"
   ]
  },
  {
   "cell_type": "code",
   "execution_count": 9,
   "metadata": {},
   "outputs": [
    {
     "data": {
      "text/plain": [
       "1528"
      ]
     },
     "execution_count": 9,
     "metadata": {},
     "output_type": "execute_result"
    }
   ],
   "source": [
    "efg.fg.count('fragment')"
   ]
  },
  {
   "cell_type": "code",
   "execution_count": 10,
   "metadata": {},
   "outputs": [],
   "source": [
    "dup_flows = [list(set(k.flow for k in d))[0] for d in efg.duplicate_subassemblies()]"
   ]
  },
  {
   "cell_type": "code",
   "execution_count": 11,
   "metadata": {},
   "outputs": [
    {
     "data": {
      "text/plain": [
       "[('74A400734-1003', 'UNIV ASSY'),\n",
       " ('74B400977-101', 'BEARING'),\n",
       " ('74A400730-1003', 'SIDE BR ASSY,UPR'),\n",
       " ('74A400939-1001', 'ROD ASSY, SPR'),\n",
       " ('74A400780-1003', 'CONN LINK ASSY'),\n",
       " ('74A400912-1003', 'BOLT, ASSY, RETNR'),\n",
       " ('74A400600-1019', 'SHOCK ABS ASSY'),\n",
       " ('74B400914-105', 'BEARING,PLAIN'),\n",
       " ('74B400516-2001', 'SCREW, CAP'),\n",
       " ('74A400701-1005', 'BELLCRANK ASSY-UPR'),\n",
       " ('74A410518-2005A', 'RING, TIEDOWN'),\n",
       " ('74A400750-1005', 'LINK ASSY, LWR'),\n",
       " ('74A400574-1001', 'LINK ASSY, UPPER'),\n",
       " ('74A400561-1005', 'LINK ASSY, LOWER'),\n",
       " ('74A400711-1001', 'RING ASSY'),\n",
       " ('74A400740-1001', 'SIDE BR ASSY,LWR'),\n",
       " ('74A400940-1003', 'AXLE ASSY'),\n",
       " ('74A400736-1001', 'ADAPTER ASSY'),\n",
       " ('74A400517-1003', 'BOLT ASSY')]"
      ]
     },
     "execution_count": 11,
     "metadata": {},
     "output_type": "execute_result"
    }
   ],
   "source": [
    "[(k.external_ref, k.name) for k in dup_flows]"
   ]
  },
  {
   "cell_type": "code",
   "execution_count": 12,
   "metadata": {},
   "outputs": [
    {
     "data": {
      "text/plain": [
       "19"
      ]
     },
     "execution_count": 12,
     "metadata": {},
     "output_type": "execute_result"
    }
   ],
   "source": [
    "len(dup_flows)"
   ]
  },
  {
   "cell_type": "code",
   "execution_count": 13,
   "metadata": {},
   "outputs": [],
   "source": [
    "_dag = efg.duplicate_subassemblies()"
   ]
  },
  {
   "cell_type": "code",
   "execution_count": 14,
   "metadata": {},
   "outputs": [],
   "source": [
    "dup_set = list(next(_dag))"
   ]
  },
  {
   "cell_type": "code",
   "execution_count": 15,
   "metadata": {},
   "outputs": [
    {
     "data": {
      "text/plain": [
       "[<lcatools.entities.fragments.LcFragment at 0x7f52bad3ae48>,\n",
       " <lcatools.entities.fragments.LcFragment at 0x7f52bac7fcc0>]"
      ]
     },
     "execution_count": 15,
     "metadata": {},
     "output_type": "execute_result"
    }
   ],
   "source": [
    "dup_set"
   ]
  },
  {
   "cell_type": "markdown",
   "metadata": {},
   "source": [
    "## check their inventories for identity\n",
    "We can't use `inventory()` because that runs the inventory of the top (reference) fragment, and neither of these are reference fragments. But we can use the direct traversal and group the inputs and outputs"
   ]
  },
  {
   "cell_type": "code",
   "execution_count": 16,
   "metadata": {},
   "outputs": [],
   "source": [
    "from lcatools.fragment_flows import group_ios"
   ]
  },
  {
   "cell_type": "code",
   "execution_count": 17,
   "metadata": {},
   "outputs": [],
   "source": [
    "io0, _ = group_ios(dup_set[0], dup_set[0].traverse(None))"
   ]
  },
  {
   "cell_type": "code",
   "execution_count": 18,
   "metadata": {},
   "outputs": [],
   "source": [
    "io1, _ = group_ios(dup_set[0], dup_set[1].traverse(None))  # parent is used just for building the exchanges"
   ]
  },
  {
   "cell_type": "code",
   "execution_count": 19,
   "metadata": {},
   "outputs": [
    {
     "data": {
      "text/plain": [
       "['74A40           1 [Output] --: 74A400700-1013 ASSEMBLY',\n",
       " '74A40           1 [ Input] --: PIN, STRAIGHT',\n",
       " 'NAS51           2 [ Input] --: FITTING',\n",
       " '74A40           2 [ Input] --: BUSHING',\n",
       " '74A40           1 [ Input] --: SPINDLE',\n",
       " '74A40           1 [ Input] --: PAD, JACK']"
      ]
     },
     "execution_count": 19,
     "metadata": {},
     "output_type": "execute_result"
    }
   ],
   "source": [
    "[str(k) for k in io0]"
   ]
  },
  {
   "cell_type": "code",
   "execution_count": 20,
   "metadata": {},
   "outputs": [
    {
     "data": {
      "text/plain": [
       "['74A40           1 [Output] --: 74A400700-1013 ASSEMBLY',\n",
       " '74A40           1 [ Input] --: PAD, JACK',\n",
       " '74A40           2 [ Input] --: BUSHING',\n",
       " '74A40           1 [ Input] --: SPINDLE',\n",
       " 'NAS51           2 [ Input] --: FITTING',\n",
       " '74A40           1 [ Input] --: PIN, STRAIGHT']"
      ]
     },
     "execution_count": 20,
     "metadata": {},
     "output_type": "execute_result"
    }
   ],
   "source": [
    "[str(k) for k in io1]"
   ]
  },
  {
   "cell_type": "code",
   "execution_count": 21,
   "metadata": {},
   "outputs": [
    {
     "data": {
      "text/plain": [
       "True"
      ]
     },
     "execution_count": 21,
     "metadata": {},
     "output_type": "execute_result"
    }
   ],
   "source": [
    "{(k.fragment.flow, k.fragment.direction, k.magnitude) for k in io0} == \\\n",
    "{(k.fragment.flow, k.fragment.direction, k.magnitude) for k in io1}"
   ]
  },
  {
   "cell_type": "code",
   "execution_count": null,
   "metadata": {},
   "outputs": [],
   "source": [
    "# store the inventories to test equivalency later"
   ]
  },
  {
   "cell_type": "code",
   "execution_count": 22,
   "metadata": {},
   "outputs": [],
   "source": [
    "tops = [k.top() for k in dup_set]"
   ]
  },
  {
   "cell_type": "code",
   "execution_count": 23,
   "metadata": {},
   "outputs": [],
   "source": [
    "u0 = tops[0].inventory()\n",
    "u1 = tops[1].inventory()"
   ]
  },
  {
   "cell_type": "code",
   "execution_count": null,
   "metadata": {},
   "outputs": [],
   "source": [
    "# now swap them out"
   ]
  },
  {
   "cell_type": "code",
   "execution_count": 24,
   "metadata": {},
   "outputs": [],
   "source": [
    "efg.reduce_duplicates(*dup_set)"
   ]
  },
  {
   "cell_type": "code",
   "execution_count": 25,
   "metadata": {},
   "outputs": [
    {
     "name": "stdout",
     "output_type": "stream",
     "text": [
      "( ** ref) -<- eeb00 -<- -O    [   1 Item(s)] UNIV ASSY {74A400734-1003 ASSEMBLY}\n",
      "Fragment Entity (ref 74A400734-1003 ASSEMBLY)\n",
      "origin: local.data.GitHub.2019.EPA_PSM_antelope.catalog.psm-hackathon\n",
      "reference: None\n",
      "     Name: UNIV ASSY\n",
      "  Comment: \n",
      "      Row: 40\n",
      "StageName: \n",
      "   Source: 74A400700-1013\n",
      "Exchange values: \n",
      "              Cached: 1\n",
      "            Observed: 1\n",
      "\n",
      "Balance flow: False\n",
      "Terminations: \n",
      "            Scenario  Termination\n",
      "                None: -O   Foreground\n"
     ]
    }
   ],
   "source": [
    "dup_set[0].show()"
   ]
  },
  {
   "cell_type": "code",
   "execution_count": 26,
   "metadata": {},
   "outputs": [
    {
     "data": {
      "text/plain": [
       "True"
      ]
     },
     "execution_count": 26,
     "metadata": {},
     "output_type": "execute_result"
    }
   ],
   "source": [
    "u0post = tops[0].inventory()\n",
    "{(x.flow, x.direction, x.value) for x in u0} == {(x.flow, x.direction, x.value) for x in u0post}"
   ]
  },
  {
   "cell_type": "code",
   "execution_count": 27,
   "metadata": {},
   "outputs": [
    {
     "data": {
      "text/plain": [
       "True"
      ]
     },
     "execution_count": 27,
     "metadata": {},
     "output_type": "execute_result"
    }
   ],
   "source": [
    "u1post = tops[1].inventory()\n",
    "{(x.flow, x.direction, x.value) for x in u1} == {(x.flow, x.direction, x.value) for x in u1post}"
   ]
  },
  {
   "cell_type": "code",
   "execution_count": 28,
   "metadata": {},
   "outputs": [
    {
     "data": {
      "text/plain": [
       "['74A430500-1017 ASSEMBLY',\n",
       " '74A430700-1009 ASSEMBLY',\n",
       " '74A430800-1021 ASSEMBLY',\n",
       " '74A400500-1017 ASSEMBLY',\n",
       " '74A400500-1018 ASSEMBLY',\n",
       " '74A400700-1013 ASSEMBLY',\n",
       " '74A400700-1014 ASSEMBLY',\n",
       " '74A400800-1001 ASSEMBLY',\n",
       " '74A400734-1003 ASSEMBLY']"
      ]
     },
     "execution_count": 28,
     "metadata": {},
     "output_type": "execute_result"
    }
   ],
   "source": [
    "[k.external_ref for k in efg._refs]"
   ]
  },
  {
   "cell_type": "code",
   "execution_count": 29,
   "metadata": {},
   "outputs": [],
   "source": [
    "for dg in _dag:\n",
    "    efg.reduce_duplicates(*dg)"
   ]
  },
  {
   "cell_type": "markdown",
   "metadata": {},
   "source": [
    "### How'd we do?\n",
    "Reduced the count of fragments by.. 8-9%\n",
    "\n",
    "Do the inventories match?"
   ]
  },
  {
   "cell_type": "code",
   "execution_count": 30,
   "metadata": {},
   "outputs": [
    {
     "data": {
      "text/plain": [
       "1402"
      ]
     },
     "execution_count": 30,
     "metadata": {},
     "output_type": "execute_result"
    }
   ],
   "source": [
    "efg.fg.count('fragment')"
   ]
  },
  {
   "cell_type": "code",
   "execution_count": 31,
   "metadata": {},
   "outputs": [
    {
     "data": {
      "text/plain": [
       "True"
      ]
     },
     "execution_count": 31,
     "metadata": {},
     "output_type": "execute_result"
    }
   ],
   "source": [
    "u0final = tops[0].inventory()\n",
    "{(x.flow, x.direction, x.value) for x in u0} == {(x.flow, x.direction, x.value) for x in u0final}"
   ]
  },
  {
   "cell_type": "code",
   "execution_count": 32,
   "metadata": {},
   "outputs": [
    {
     "data": {
      "text/plain": [
       "True"
      ]
     },
     "execution_count": 32,
     "metadata": {},
     "output_type": "execute_result"
    }
   ],
   "source": [
    "u1final = tops[1].inventory()\n",
    "{(x.flow, x.direction, x.value) for x in u1} == {(x.flow, x.direction, x.value) for x in u1final}"
   ]
  },
  {
   "cell_type": "code",
   "execution_count": 33,
   "metadata": {},
   "outputs": [
    {
     "name": "stdout",
     "output_type": "stream",
     "text": [
      "   -<--O   bb47d [       1 Item(s)] 74A400700-1014 ASSEMBLY\n",
      "    [   1 unit] 74A400700-1014 ASSEMBLY\n",
      "       | -<----: 168c7 (       1 Item(s)) WASHER, FLAT\n",
      "       | -<----: 50cb9 (       1 Item(s)) PIN\n",
      "       | -<----: 5b204 (       1 Item(s)) NUT, PLAIN\n",
      "       | -<----: 69024 (       1 Item(s)) PLATE, ID\n",
      "       | -<----: 89ed5 (       1 Item(s)) PIN\n",
      "       | -<----: b323b (       1 Item(s)) PIN ECCENTRIC\n",
      "       | -<----: c44a3 (       3 Item(s)) WASHER, FLAT\n",
      "       | -<----: df9d1 (       1 Item(s)) PLATE, LOCK\n",
      "       | -<----: e6f67 (       2 Item(s)) NUT, SELF LOCKING\n",
      "       | -<----: e8f52 (       2 Item(s)) BOLT, SHOULDER\n",
      "       | -<----: efaed (       1 Item(s)) NUT\n",
      "       | -<----: f0d6c (       1 Item(s)) BOLT\n",
      "       | -<--O   090ce (       1 Item(s)) BRACE ASSY\n",
      "       |  [   1 unit] BRACE ASSY\n",
      "       |     | -<----: 07988 (       1 Item(s)) SPACER, PLATE\n",
      "       |     | -<----: 08a5d (       1 Item(s)) BOLT\n",
      "       |     | -<----: 09264 (       1 Item(s)) NUT, UNIV ATCH\n",
      "       |     | -<----: 19392 (       1 Item(s)) WASHER, FLAT\n",
      "       |     | -<----: 1ae49 (       1 Item(s)) PIN\n",
      "       |     | -<----: 1d365 (       2 Item(s)) NUT\n",
      "       |     | -<----: 1f9db (       2 Item(s)) WASHER, TAB LOCK\n",
      "       |     | -<----: 20082 (       1 Item(s)) BOLT\n",
      "       |     | -<----: 20f83 (       2 Item(s)) WASHER\n",
      "       |     | -<----: 25482 (       1 Item(s)) WASHER\n",
      "       |     | -<----: 2c1f4 (       1 Item(s)) WASHER, KEY\n",
      "       |     | -<----: 414db (       1 Item(s)) BOLT\n",
      "       |     | -<----: 487cb (       4 Item(s)) PLATE, RETAINING\n",
      "       |     | -<----: 489a8 (       1 Item(s)) RETAINER\n",
      "       |     | -<----: 55f2b (       1 Item(s)) NUT, PLAIN\n",
      "       |     | -<----: 58de6 (       1 Item(s)) BOLT, SHOULDER\n",
      "       |     | -<----: 820e7 (       1 Item(s)) LOCKWIRE\n",
      "       |     | -<----: 8ff67 (       1 Item(s)) LOCK-PLATE\n",
      "       |     | -<----: 91ed5 (       1 Item(s)) LOCK-PLATE\n",
      "       |     | -<----: 97e77 (       1 Item(s)) BOLT\n",
      "       |     | -<----: 9bb8a (       2 Item(s)) NUT, PLAIN\n",
      "       |     | -<----: 9f415 (       1 Item(s)) PACKING\n",
      "       |     | -<----: a0e3f (       1 Item(s)) WASHER, KEY\n",
      "       |     | -<----: b26c7 (       1 Item(s)) NUT\n",
      "       |     | -<----: c0411 (       1 Item(s)) BOLT,SHOULDER\n",
      "       |     | -<----: c0b72 (       1 Item(s)) PIN, STRAIGHT\n",
      "       |     | -<----: c569e (       1 Item(s)) WASHER, TAB LOCK\n",
      "       |     | -<----: c8e37 (       3 Item(s)) PIN\n",
      "       |     | -<----: cb601 (       1 Item(s)) NUT\n",
      "       |     | -<----: e2897 (       1 Item(s)) NUT, PLAIN\n",
      "       |     | -<----: ec6c3 (       1 Item(s)) BOLT, SHOULDER\n",
      "       |     | -<----: ee82a (       1 Item(s)) PIN, STRAIGHT\n",
      "       |     | -<----: fcdca (       1 Item(s)) PLATE, RETAINER\n",
      "       |     | -<--#:: 1d42a (       1 Item(s)) BOLT ASSY\n",
      "       |     | -<--#:: 29a64 (       1 Item(s)) SIDE BR ASSY,UPR\n",
      "       |     | -<--#:: 2b4c2 (       1 Item(s)) UNIV ASSY\n",
      "       |     | -<--#:: 47987 (       1 Item(s)) SIDE BR ASSY,LWR\n",
      "       |     | -<--#:: 8a581 (       1 Item(s)) LINK ASSY, LWR\n",
      "       |     | -<--#:: c543d (       1 Item(s)) ADAPTER ASSY\n",
      "       |     | -<--#:: d40a7 (       1 Item(s)) BELLCRANK ASSY-UPR\n",
      "       |     | -<--#:: e1036 (       1 Item(s)) RING ASSY\n",
      "       |     x \n",
      "       | -<--O   094f3 (       1 Item(s)) CYLINDER ASSY\n",
      "       |  [   1 unit] CYLINDER ASSY\n",
      "       |     | -<----: 2e10d (       1 Item(s)) SCRAPER\n",
      "       |     | -<----: 353ae (       1 Item(s)) PISTON\n",
      "       |     | -<----: 3f39a (       2 Item(s)) RETAINER\n",
      "       |     | -<----: 491db (       1 Item(s)) PACKING\n",
      "       |     | -<----: 4e2e0 (       2 Item(s)) RING, BACKUP\n",
      "       |     | -<----: 5946a (       1 Item(s)) SEAL, TEE\n",
      "       |     | -<----: 6cc1b (       2 Item(s)) SEAL, TEE\n",
      "       |     | -<----: 70936 (       1 Item(s)) PIN, STRAIGHT\n",
      "       |     | -<----: 70e3b (       1 Item(s)) PLATE, IDENT\n",
      "       |     | -<----: 73619 (       1 Item(s)) SCREW\n",
      "       |     | -<----: 7c5bb (       1 Item(s)) RETAINER\n",
      "       |     | -<----: 7ea78 (       1 Item(s)) LOCKWIRE\n",
      "       |     | -<----: 93836 (       2 Item(s)) RING, BACKUP\n",
      "       |     | -<----: a2963 (       1 Item(s)) LOCK-KEY\n",
      "       |     | -<----: a3c60 (       1 Item(s)) WASHER, FLAT\n",
      "       |     | -<----: a462d (      10 Item(s)) BALL, BEARING\n",
      "       |     | -<----: a6c6b (       1 Item(s)) SPRING, HELICAL\n",
      "       |     | -<----: ab38c (       1 Item(s)) PLUNGER\n",
      "       |     | -<----: b4a3e (       1 Item(s)) PIN, COTTER\n",
      "       |     | -<----: c4b4b (       4 Item(s)) RING, BACKUP\n",
      "       |     | -<----: d3266 (       1 Item(s)) SEAL, TEE\n",
      "       |     | -<----: d5b6d (       1 Item(s)) CAP, LINEAR ACT\n",
      "       |     | -<----: d6fad (       1 Item(s)) PLUNGER\n",
      "       |     | -<----: d9c87 (       1 Item(s)) SEAL, TEE\n",
      "       |     | -<----: de3f4 (       1 Item(s)) NUT\n",
      "       |     | -<----: e445d (       2 Item(s)) RING\n",
      "       |     | -<----: e97b5 (       1 Item(s)) PACKING\n",
      "       |     | -<--O   697ad (       1 Item(s)) CYLINDER ASSY\n",
      "       |     |  [   1 unit] CYLINDER ASSY\n",
      "       |     |     | -<----: 1d584 (       1 Item(s)) CYLINDER\n",
      "       |     |     | -<----: 713bb (       3 Item(s)) PLUG\n",
      "       |     |     x \n",
      "       |     | -<--#:: d4b4d (       1 Item(s)) CONN LINK ASSY\n",
      "       |     x \n",
      "       x \n"
     ]
    }
   ],
   "source": [
    "# subfragment terminations are shown by '#::'\n",
    "tops[1].show_tree()"
   ]
  },
  {
   "cell_type": "code",
   "execution_count": 35,
   "metadata": {},
   "outputs": [
    {
     "name": "stdout",
     "output_type": "stream",
     "text": [
      "local.data.GitHub.2019.EPA_PSM_antelope.catalog.psm-hackathon: /data/GitHub/2019/EPA_PSM_antelope/catalog/psm-hackathon/entities.json\n"
     ]
    }
   ],
   "source": [
    "efg.fg.save()"
   ]
  },
  {
   "cell_type": "code",
   "execution_count": 36,
   "metadata": {},
   "outputs": [],
   "source": [
    "new_dups = [k for k in efg.duplicate_subassemblies()]"
   ]
  },
  {
   "cell_type": "code",
   "execution_count": 37,
   "metadata": {},
   "outputs": [
    {
     "data": {
      "text/plain": [
       "[]"
      ]
     },
     "execution_count": 37,
     "metadata": {},
     "output_type": "execute_result"
    }
   ],
   "source": [
    "new_dups"
   ]
  }
 ],
 "metadata": {
  "kernelspec": {
   "display_name": "lca-tools",
   "language": "python",
   "name": "lca-tools"
  },
  "language_info": {
   "codemirror_mode": {
    "name": "ipython",
    "version": 3
   },
   "file_extension": ".py",
   "mimetype": "text/x-python",
   "name": "python",
   "nbconvert_exporter": "python",
   "pygments_lexer": "ipython3",
   "version": "3.8.0"
  }
 },
 "nbformat": 4,
 "nbformat_minor": 2
}
