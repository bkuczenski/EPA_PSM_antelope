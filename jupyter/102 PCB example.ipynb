{
 "cells": [
  {
   "cell_type": "code",
   "execution_count": 1,
   "metadata": {},
   "outputs": [],
   "source": [
    "from antelope_catalog  import LcCatalog\n",
    "import sys\n",
    "sys.path.append('/data/GitHub/2019/EPA_PSM_antelope/')\n",
    "from antelope_epa import EpaF18Foreground\n"
   ]
  },
  {
   "cell_type": "code",
   "execution_count": 2,
   "metadata": {},
   "outputs": [],
   "source": [
    "from antelope_epa.validation import validate_folder"
   ]
  },
  {
   "cell_type": "code",
   "execution_count": 3,
   "metadata": {},
   "outputs": [],
   "source": [
    "fg_path = '/data/GitHub/2019/LCAproductsystemassembly_resources/data/PrintedCircuitBoard/'"
   ]
  },
  {
   "cell_type": "code",
   "execution_count": 4,
   "metadata": {},
   "outputs": [
    {
     "name": "stdout",
     "output_type": "stream",
     "text": [
      "Workbook: BOM_1.xlsx\n",
      "Assemblies: ['BOM']\n",
      "BOM: set()\n",
      "Missing: set()\n",
      "\n",
      "Cross-References: set()\n",
      "Globally Missing: set()\n"
     ]
    },
    {
     "data": {
      "text/plain": [
       "(<xlrd.sheet.Sheet at 0x7f2c2c81b5e0>,)"
      ]
     },
     "execution_count": 4,
     "metadata": {},
     "output_type": "execute_result"
    }
   ],
   "source": [
    "tuple(validate_folder(fg_path))"
   ]
  },
  {
   "cell_type": "code",
   "execution_count": 5,
   "metadata": {},
   "outputs": [
    {
     "name": "stdout",
     "output_type": "stream",
     "text": [
      "Loading JSON data from /data/GitHub/2019/EPA_PSM_antelope/catalog/reference-quantities.json:\n",
      "local.qdb: /data/GitHub/2019/EPA_PSM_antelope/catalog/reference-quantities.json\n",
      "local.qdb: /data/GitHub/lca-tools/lcatools/qdb/data/elcd_reference_quantities.json\n",
      "25 new quantity entities added (25 total)\n",
      "6 new flow entities added (6 total)\n"
     ]
    }
   ],
   "source": [
    "cat = LcCatalog('/data/GitHub/2019/EPA_PSM_antelope/catalog/')"
   ]
  },
  {
   "cell_type": "code",
   "execution_count": 6,
   "metadata": {},
   "outputs": [
    {
     "name": "stdout",
     "output_type": "stream",
     "text": [
      "foreground.pcb: /data/GitHub/2019/EPA_PSM_antelope/catalog/pcb\n",
      "Loading /data/GitHub/2019/EPA_PSM_antelope/catalog/pcb\n",
      "0 new fragment entities added (0 total)\n"
     ]
    }
   ],
   "source": [
    "fg = cat.foreground('pcb')"
   ]
  },
  {
   "cell_type": "code",
   "execution_count": 7,
   "metadata": {},
   "outputs": [
    {
     "name": "stdout",
     "output_type": "stream",
     "text": [
      "Workbook: BOM_1.xlsx\n",
      "Assemblies: ['BOM']\n",
      "BOM: set()\n",
      "Missing: set()\n",
      "\n",
      "Cross-References: set()\n",
      "Globally Missing: set()\n",
      "Valid assemblies: ['BOM']\n"
     ]
    }
   ],
   "source": [
    "efg = EpaF18Foreground(fg, folder=fg_path)"
   ]
  },
  {
   "cell_type": "code",
   "execution_count": 8,
   "metadata": {},
   "outputs": [],
   "source": [
    "for x in efg.valid_sheets:\n",
    "    efg.create_assembly(x)"
   ]
  },
  {
   "cell_type": "code",
   "execution_count": 9,
   "metadata": {},
   "outputs": [
    {
     "data": {
      "text/plain": [
       "['Board ASSEMBLY']"
      ]
     },
     "execution_count": 9,
     "metadata": {},
     "output_type": "execute_result"
    }
   ],
   "source": [
    "[x.name for x in fg.fragments()]"
   ]
  },
  {
   "cell_type": "code",
   "execution_count": 10,
   "metadata": {},
   "outputs": [],
   "source": [
    "frag = next(efg.models)"
   ]
  },
  {
   "cell_type": "code",
   "execution_count": 12,
   "metadata": {},
   "outputs": [
    {
     "name": "stdout",
     "output_type": "stream",
     "text": [
      "   -<--O   68041 [       1 Item(s)] Board ASSEMBLY\n",
      "    [   1 unit] Board ASSEMBLY\n",
      "       | -<----: 2b265 (       2 Item(s)) SOIC14\n",
      "       | -<----: 2de24 (       4 Item(s)) 0402Chip Resistor\n",
      "       | -<----: 42dec (       1 Item(s)) ESD bag（small)\n",
      "       | -<----: 449ab (       1 Item(s)) LQFP-100\n",
      "       | -<----: 6b931 (       1 Item(s)) PCB （95.25mm*152.40 mm)\n",
      "       | -<----: 806de (       2 Item(s)) SOT23\n",
      "       | -<----: 85ef6 (       1 Item(s)) Label\n",
      "       | -<----: a7715 (       4 Item(s)) 1206 Chip Resistor or Capacitor\n",
      "       | -<----: c1106 (       1 Item(s)) ESD bag (big)\n",
      "       | -<----: f1947 (       4 Item(s)) 0603Chip Capacitor\n",
      "       | -<----: f256b (       1 Item(s)) desiccant\n",
      "       | -<----: fbe3b (       4 Item(s)) 1206 MELF\n",
      "       x \n"
     ]
    }
   ],
   "source": [
    "frag.show_tree()"
   ]
  }
 ],
 "metadata": {
  "kernelspec": {
   "display_name": "lca-tools",
   "language": "python",
   "name": "lca-tools"
  },
  "language_info": {
   "codemirror_mode": {
    "name": "ipython",
    "version": 3
   },
   "file_extension": ".py",
   "mimetype": "text/x-python",
   "name": "python",
   "nbconvert_exporter": "python",
   "pygments_lexer": "ipython3",
   "version": "3.8.0"
  }
 },
 "nbformat": 4,
 "nbformat_minor": 2
}
