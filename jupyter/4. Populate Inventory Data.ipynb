{
 "cells": [
  {
   "cell_type": "markdown",
   "metadata": {},
   "source": [
    "## Populate Inventory Data\n",
    "The purpose of this workbook is to load-up all the flow information I hand-curated, and assign it to the flow entities.  Then I will use the metadata to assign (random) mass and economic value properties to the flows.\n",
    "\n",
    "Later I will use the metainfo to terminate fragments using the flows."
   ]
  },
  {
   "cell_type": "code",
   "execution_count": 1,
   "metadata": {},
   "outputs": [],
   "source": [
    "from antelope_catalog import LcCatalog"
   ]
  },
  {
   "cell_type": "code",
   "execution_count": 2,
   "metadata": {},
   "outputs": [
    {
     "name": "stdout",
     "output_type": "stream",
     "text": [
      "Loading JSON data from /data/GitHub/2019/EPA_PSM_antelope/catalog/reference-quantities.json:\n",
      "local.qdb: /data/GitHub/2019/EPA_PSM_antelope/catalog/reference-quantities.json\n",
      "local.qdb: /data/GitHub/lca-tools/lcatools/qdb/data/elcd_reference_quantities.json\n",
      "6 new flow entities added (6 total)\n",
      "25 new quantity entities added (25 total)\n"
     ]
    }
   ],
   "source": [
    "cat = LcCatalog('/data/GitHub/2019/EPA_PSM_antelope/catalog/')"
   ]
  },
  {
   "cell_type": "code",
   "execution_count": 12,
   "metadata": {},
   "outputs": [],
   "source": [
    "fg = cat.create_foreground('psm-hackathon')"
   ]
  },
  {
   "cell_type": "code",
   "execution_count": 13,
   "metadata": {},
   "outputs": [
    {
     "name": "stdout",
     "output_type": "stream",
     "text": [
      "foreground.psm-hackathon: /data/GitHub/2019/EPA_PSM_antelope/catalog/psm-hackathon\n",
      "Loading /data/GitHub/2019/EPA_PSM_antelope/catalog/psm-hackathon\n",
      "foreground.psm-hackathon: /data/GitHub/2019/EPA_PSM_antelope/catalog/psm-hackathon/entities.json\n",
      "local.usepa.useeio.1.1: /data/LCI/USEEIO/USEEIOv1.1-JSONLD-foropenlca.zip\n",
      "Found Extension: zip\n",
      "Applying stored configuration\n",
      "Applying context hint local.usepa.useeio.1.1:water => to water\n",
      "Applying context hint local.usepa.useeio.1.1:air => to air\n",
      "Applying configuration to OpenLcaJsonLdArchive with 0 entities at /data/LCI/USEEIO/USEEIOv1.1-JSONLD-foropenlca.zip\n",
      "Missing canonical quantity-- adding to LciaDb\n",
      "registering local.usepa.useeio.1.1/b0682037-e878-4be4-a63a-a7a81053a691\n",
      "Retrieving canonical [local.usepa.useeio.1.1] Producer Price US 2013 [USD]\n",
      "1019 new flow entities added (1019 total)\n",
      "0 new fragment entities added (0 total)\n",
      "3 new quantity entities added (3 total)\n",
      "1402 new fragment entities added (1402 total)\n"
     ]
    }
   ],
   "source": [
    "ar = cat.get_archive(fg.origin)"
   ]
  },
  {
   "cell_type": "code",
   "execution_count": 6,
   "metadata": {},
   "outputs": [],
   "source": [
    "f = next(ar.entities_by_type('flow'))"
   ]
  },
  {
   "cell_type": "code",
   "execution_count": 7,
   "metadata": {},
   "outputs": [],
   "source": [
    "from lcatools.entities.xlsx_editor import XlsxArchiveUpdater"
   ]
  },
  {
   "cell_type": "code",
   "execution_count": 8,
   "metadata": {},
   "outputs": [
    {
     "name": "stdout",
     "output_type": "stream",
     "text": [
      "Flow Entity (ref 3M1169C3D6A)\n",
      "origin: foreground.psm-hackathon\n",
      "reference: [local.qdb] Number of items [Item(s)]\n",
      "       Name: BOLT\n",
      "    Comment: \n",
      "      Level: 1.0\n",
      "  CasNumber: \n",
      "Compartment: []\n",
      "         PT: 5\n"
     ]
    }
   ],
   "source": [
    "f.show()"
   ]
  },
  {
   "cell_type": "code",
   "execution_count": 9,
   "metadata": {},
   "outputs": [],
   "source": [
    "with XlsxArchiveUpdater(ar, 'PSM-hackathon-leaf-flows_annotated.xlsx') as x:\n",
    "    x.apply()"
   ]
  },
  {
   "cell_type": "code",
   "execution_count": 17,
   "metadata": {},
   "outputs": [
    {
     "ename": "NameError",
     "evalue": "name 'f' is not defined",
     "output_type": "error",
     "traceback": [
      "\u001b[0;31m---------------------------------------------------------------------------\u001b[0m",
      "\u001b[0;31mNameError\u001b[0m                                 Traceback (most recent call last)",
      "\u001b[0;32m<ipython-input-17-cffed12d428f>\u001b[0m in \u001b[0;36m<module>\u001b[0;34m\u001b[0m\n\u001b[0;32m----> 1\u001b[0;31m \u001b[0mf\u001b[0m\u001b[0;34m.\u001b[0m\u001b[0mshow\u001b[0m\u001b[0;34m(\u001b[0m\u001b[0;34m)\u001b[0m\u001b[0;34m\u001b[0m\u001b[0;34m\u001b[0m\u001b[0m\n\u001b[0m",
      "\u001b[0;31mNameError\u001b[0m: name 'f' is not defined"
     ]
    }
   ],
   "source": [
    "f.show()"
   ]
  },
  {
   "cell_type": "code",
   "execution_count": 11,
   "metadata": {},
   "outputs": [],
   "source": [
    "ar.save()"
   ]
  },
  {
   "cell_type": "code",
   "execution_count": 18,
   "metadata": {},
   "outputs": [],
   "source": [
    "import sys\n",
    "sys.path.append('/data/GitHub/2019/EPA_PSM_antelope/')"
   ]
  },
  {
   "cell_type": "code",
   "execution_count": 20,
   "metadata": {},
   "outputs": [],
   "source": [
    "mass = cat.lcia_engine.get_canonical('mass')\n",
    "USD = next(cat.query('local.usepa.useeio').quantities(Name='price'))"
   ]
  },
  {
   "cell_type": "code",
   "execution_count": 19,
   "metadata": {},
   "outputs": [],
   "source": [
    "from antelope_epa.inventory_data import MockCfGenerator"
   ]
  },
  {
   "cell_type": "code",
   "execution_count": 22,
   "metadata": {},
   "outputs": [],
   "source": [
    "mock = MockCfGenerator(mass, USD, 'PSM-hackathon-leaf-flows_annotated.xlsx')"
   ]
  },
  {
   "cell_type": "code",
   "execution_count": 24,
   "metadata": {},
   "outputs": [],
   "source": [
    "_fgen = fg.flows(Material='.')"
   ]
  },
  {
   "cell_type": "code",
   "execution_count": 26,
   "metadata": {},
   "outputs": [],
   "source": [
    "f = next(_fgen)\n",
    "mock.characterize(f, demo=True)"
   ]
  },
  {
   "cell_type": "code",
   "execution_count": 29,
   "metadata": {},
   "outputs": [
    {
     "data": {
      "text/plain": [
       "0.23534490398053493"
      ]
     },
     "execution_count": 29,
     "metadata": {},
     "output_type": "execute_result"
    }
   ],
   "source": [
    "USD.cf(f)"
   ]
  },
  {
   "cell_type": "code",
   "execution_count": null,
   "metadata": {},
   "outputs": [],
   "source": []
  },
  {
   "cell_type": "code",
   "execution_count": 30,
   "metadata": {},
   "outputs": [],
   "source": [
    "for f in fg.flows(Material='.'):\n",
    "    mock.characterize(f, demo=False)"
   ]
  },
  {
   "cell_type": "code",
   "execution_count": 31,
   "metadata": {},
   "outputs": [
    {
     "name": "stdout",
     "output_type": "stream",
     "text": [
      "Wrote CFs to cfs.json\n"
     ]
    }
   ],
   "source": [
    "mock.save()"
   ]
  },
  {
   "cell_type": "code",
   "execution_count": 33,
   "metadata": {},
   "outputs": [],
   "source": [
    "ar.save()"
   ]
  },
  {
   "cell_type": "code",
   "execution_count": 35,
   "metadata": {},
   "outputs": [],
   "source": [
    "qs = [q for q in ar.entities_by_type('quantity')]"
   ]
  },
  {
   "cell_type": "code",
   "execution_count": 37,
   "metadata": {},
   "outputs": [
    {
     "data": {
      "text/plain": [
       "{'origin': 'local.qdb',\n",
       " 'externalId': 'flowproperties/01846770-4cfe-4a25-8ad9-919d8d378345',\n",
       " 'entityType': 'quantity',\n",
       " 'Name': 'Number of items',\n",
       " 'UnitConversion': {'Dozen(s)': 0.08333333333333333, 'Item(s)': 1.0},\n",
       " 'uuid': '01846770-4cfe-4a25-8ad9-919d8d378345',\n",
       " 'referenceUnit': 'Item(s)'}"
      ]
     },
     "execution_count": 37,
     "metadata": {},
     "output_type": "execute_result"
    }
   ],
   "source": [
    "qs[0].serialize()"
   ]
  },
  {
   "cell_type": "code",
   "execution_count": 21,
   "metadata": {},
   "outputs": [
    {
     "name": "stdout",
     "output_type": "stream",
     "text": [
      "Help on method characterize in module lcatools.interfaces.iquantity:\n",
      "\n",
      "characterize(flowable, ref_quantity, query_quantity, value, context=None, location='GLO', **kwargs) method of antelope_catalog.catalog_query.CatalogQuery instance\n",
      "    Add Characterization data for a flowable, reporting the amount of a query quantity that is equal to a unit\n",
      "    amount of a reference quantity, for a given context and location\n",
      "    :param flowable: string or flow external ref\n",
      "    :param ref_quantity: string or external ref\n",
      "    :param query_quantity: string or external ref\n",
      "    :param value: float or dict of locations to floats\n",
      "    :param context: string\n",
      "    :param location: string, ignored if value is dict\n",
      "    :param kwargs: overwrite=False, origin=query_quantity.origin, others?\n",
      "    :return:\n",
      "\n"
     ]
    }
   ],
   "source": [
    "help(fg.characterize)"
   ]
  },
  {
   "cell_type": "code",
   "execution_count": null,
   "metadata": {},
   "outputs": [],
   "source": []
  }
 ],
 "metadata": {
  "kernelspec": {
   "display_name": "lca-tools",
   "language": "python",
   "name": "lca-tools"
  },
  "language_info": {
   "codemirror_mode": {
    "name": "ipython",
    "version": 3
   },
   "file_extension": ".py",
   "mimetype": "text/x-python",
   "name": "python",
   "nbconvert_exporter": "python",
   "pygments_lexer": "ipython3",
   "version": "3.7.3"
  }
 },
 "nbformat": 4,
 "nbformat_minor": 2
}
