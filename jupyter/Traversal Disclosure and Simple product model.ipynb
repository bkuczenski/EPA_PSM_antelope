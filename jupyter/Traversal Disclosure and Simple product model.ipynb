{
 "cells": [
  {
   "cell_type": "code",
   "execution_count": 1,
   "metadata": {},
   "outputs": [],
   "source": [
    "import os\n",
    "# import sys\n",
    "WORKING_DIR = '/data/GitHub/2019/EPA_PSM_antelope'\n",
    "# sys.path.append(WORKING_DIR)\n",
    "CAT_DIR = os.path.join(WORKING_DIR, 'catalog')"
   ]
  },
  {
   "cell_type": "code",
   "execution_count": 2,
   "metadata": {},
   "outputs": [],
   "source": [
    "from antelope_catalog import LcCatalog"
   ]
  },
  {
   "cell_type": "code",
   "execution_count": 3,
   "metadata": {},
   "outputs": [
    {
     "name": "stdout",
     "output_type": "stream",
     "text": [
      "Loading JSON data from /data/GitHub/2019/EPA_PSM_antelope/catalog/reference-quantities.json:\n",
      "local.qdb: /data/GitHub/2019/EPA_PSM_antelope/catalog/reference-quantities.json\n",
      "local.qdb: /data/GitHub/lca-tools/lcatools/qdb/data/elcd_reference_quantities.json\n",
      "25 new quantity entities added (25 total)\n",
      "6 new flow entities added (6 total)\n"
     ]
    }
   ],
   "source": [
    "cat = LcCatalog(CAT_DIR)"
   ]
  },
  {
   "cell_type": "code",
   "execution_count": 4,
   "metadata": {},
   "outputs": [],
   "source": [
    "fg = cat.create_foreground('psm-hackathon')"
   ]
  },
  {
   "cell_type": "code",
   "execution_count": 5,
   "metadata": {
    "scrolled": false
   },
   "outputs": [
    {
     "name": "stdout",
     "output_type": "stream",
     "text": [
      "foreground.psm-hackathon: /data/GitHub/2019/EPA_PSM_antelope/catalog/psm-hackathon\n",
      "Loading /data/GitHub/2019/EPA_PSM_antelope/catalog/psm-hackathon\n",
      "foreground.psm-hackathon: /data/GitHub/2019/EPA_PSM_antelope/catalog/psm-hackathon/entities.json\n",
      "local.usepa.useeio.1.1: /data/LCI/USEEIO/USEEIOv1.1-JSONLD-foropenlca.zip\n",
      "Found Extension: zip\n",
      "Applying stored configuration\n",
      "Applying context hint local.usepa.useeio.1.1:water => to water\n",
      "Applying context hint local.usepa.useeio.1.1:air => to air\n",
      "Applying configuration to OpenLcaJsonLdArchive with 0 entities at /data/LCI/USEEIO/USEEIOv1.1-JSONLD-foropenlca.zip\n",
      "Missing canonical quantity-- adding to LciaDb\n",
      "registering local.usepa.useeio.1.1/b0682037-e878-4be4-a63a-a7a81053a691\n",
      "Retrieving canonical [local.usepa.useeio.1.1] Producer Price US 2013 [USD]\n",
      "0 new fragment entities added (0 total)\n",
      "3 new quantity entities added (3 total)\n",
      "1019 new flow entities added (1019 total)\n",
      "1402 new fragment entities added (1402 total)\n"
     ]
    }
   ],
   "source": [
    "ar = cat.get_archive(fg.origin)"
   ]
  },
  {
   "cell_type": "code",
   "execution_count": 6,
   "metadata": {},
   "outputs": [
    {
     "name": "stdout",
     "output_type": "stream",
     "text": [
      "   -<--O   44679 [       2 Item(s)] 74A400800-1001 ASSEMBLY\n",
      "    [   1 unit] 74A400800-1001 ASSEMBLY\n",
      "       | -<----: 126be (       2 Item(s)) RETAINER\n",
      "       | -<----: 1d01b (       1 Item(s)) PACKING\n",
      "       | -<----: 23fb1 (       1 Item(s)) PACKING\n",
      "       | -<----: 338d3 (       1 Item(s)) CYLINDER, RETRACT\n",
      "       | -<----: 33b39 (       1 Item(s)) SCRAPER\n",
      "       | -<----: 34a24 (       2 Item(s)) RETAINER\n",
      "       | -<----: 34a9d (       2 Item(s)) RETAINER\n",
      "       | -<----: 540e0 (       1 Item(s)) TUBE, TRANSFER\n",
      "       | -<----: 82b88 (       2 Item(s)) RETAINER\n",
      "       | -<----: 8f01b (       1 Item(s)) PLATE, LOCKING\n",
      "       | -<----: 8f8d0 (       1 Item(s)) PISTON, RETRACT\n",
      "       | -<----: b1cc4 (       1 Item(s)) PACKING\n",
      "       | -<----: c16fc (       2 Item(s)) RETAINER\n",
      "       | -<----: c668b (       1 Item(s)) SPACER, PLATE\n",
      "       | -<----: c840d (       1 Item(s)) LOCKWIRE\n",
      "       | -<----: d25ed (       1 Item(s)) PACKING\n",
      "       | -<----: d4d53 (       2 Item(s)) SCREW\n",
      "       | -<----: de72a (       1 Item(s)) PLATE, IDENT\n",
      "       | -<----: ea954 (       1 Item(s)) SEAL\n",
      "       | -<----: f0c29 (       2 Item(s)) RETAINER\n",
      "       | -<--O   40a73 (       1 Item(s)) ROD ASSEMBLY\n",
      "       |  [   1 unit] ROD ASSEMBLY\n",
      "       |     | -<----: 04ce8 (       1 Item(s)) ROD\n",
      "       |     | -<----: 142fa (       1 Item(s)) BEARING\n",
      "       |     x \n",
      "       | -<--O   58121 (       1 Item(s)) RING, PISTON\n",
      "       |  [   1 unit] RING, PISTON\n",
      "       |     | -<----: 8d1bf (       2 Item(s)) RING, PISTON\n",
      "       |     | -<----: ceced (       1 Item(s)) RING, EXPANDER\n",
      "       |     x \n",
      "       | -<--O   d0bf3 (       1 Item(s)) HEAD ASSEMBLY\n",
      "       |  [   1 unit] HEAD ASSEMBLY\n",
      "       |     | -<----: 392df (       1 Item(s)) BEARING\n",
      "       |     | -<----: 3e525 (       2 Item(s)) PACKING\n",
      "       |     | -<----: 91b6e (       2 Item(s)) PLUG\n",
      "       |     | -<----: 9b49d (       1 Item(s)) HEAD\n",
      "       |     | -<----: b6890 (       2 Item(s)) PIN\n",
      "       |     | -<----: bbd04 (       2 Item(s)) ADAPTER\n",
      "       |     x \n",
      "       x \n"
     ]
    }
   ],
   "source": [
    "frag = ar['74A400800-1001 ASSEMBLY']\n",
    "frag.show_tree()"
   ]
  },
  {
   "cell_type": "code",
   "execution_count": 7,
   "metadata": {},
   "outputs": [
    {
     "data": {
      "text/plain": [
       "['44679           1 [ Input] -#  74A400800-1001 ASSEMBLY',\n",
       " '126be           2 [ Input] --: RETAINER',\n",
       " '1d01b           1 [ Input] --: PACKING',\n",
       " '23fb1           1 [ Input] --: PACKING',\n",
       " '338d3           1 [ Input] --: CYLINDER, RETRACT',\n",
       " '33b39           1 [ Input] --: SCRAPER',\n",
       " '34a24           2 [ Input] --: RETAINER',\n",
       " '34a9d           2 [ Input] --: RETAINER',\n",
       " '40a73           1 [ Input] -#  ROD ASSEMBLY',\n",
       " '04ce8           1 [ Input] --: ROD',\n",
       " '142fa           1 [ Input] --: BEARING',\n",
       " '540e0           1 [ Input] --: TUBE, TRANSFER',\n",
       " '58121           1 [ Input] -#  RING, PISTON',\n",
       " '8d1bf           2 [ Input] --: RING, PISTON',\n",
       " 'ceced           1 [ Input] --: RING, EXPANDER',\n",
       " '82b88           2 [ Input] --: RETAINER',\n",
       " '8f01b           1 [ Input] --: PLATE, LOCKING',\n",
       " '8f8d0           1 [ Input] --: PISTON, RETRACT',\n",
       " 'b1cc4           1 [ Input] --: PACKING',\n",
       " 'c16fc           2 [ Input] --: RETAINER',\n",
       " 'c668b           1 [ Input] --: SPACER, PLATE',\n",
       " 'c840d           1 [ Input] --: LOCKWIRE',\n",
       " 'd0bf3           1 [ Input] -#  HEAD ASSEMBLY',\n",
       " '392df           1 [ Input] --: BEARING',\n",
       " '3e525           2 [ Input] --: PACKING',\n",
       " '91b6e           2 [ Input] --: PLUG',\n",
       " '9b49d           1 [ Input] --: HEAD',\n",
       " 'b6890           2 [ Input] --: PIN',\n",
       " 'bbd04           2 [ Input] --: ADAPTER',\n",
       " 'd25ed           1 [ Input] --: PACKING',\n",
       " 'd4d53           2 [ Input] --: SCREW',\n",
       " 'de72a           1 [ Input] --: PLATE, IDENT',\n",
       " 'ea954           1 [ Input] --: SEAL',\n",
       " 'f0c29           2 [ Input] --: RETAINER']"
      ]
     },
     "execution_count": 7,
     "metadata": {},
     "output_type": "execute_result"
    }
   ],
   "source": [
    "[str(k) for k in frag.traverse()]"
   ]
  },
  {
   "cell_type": "code",
   "execution_count": 8,
   "metadata": {},
   "outputs": [
    {
     "data": {
      "text/plain": [
       "[' Input:     [2 [Item(s)]]     RETAINER []',\n",
       " ' Input:     [2 [Item(s)]]     RETAINER []',\n",
       " ' Input:     [2 [Item(s)]]     RETAINER []',\n",
       " ' Input:     [2 [Item(s)]]     RING, PISTON []',\n",
       " ' Input:     [2 [Item(s)]]     RETAINER []',\n",
       " ' Input:     [2 [Item(s)]]     RETAINER []',\n",
       " ' Input:     [2 [Item(s)]]     PACKING []',\n",
       " ' Input:     [2 [Item(s)]]     PLUG []',\n",
       " ' Input:     [2 [Item(s)]]     PIN []',\n",
       " ' Input:     [2 [Item(s)]]     ADAPTER []',\n",
       " ' Input:     [2 [Item(s)]]     SCREW []',\n",
       " ' Input:     [2 [Item(s)]]     RETAINER []',\n",
       " ' Input:     [1 [Item(s)]]     PACKING []',\n",
       " ' Input:     [1 [Item(s)]]     PACKING []',\n",
       " ' Input:     [1 [Item(s)]]     CYLINDER, RETRACT []',\n",
       " ' Input:     [1 [Item(s)]]     SCRAPER []',\n",
       " ' Input:     [1 [Item(s)]]     ROD []',\n",
       " ' Input:     [1 [Item(s)]]     BEARING []',\n",
       " ' Input:     [1 [Item(s)]]     TUBE, TRANSFER []',\n",
       " ' Input:     [1 [Item(s)]]     RING, EXPANDER []',\n",
       " ' Input:     [1 [Item(s)]]     PLATE, LOCKING []',\n",
       " ' Input:     [1 [Item(s)]]     PISTON, RETRACT []',\n",
       " ' Input:     [1 [Item(s)]]     PACKING []',\n",
       " ' Input:     [1 [Item(s)]]     SPACER, PLATE []',\n",
       " ' Input:     [1 [Item(s)]]     LOCKWIRE []',\n",
       " ' Input:     [1 [Item(s)]]     BEARING []',\n",
       " ' Input:     [1 [Item(s)]]     HEAD []',\n",
       " ' Input:     [1 [Item(s)]]     PACKING []',\n",
       " ' Input:     [1 [Item(s)]]     PLATE, IDENT []',\n",
       " ' Input:     [1 [Item(s)]]     SEAL []',\n",
       " 'Output: {*} [2 [Item(s)]] {*} RETRACT ACTUATOR ASSY []']"
      ]
     },
     "execution_count": 8,
     "metadata": {},
     "output_type": "execute_result"
    }
   ],
   "source": [
    "[str(k) for k in frag.inventory()]"
   ]
  },
  {
   "cell_type": "code",
   "execution_count": 9,
   "metadata": {},
   "outputs": [],
   "source": [
    "import xlrd\n",
    "\n",
    "\n",
    "def mk_term_dict(fname, sheet='terminations'):\n",
    "    _kwd = dict()\n",
    "\n",
    "    _xl = xlrd.open_workbook(fname)\n",
    "    _s = _xl.sheet_by_name(sheet)\n",
    "    \n",
    "    def _s_cell(r, c):\n",
    "        return _s.cell(r, c).value.lower().strip()\n",
    "    \n",
    "    for r in range(1, _s.nrows):\n",
    "        key = _s_cell(r, 0), _s_cell(r, 1)\n",
    "        _kwd[key] = {_s_cell(0, k): _s_cell(r, k) for k in range(2, _s.ncols)}\n",
    "    return _kwd\n",
    "    \n"
   ]
  },
  {
   "cell_type": "code",
   "execution_count": 10,
   "metadata": {},
   "outputs": [],
   "source": [
    "term_dict = mk_term_dict('PSM-hackathon-leaf-flows_annotated.xlsx')"
   ]
  },
  {
   "cell_type": "code",
   "execution_count": 11,
   "metadata": {},
   "outputs": [
    {
     "name": "stdout",
     "output_type": "stream",
     "text": [
      "Help on method new_fragment in module lcatools.interfaces.iforeground:\n",
      "\n",
      "new_fragment(flow, direction, **kwargs) method of antelope_catalog.catalog_query.CatalogQuery instance\n",
      "    Create a fragment and add it to the foreground.\n",
      "    \n",
      "    If creating a child flow ('parent' kwarg is non-None), then supply the direction with respect to the parent\n",
      "    fragment. Otherwise, supply the direction with respect to the newly created fragment.  Example: for a fragment\n",
      "    for electricity production:\n",
      "    \n",
      "    >>> fg = ForegroundInterface(...)\n",
      "    >>> elec = fg.new_flow('Electricity supply fragment', 'kWh')\n",
      "    >>> my_frag = fg.new_fragment(elec, 'Output')\n",
      "    >>> child = fg.new_fragment(elec, 'Input', parent=my_frag, balance=True)\n",
      "    >>> child.terminate(elec_production_process)\n",
      "    \n",
      "    :param flow: a flow entity/ref, or an external_ref known to the foreground\n",
      "    :param direction:\n",
      "    :param kwargs: uuid=None, parent=None, comment=None, value=None, balance=False; **kwargs passed to LcFragment\n",
      "    :return: the fragment? or a fragment ref? <== should only be used in the event of a non-local foreground\n",
      "\n"
     ]
    }
   ],
   "source": [
    "help(fg.new_fragment)"
   ]
  },
  {
   "cell_type": "code",
   "execution_count": 12,
   "metadata": {},
   "outputs": [
    {
     "data": {
      "text/plain": [
       "'8560388b-7ea1-38b7-befc-fd25d5deb450'"
      ]
     },
     "execution_count": 12,
     "metadata": {},
     "output_type": "execute_result"
    }
   ],
   "source": [
    "term_dict['steel, stainless', 'technical']['local.uslci.olca']"
   ]
  },
  {
   "cell_type": "code",
   "execution_count": 13,
   "metadata": {},
   "outputs": [
    {
     "data": {
      "text/plain": [
       "{'local.uslci.olca': '076898a5-e1ce-3c50-9df4-6445fc0bb6aa',\n",
       " 'local.usepa.useeio.1.1': '49f5324b-fc33-36e9-b5af-3c80d73492bd',\n",
       " 'local.ecoinvent.3.4.apos': '',\n",
       " 'local.elcd.3.2': ''}"
      ]
     },
     "execution_count": 13,
     "metadata": {},
     "output_type": "execute_result"
    }
   ],
   "source": [
    "term_dict['assembly', '']"
   ]
  },
  {
   "cell_type": "code",
   "execution_count": 14,
   "metadata": {},
   "outputs": [],
   "source": [
    "container_frag = fg.new_fragment(frag.flow, 'Output', Comment='Container for %s' % frag.name)"
   ]
  },
  {
   "cell_type": "code",
   "execution_count": 15,
   "metadata": {},
   "outputs": [
    {
     "data": {
      "text/plain": [
       "<lcatools.terminations.FlowTermination at 0x7f5328693208>"
      ]
     },
     "execution_count": 15,
     "metadata": {},
     "output_type": "execute_result"
    }
   ],
   "source": [
    "container_frag.terminate(frag)"
   ]
  },
  {
   "cell_type": "code",
   "execution_count": 16,
   "metadata": {},
   "outputs": [],
   "source": [
    "def get_term_dict(flow):\n",
    "    key = ((flow.get('material') or '').lower().strip(),\n",
    "           (flow.get('parttype') or '').lower().strip())\n",
    "    return term_dict[key]\n"
   ]
  },
  {
   "cell_type": "code",
   "execution_count": 17,
   "metadata": {},
   "outputs": [],
   "source": [
    "_cgen = (_x for _x in frag.inventory() if not _x.is_reference)"
   ]
  },
  {
   "cell_type": "code",
   "execution_count": 18,
   "metadata": {},
   "outputs": [],
   "source": [
    "x = next(_cgen)"
   ]
  },
  {
   "cell_type": "code",
   "execution_count": 19,
   "metadata": {},
   "outputs": [
    {
     "data": {
      "text/plain": [
       "' Input:     [2 [Item(s)]]     RETAINER []'"
      ]
     },
     "execution_count": 19,
     "metadata": {},
     "output_type": "execute_result"
    }
   ],
   "source": [
    "str(x)"
   ]
  },
  {
   "cell_type": "code",
   "execution_count": 20,
   "metadata": {},
   "outputs": [
    {
     "data": {
      "text/plain": [
       "{'local.uslci.olca': 'e10de570-42e6-3cb6-98fe-7bf6da57046c',\n",
       " 'local.usepa.useeio.1.1': 'ad81ce2a-e3c5-3695-a2ef-812cd8b79dd3',\n",
       " 'local.ecoinvent.3.4.apos': '',\n",
       " 'local.elcd.3.2': 'db009019-338f-11dd-bd11-0800200c9a66'}"
      ]
     },
     "execution_count": 20,
     "metadata": {},
     "output_type": "execute_result"
    }
   ],
   "source": [
    "get_term_dict(x.flow)"
   ]
  },
  {
   "cell_type": "code",
   "execution_count": 21,
   "metadata": {},
   "outputs": [
    {
     "name": "stdout",
     "output_type": "stream",
     "text": [
      "Help on method terminate in module lcatools.entities.fragments:\n",
      "\n",
      "terminate(term_node, scenario=None, **kwargs) method of lcatools.entities.fragments.LcFragment instance\n",
      "    specify a termination.  background=True: if the flow has a parent, will create a new\n",
      "    :param term_node: The thing that terminates the flow\n",
      "    :param scenario:\n",
      "    :return:\n",
      "\n"
     ]
    }
   ],
   "source": [
    "help(frag.terminate)"
   ]
  },
  {
   "cell_type": "code",
   "execution_count": 22,
   "metadata": {
    "scrolled": false
   },
   "outputs": [
    {
     "name": "stdout",
     "output_type": "stream",
     "text": [
      "local.uslci.olca: /data/GitHub/2019/EPA_PSM_antelope/catalog/downloads/9f8daaf52dfb8462db119c42c92eb58913353ea1\n",
      "Found Extension: zip\n",
      "Applying stored configuration\n",
      "Applying quantity hint Energy -> Net Calorific Value\n",
      "Applying context hint local.uslci.olca:water => to water\n",
      "Applying context hint local.uslci.olca:air => to air\n",
      "Applying configuration to OpenLcaJsonLdArchive with 0 entities at /data/GitHub/2019/EPA_PSM_antelope/catalog/downloads/9f8daaf52dfb8462db119c42c92eb58913353ea1\n",
      "Setting reference 30a64e63-3583-3f83-8d8d-0b6ea003b888 [Output] for 0aaf1e13-5d80-37f9-b7bb-81a6b8965c71\n",
      "Setting reference c5f94bb1-b39e-39fa-b616-376a30531c2d [Output] for 0aaf1e13-5d80-37f9-b7bb-81a6b8965c71\n",
      "Setting reference d939590b-a0d7-310c-8952-9921ed64a078 [Output] for 0aaf1e13-5d80-37f9-b7bb-81a6b8965c71\n",
      "Setting reference 588384cf-851f-391e-bf49-c6e5309d76db [Output] for 0aaf1e13-5d80-37f9-b7bb-81a6b8965c71\n",
      "Setting reference 4f1bfabb-f0d3-3f1f-a905-2fd9b36bbfa0 [Output] for 0aaf1e13-5d80-37f9-b7bb-81a6b8965c71\n",
      "Setting reference 0e44e579-abb0-3c77-af64-c774d65be529 [Output] for 0aaf1e13-5d80-37f9-b7bb-81a6b8965c71\n",
      "Setting reference c4069217-dfd4-324a-9243-2ee8058809d6 [Output] for 0aaf1e13-5d80-37f9-b7bb-81a6b8965c71\n",
      "Setting reference 5f96ad43-abab-3b62-bcf8-c71f9d6c7881 [Output] for 0aaf1e13-5d80-37f9-b7bb-81a6b8965c71\n",
      "Setting reference 562918fe-3ff5-33f4-abaa-d8c615380d25 [Output] for 0aaf1e13-5d80-37f9-b7bb-81a6b8965c71\n",
      "UnSetting reference d939590b-a0d7-310c-8952-9921ed64a078 [Output] for dc72e285-719b-318b-9c9c-c838846a9cf4\n",
      "UnSetting reference 9dfc9e7c-3c20-3f4d-9d79-d54ec2d8d08b [Output] for 155839ec-d6ab-3ed6-b7c8-45586e676f6d\n",
      "Characterizing flow d939590b-a0d7-310c-8952-9921ed64a078 by 93a60a56-a3c8-11da-a746-0800200b9a66: 850\n",
      "Characterizing flow c5f94bb1-b39e-39fa-b616-376a30531c2d by 93a60a56-a3c8-11da-a746-0800200b9a66: 809\n",
      "Characterizing flow 588384cf-851f-391e-bf49-c6e5309d76db by 93a60a56-a3c8-11da-a746-0800200b9a66: 500\n",
      "Characterizing flow c4069217-dfd4-324a-9243-2ee8058809d6 by 93a60a56-a3c8-11da-a746-0800200b9a66: 0.737\n",
      "Characterizing flow 562918fe-3ff5-33f4-abaa-d8c615380d25 by 93a60a56-a3c8-11da-a746-0800200b9a66: 975\n",
      "Characterizing flow 0e44e579-abb0-3c77-af64-c774d65be529 by 93a60a56-a3c8-11da-a746-0800200b9a66: 750\n",
      "Allocating 0aaf1e13-5d80-37f9-b7bb-81a6b8965c71 by 93a60a56-a3c8-11da-a746-0800200b9a66\n"
     ]
    }
   ],
   "source": [
    "# should be an interface for this- child flows\n",
    "for c in frag.inventory():\n",
    "    if c.is_reference:\n",
    "        continue\n",
    "    #if container_frag.has_child(c.flow, c.direction):\n",
    "    #    continue\n",
    "    _f = fg.new_fragment(c.flow, c.direction, parent=container_frag)\n",
    "    _f.set_background()\n",
    "    \n",
    "    _td = get_term_dict(c.flow)\n",
    "    \n",
    "    for k in ('local.uslci.olca', 'local.usepa.useeio.1.1'):\n",
    "        try:\n",
    "            proc = cat.query(k).get(_td[k])\n",
    "        except KeyError:\n",
    "            continue\n",
    "        rx = proc.reference()\n",
    "        _f.terminate(proc, scenario=k, term_flow=rx.flow)"
   ]
  },
  {
   "cell_type": "code",
   "execution_count": 23,
   "metadata": {},
   "outputs": [
    {
     "name": "stdout",
     "output_type": "stream",
     "text": [
      "   -<--#:: 36bfe [       1 Item(s)] RETRACT ACTUATOR ASSY\n",
      "    [   1 unit] RETRACT ACTUATOR ASSY\n",
      "       | -<--B*  00e14 (+      1 Item(s)) SCRAPER\n",
      "       | -<--B*  07668 (+      1 Item(s)) SCREW\n",
      "       | -<--B*  13862 (+      1 Item(s)) LOCKWIRE\n",
      "       | -<--B*  208b3 (+      1 Item(s)) SEAL\n",
      "       | -<--B*  224a1 (+      1 Item(s)) PACKING\n",
      "       | -<--B*  22b3e (+      1 Item(s)) RETAINER\n",
      "       | -<--B*  286c4 (+      1 Item(s)) ADAPTER\n",
      "       | -<--B*  42ace (+      1 Item(s)) PACKING\n",
      "       | -<--B*  53013 (+      1 Item(s)) PLUG\n",
      "       | -<--B*  54583 (+      1 Item(s)) SPACER, PLATE\n",
      "       | -<--B*  55218 (+      1 Item(s)) PISTON, RETRACT\n",
      "       | -<----: 5b635 (       1 Item(s)) HEAD\n",
      "       | -<--B*  61523 (+      1 Item(s)) PLATE, IDENT\n",
      "       | -<--B*  71011 (+      1 Item(s)) TUBE, TRANSFER\n",
      "       | -<--B*  71ca8 (+      1 Item(s)) PACKING\n",
      "       | -<----: 7328c (       1 Item(s)) RING, PISTON\n",
      "       | -<--B*  79186 (+      1 Item(s)) RETAINER\n",
      "       | -<--B*  80182 (+      1 Item(s)) RETAINER\n",
      "       | -<--B*  923ef (+      1 Item(s)) RETAINER\n",
      "       | -<--B*  a2ca3 (+      1 Item(s)) PACKING\n",
      "       | -<--B*  b21bd (+      1 Item(s)) BEARING\n",
      "       | -<--B*  bc534 (+      1 Item(s)) RETAINER\n",
      "       | -<----: c95de (       1 Item(s)) ROD\n",
      "       | -<----: cf4f6 (       1 Item(s)) RING, EXPANDER\n",
      "       | -<--B*  d60ca (+      1 Item(s)) CYLINDER, RETRACT\n",
      "       | -<--B*  d825c (+      1 Item(s)) RETAINER\n",
      "       | -<--B*  d8710 (+      1 Item(s)) BEARING\n",
      "       | -<--B*  df712 (+      1 Item(s)) PIN\n",
      "       | -<--B*  e2024 (+      1 Item(s)) PLATE, LOCKING\n",
      "       | -<--B*  eb337 (+      1 Item(s)) PACKING\n",
      "       x \n"
     ]
    }
   ],
   "source": [
    "container_frag.show_tree('local.usepa.useeio.1.1')"
   ]
  },
  {
   "cell_type": "code",
   "execution_count": 24,
   "metadata": {
    "scrolled": false
   },
   "outputs": [],
   "source": [
    "ffs = [k for k in container_frag.traverse('local.uslci.olca')]"
   ]
  },
  {
   "cell_type": "code",
   "execution_count": 25,
   "metadata": {},
   "outputs": [
    {
     "data": {
      "text/plain": [
       "['36bfe           1 [ Input] -#  74A400800-1001 ASSEMBLY',\n",
       " '44679         0.5 [ Input] -#  74A400800-1001 ASSEMBLY',\n",
       " '40a73         0.5 [ Input] -#  ROD ASSEMBLY',\n",
       " '58121         0.5 [ Input] -#  RING, PISTON',\n",
       " 'd0bf3         0.5 [ Input] -#  HEAD ASSEMBLY',\n",
       " '00e14      0.0839 [ Input] -#  Ethylene dichloride-vinyl chloride monomer, at plant [RNA]',\n",
       " '07668     0.00842 [ Input] -#  Iron and steel, production mix [RNA]',\n",
       " '13862     0.00517 [ Input] -#  Iron and steel, production mix [RNA]',\n",
       " '208b3      0.0357 [ Input] -#  Butadiene, at plant [RNA]',\n",
       " '224a1        0.17 [ Input] -#  Polybutadiene, at plant [RNA]',\n",
       " '22b3e      0.0836 [ Input] -#  Ethylene dichloride-vinyl chloride monomer, at plant [RNA]',\n",
       " '286c4       0.484 [ Input] -#  Steel, stainless 304, flat rolled coil [RNA]',\n",
       " '42ace      0.0474 [ Input] -#  Polybutadiene, at plant [RNA]',\n",
       " '53013       0.819 [ Input] -#  Iron, sand casted [RNA]',\n",
       " '54583       0.718 [ Input] -#  Cold rolled sheet, steel, at plant [RNA]',\n",
       " '55218        1.01 [ Input] -#  Cold rolled sheet, steel, at plant [RNA]',\n",
       " '5b635       0.443 [ Input] -#  Iron, sand casted [RNA]',\n",
       " '61523      0.0691 [ Input] -#  Aluminum, extrusion, at plant [RNA]',\n",
       " '71011       0.675 [ Input] -#  Cold rolled sheet, steel, at plant [RNA]',\n",
       " '71ca8       0.131 [ Input] -#  Polybutadiene, at plant [RNA]',\n",
       " '7328c        0.42 [ Input] -#  Iron, sand casted [RNA]',\n",
       " '79186       0.105 [ Input] -#  Ethylene dichloride-vinyl chloride monomer, at plant [RNA]',\n",
       " '80182      0.0883 [ Input] -#  Ethylene dichloride-vinyl chloride monomer, at plant [RNA]',\n",
       " '923ef       0.074 [ Input] -#  Polystyrene, high impact, resin, at plant [RNA]',\n",
       " 'a2ca3      0.0669 [ Input] -#  Polybutadiene, at plant [RNA]',\n",
       " 'b21bd       0.172 [ Input] -#  Steel, stainless 304, flat rolled coil [RNA]',\n",
       " 'bc534       0.192 [ Input] -#  Ethylene dichloride-vinyl chloride monomer, at plant [RNA]',\n",
       " 'c95de       0.482 [ Input] -#  Iron, sand casted [RNA]',\n",
       " 'cf4f6       0.578 [ Input] -#  Iron, sand casted [RNA]',\n",
       " 'd60ca        1.27 [ Input] -#  Office scanner [GLO]',\n",
       " 'd825c       0.102 [ Input] -#  Ethylene dichloride-vinyl chloride monomer, at plant [RNA]',\n",
       " 'd8710       0.157 [ Input] -#  Steel, stainless 304, flat rolled coil [RNA]',\n",
       " 'df712       0.462 [ Input] -#  Semi-permanent mold (SPM) casting, aluminum [RNA]',\n",
       " 'e2024        1.66 [ Input] -#  Cold rolled sheet, steel, at plant [RNA]',\n",
       " 'eb337      0.0658 [ Input] -#  Polybutadiene, at plant [RNA]']"
      ]
     },
     "execution_count": 25,
     "metadata": {},
     "output_type": "execute_result"
    }
   ],
   "source": [
    "# terminated amounts in mass\n",
    "[str(k) for k in ffs]"
   ]
  },
  {
   "cell_type": "code",
   "execution_count": 26,
   "metadata": {},
   "outputs": [
    {
     "data": {
      "text/plain": [
       "['36bfe           1 [ Input] -#  74A400800-1001 ASSEMBLY',\n",
       " '44679         0.5 [ Input] -#  74A400800-1001 ASSEMBLY',\n",
       " '40a73         0.5 [ Input] -#  ROD ASSEMBLY',\n",
       " '58121         0.5 [ Input] -#  RING, PISTON',\n",
       " 'd0bf3         0.5 [ Input] -#  HEAD ASSEMBLY',\n",
       " '00e14         236 [ Input] -#  Other plastic products; at manufacturer [United States]',\n",
       " '07668       0.236 [ Input] -#  Screws, nuts, and bolts; at manufacturer [United States]',\n",
       " '13862        0.93 [ Input] -#  Screws, nuts, and bolts; at manufacturer [United States]',\n",
       " '208b3        8.66 [ Input] -#  Other plastic products; at manufacturer [United States]',\n",
       " '224a1        28.1 [ Input] -#  Synthetic rubber and artificial and synthetic fibers; at manufacturer [United States]',\n",
       " '22b3e        34.8 [ Input] -#  Other plastic products; at manufacturer [United States]',\n",
       " '286c4        78.4 [ Input] -#  Metal pipe fittings, ball and roller bearings, industrial patterns, metal bath fixtures, other misc. fabricated metals; at manufacturer [United States]',\n",
       " '42ace        15.9 [ Input] -#  Synthetic rubber and artificial and synthetic fibers; at manufacturer [United States]',\n",
       " '53013    1.17e+03 [ Input] -#  Fluid meters and counting devices; at manufacturer [United States]',\n",
       " '54583         542 [ Input] -#  Metal pipe fittings, ball and roller bearings, industrial patterns, metal bath fixtures, other misc. fabricated metals; at manufacturer [United States]',\n",
       " '55218         323 [ Input] -#  Metal pipe fittings, ball and roller bearings, industrial patterns, metal bath fixtures, other misc. fabricated metals; at manufacturer [United States]',\n",
       " '5b635         0.5 [ Input] --: HEAD',\n",
       " '61523        16.6 [ Input] -#  Aluminum products; at manufacturer [United States]',\n",
       " '71011         418 [ Input] -#  Metal pipe fittings, ball and roller bearings, industrial patterns, metal bath fixtures, other misc. fabricated metals; at manufacturer [United States]',\n",
       " '71ca8         153 [ Input] -#  Synthetic rubber and artificial and synthetic fibers; at manufacturer [United States]',\n",
       " '7328c           1 [ Input] --: RING, PISTON',\n",
       " '79186        23.3 [ Input] -#  Other plastic products; at manufacturer [United States]',\n",
       " '80182        28.9 [ Input] -#  Other plastic products; at manufacturer [United States]',\n",
       " '923ef        14.9 [ Input] -#  Other plastic products; at manufacturer [United States]',\n",
       " 'a2ca3        17.1 [ Input] -#  Synthetic rubber and artificial and synthetic fibers; at manufacturer [United States]',\n",
       " 'b21bd         402 [ Input] -#  Ball and roller bearings; at manufacturer [United States]',\n",
       " 'bc534         586 [ Input] -#  Other plastic products; at manufacturer [United States]',\n",
       " 'c95de         0.5 [ Input] --: ROD',\n",
       " 'cf4f6         0.5 [ Input] --: RING, EXPANDER',\n",
       " 'd60ca         343 [ Input] -#  Relay and industrial controls; at manufacturer [United States]',\n",
       " 'd825c        33.9 [ Input] -#  Other plastic products; at manufacturer [United States]',\n",
       " 'd8710         426 [ Input] -#  Ball and roller bearings; at manufacturer [United States]',\n",
       " 'df712    1.15e+03 [ Input] -#  Metal pipe fittings, ball and roller bearings, industrial patterns, metal bath fixtures, other misc. fabricated metals; at manufacturer [United States]',\n",
       " 'e2024         397 [ Input] -#  Metal pipe fittings, ball and roller bearings, industrial patterns, metal bath fixtures, other misc. fabricated metals; at manufacturer [United States]',\n",
       " 'eb337        9.43 [ Input] -#  Synthetic rubber and artificial and synthetic fibers; at manufacturer [United States]']"
      ]
     },
     "execution_count": 26,
     "metadata": {},
     "output_type": "execute_result"
    }
   ],
   "source": [
    "# terminated amounts in USD\n",
    "[str(k) for k in container_frag.traverse('local.usepa.useeio.1.1')]"
   ]
  },
  {
   "cell_type": "code",
   "execution_count": null,
   "metadata": {},
   "outputs": [],
   "source": []
  },
  {
   "cell_type": "code",
   "execution_count": 27,
   "metadata": {},
   "outputs": [],
   "source": [
    "from lca_disclosures.antelope import AntelopeTraversalDisclosure"
   ]
  },
  {
   "cell_type": "code",
   "execution_count": 28,
   "metadata": {},
   "outputs": [
    {
     "name": "stdout",
     "output_type": "stream",
     "text": [
      "36bfe           1 [ Input] -#  74A400800-1001 ASSEMBLY\n",
      "Handling as FG\n",
      "Adding parent ObservedFragmentFlow(Parent: None, Term: (0,), Magnitude: 1)\n",
      "Adding parent <lca_disclosures.antelope.traversal_observer.ProxyParent object at 0x7f52f802b160>\n",
      "44679         0.5 [ Input] -#  74A400800-1001 ASSEMBLY\n",
      "Handling as FG\n",
      "Adding parent ObservedFragmentFlow(Parent: None, Term: (0, 1), Magnitude: 1)\n",
      "40a73         0.5 [ Input] -#  ROD ASSEMBLY\n",
      "Handling as FG\n",
      "Adding parent ObservedFragmentFlow(Parent: (0, 1), Term: (0, 2), Magnitude: 0.5)\n",
      "58121         0.5 [ Input] -#  RING, PISTON\n",
      "Popped parent ObservedFragmentFlow(Parent: (0, 1), Term: (0, 2), Magnitude: 0.5)\n",
      "Handling as FG\n",
      "Adding parent ObservedFragmentFlow(Parent: (0, 1), Term: (0, 3), Magnitude: 0.5)\n",
      "d0bf3         0.5 [ Input] -#  HEAD ASSEMBLY\n",
      "Popped parent ObservedFragmentFlow(Parent: (0, 1), Term: (0, 3), Magnitude: 0.5)\n",
      "Handling as FG\n",
      "Adding parent ObservedFragmentFlow(Parent: (0, 1), Term: (0, 4), Magnitude: 0.5)\n",
      "00e14      0.0839 [ Input] -#  Ethylene dichloride-vinyl chloride monomer, at plant [RNA]\n",
      "Popped parent ObservedFragmentFlow(Parent: (0, 1), Term: (0, 4), Magnitude: 0.5)\n",
      "Popped parent ObservedFragmentFlow(Parent: None, Term: (0, 1), Magnitude: 1)\n",
      "Popped parent <lca_disclosures.antelope.traversal_observer.ProxyParent object at 0x7f52f802b160>\n",
      "Handling as BG\n",
      "07668     0.00842 [ Input] -#  Iron and steel, production mix [RNA]\n",
      "Handling as BG\n",
      "13862     0.00517 [ Input] -#  Iron and steel, production mix [RNA]\n",
      "Handling as BG\n",
      "208b3      0.0357 [ Input] -#  Butadiene, at plant [RNA]\n",
      "Handling as BG\n",
      "224a1        0.17 [ Input] -#  Polybutadiene, at plant [RNA]\n",
      "Handling as BG\n",
      "22b3e      0.0836 [ Input] -#  Ethylene dichloride-vinyl chloride monomer, at plant [RNA]\n",
      "Handling as BG\n",
      "286c4       0.484 [ Input] -#  Steel, stainless 304, flat rolled coil [RNA]\n",
      "Handling as BG\n",
      "42ace      0.0474 [ Input] -#  Polybutadiene, at plant [RNA]\n",
      "Handling as BG\n",
      "53013       0.819 [ Input] -#  Iron, sand casted [RNA]\n",
      "Handling as BG\n",
      "54583       0.718 [ Input] -#  Cold rolled sheet, steel, at plant [RNA]\n",
      "Handling as BG\n",
      "55218        1.01 [ Input] -#  Cold rolled sheet, steel, at plant [RNA]\n",
      "Handling as BG\n",
      "5b635       0.443 [ Input] -#  Iron, sand casted [RNA]\n",
      "Handling as BG\n",
      "61523      0.0691 [ Input] -#  Aluminum, extrusion, at plant [RNA]\n",
      "Handling as BG\n",
      "71011       0.675 [ Input] -#  Cold rolled sheet, steel, at plant [RNA]\n",
      "Handling as BG\n",
      "71ca8       0.131 [ Input] -#  Polybutadiene, at plant [RNA]\n",
      "Handling as BG\n",
      "7328c        0.42 [ Input] -#  Iron, sand casted [RNA]\n",
      "Handling as BG\n",
      "79186       0.105 [ Input] -#  Ethylene dichloride-vinyl chloride monomer, at plant [RNA]\n",
      "Handling as BG\n",
      "80182      0.0883 [ Input] -#  Ethylene dichloride-vinyl chloride monomer, at plant [RNA]\n",
      "Handling as BG\n",
      "923ef       0.074 [ Input] -#  Polystyrene, high impact, resin, at plant [RNA]\n",
      "Handling as BG\n",
      "a2ca3      0.0669 [ Input] -#  Polybutadiene, at plant [RNA]\n",
      "Handling as BG\n",
      "b21bd       0.172 [ Input] -#  Steel, stainless 304, flat rolled coil [RNA]\n",
      "Handling as BG\n",
      "bc534       0.192 [ Input] -#  Ethylene dichloride-vinyl chloride monomer, at plant [RNA]\n",
      "Handling as BG\n",
      "c95de       0.482 [ Input] -#  Iron, sand casted [RNA]\n",
      "Handling as BG\n",
      "cf4f6       0.578 [ Input] -#  Iron, sand casted [RNA]\n",
      "Handling as BG\n",
      "d60ca        1.27 [ Input] -#  Office scanner [GLO]\n",
      "Handling as BG\n",
      "d825c       0.102 [ Input] -#  Ethylene dichloride-vinyl chloride monomer, at plant [RNA]\n",
      "Handling as BG\n",
      "d8710       0.157 [ Input] -#  Steel, stainless 304, flat rolled coil [RNA]\n",
      "Handling as BG\n",
      "df712       0.462 [ Input] -#  Semi-permanent mold (SPM) casting, aluminum [RNA]\n",
      "Handling as BG\n",
      "e2024        1.66 [ Input] -#  Cold rolled sheet, steel, at plant [RNA]\n",
      "Handling as BG\n",
      "eb337      0.0658 [ Input] -#  Polybutadiene, at plant [RNA]\n",
      "Handling as BG\n"
     ]
    }
   ],
   "source": [
    "ads = AntelopeTraversalDisclosure(container_frag.traverse(scenario='local.uslci.olca'))"
   ]
  },
  {
   "cell_type": "code",
   "execution_count": 29,
   "metadata": {},
   "outputs": [
    {
     "data": {
      "text/plain": [
       "'foo.xlsx'"
      ]
     },
     "execution_count": 29,
     "metadata": {},
     "output_type": "execute_result"
    }
   ],
   "source": [
    "ads.write_excel('foo.xlsx')"
   ]
  },
  {
   "cell_type": "code",
   "execution_count": 30,
   "metadata": {},
   "outputs": [
    {
     "name": "stdout",
     "output_type": "stream",
     "text": [
      "36bfe           1 [ Input] -#  74A400800-1001 ASSEMBLY\n",
      "Handling as FG\n",
      "Adding parent ObservedFragmentFlow(Parent: None, Term: (0,), Magnitude: 1)\n",
      "Adding parent <lca_disclosures.antelope.traversal_observer.ProxyParent object at 0x7f52f7e45518>\n",
      "44679         0.5 [ Input] -#  74A400800-1001 ASSEMBLY\n",
      "Handling as FG\n",
      "Adding parent ObservedFragmentFlow(Parent: None, Term: (0, 1), Magnitude: 1)\n",
      "40a73         0.5 [ Input] -#  ROD ASSEMBLY\n",
      "Handling as FG\n",
      "Adding parent ObservedFragmentFlow(Parent: (0, 1), Term: (0, 2), Magnitude: 0.5)\n",
      "58121         0.5 [ Input] -#  RING, PISTON\n",
      "Popped parent ObservedFragmentFlow(Parent: (0, 1), Term: (0, 2), Magnitude: 0.5)\n",
      "Handling as FG\n",
      "Adding parent ObservedFragmentFlow(Parent: (0, 1), Term: (0, 3), Magnitude: 0.5)\n",
      "d0bf3         0.5 [ Input] -#  HEAD ASSEMBLY\n",
      "Popped parent ObservedFragmentFlow(Parent: (0, 1), Term: (0, 3), Magnitude: 0.5)\n",
      "Handling as FG\n",
      "Adding parent ObservedFragmentFlow(Parent: (0, 1), Term: (0, 4), Magnitude: 0.5)\n",
      "00e14         236 [ Input] -#  Other plastic products; at manufacturer [United States]\n",
      "Popped parent ObservedFragmentFlow(Parent: (0, 1), Term: (0, 4), Magnitude: 0.5)\n",
      "Popped parent ObservedFragmentFlow(Parent: None, Term: (0, 1), Magnitude: 1)\n",
      "Popped parent <lca_disclosures.antelope.traversal_observer.ProxyParent object at 0x7f52f7e45518>\n",
      "Handling as BG\n",
      "07668       0.236 [ Input] -#  Screws, nuts, and bolts; at manufacturer [United States]\n",
      "Handling as BG\n",
      "13862        0.93 [ Input] -#  Screws, nuts, and bolts; at manufacturer [United States]\n",
      "Handling as BG\n",
      "208b3        8.66 [ Input] -#  Other plastic products; at manufacturer [United States]\n",
      "Handling as BG\n",
      "224a1        28.1 [ Input] -#  Synthetic rubber and artificial and synthetic fibers; at manufacturer [United States]\n",
      "Handling as BG\n",
      "22b3e        34.8 [ Input] -#  Other plastic products; at manufacturer [United States]\n",
      "Handling as BG\n",
      "286c4        78.4 [ Input] -#  Metal pipe fittings, ball and roller bearings, industrial patterns, metal bath fixtures, other misc. fabricated metals; at manufacturer [United States]\n",
      "Handling as BG\n",
      "42ace        15.9 [ Input] -#  Synthetic rubber and artificial and synthetic fibers; at manufacturer [United States]\n",
      "Handling as BG\n",
      "53013    1.17e+03 [ Input] -#  Fluid meters and counting devices; at manufacturer [United States]\n",
      "Handling as BG\n",
      "54583         542 [ Input] -#  Metal pipe fittings, ball and roller bearings, industrial patterns, metal bath fixtures, other misc. fabricated metals; at manufacturer [United States]\n",
      "Handling as BG\n",
      "55218         323 [ Input] -#  Metal pipe fittings, ball and roller bearings, industrial patterns, metal bath fixtures, other misc. fabricated metals; at manufacturer [United States]\n",
      "Handling as BG\n",
      "5b635         0.5 [ Input] --: HEAD\n",
      "Adding Cutoff \n",
      "61523        16.6 [ Input] -#  Aluminum products; at manufacturer [United States]\n",
      "Handling as BG\n",
      "71011         418 [ Input] -#  Metal pipe fittings, ball and roller bearings, industrial patterns, metal bath fixtures, other misc. fabricated metals; at manufacturer [United States]\n",
      "Handling as BG\n",
      "71ca8         153 [ Input] -#  Synthetic rubber and artificial and synthetic fibers; at manufacturer [United States]\n",
      "Handling as BG\n",
      "7328c           1 [ Input] --: RING, PISTON\n",
      "Adding Cutoff \n",
      "79186        23.3 [ Input] -#  Other plastic products; at manufacturer [United States]\n",
      "Handling as BG\n",
      "80182        28.9 [ Input] -#  Other plastic products; at manufacturer [United States]\n",
      "Handling as BG\n",
      "923ef        14.9 [ Input] -#  Other plastic products; at manufacturer [United States]\n",
      "Handling as BG\n",
      "a2ca3        17.1 [ Input] -#  Synthetic rubber and artificial and synthetic fibers; at manufacturer [United States]\n",
      "Handling as BG\n",
      "b21bd         402 [ Input] -#  Ball and roller bearings; at manufacturer [United States]\n",
      "Handling as BG\n",
      "bc534         586 [ Input] -#  Other plastic products; at manufacturer [United States]\n",
      "Handling as BG\n",
      "c95de         0.5 [ Input] --: ROD\n",
      "Adding Cutoff \n",
      "cf4f6         0.5 [ Input] --: RING, EXPANDER\n",
      "Adding Cutoff \n",
      "d60ca         343 [ Input] -#  Relay and industrial controls; at manufacturer [United States]\n",
      "Handling as BG\n",
      "d825c        33.9 [ Input] -#  Other plastic products; at manufacturer [United States]\n",
      "Handling as BG\n",
      "d8710         426 [ Input] -#  Ball and roller bearings; at manufacturer [United States]\n",
      "Handling as BG\n",
      "df712    1.15e+03 [ Input] -#  Metal pipe fittings, ball and roller bearings, industrial patterns, metal bath fixtures, other misc. fabricated metals; at manufacturer [United States]\n",
      "Handling as BG\n",
      "e2024         397 [ Input] -#  Metal pipe fittings, ball and roller bearings, industrial patterns, metal bath fixtures, other misc. fabricated metals; at manufacturer [United States]\n",
      "Handling as BG\n",
      "eb337        9.43 [ Input] -#  Synthetic rubber and artificial and synthetic fibers; at manufacturer [United States]\n",
      "Handling as BG\n"
     ]
    }
   ],
   "source": [
    "adt = AntelopeTraversalDisclosure(container_frag.traverse(scenario='local.usepa.useeio.1.1'))"
   ]
  },
  {
   "cell_type": "code",
   "execution_count": 31,
   "metadata": {},
   "outputs": [
    {
     "data": {
      "text/plain": [
       "'bar.xlsx'"
      ]
     },
     "execution_count": 31,
     "metadata": {},
     "output_type": "execute_result"
    }
   ],
   "source": [
    "adt.write_excel('bar')"
   ]
  }
 ],
 "metadata": {
  "kernelspec": {
   "display_name": "lca-tools",
   "language": "python",
   "name": "lca-tools"
  },
  "language_info": {
   "codemirror_mode": {
    "name": "ipython",
    "version": 3
   },
   "file_extension": ".py",
   "mimetype": "text/x-python",
   "name": "python",
   "nbconvert_exporter": "python",
   "pygments_lexer": "ipython3",
   "version": "3.7.3"
  }
 },
 "nbformat": 4,
 "nbformat_minor": 2
}
