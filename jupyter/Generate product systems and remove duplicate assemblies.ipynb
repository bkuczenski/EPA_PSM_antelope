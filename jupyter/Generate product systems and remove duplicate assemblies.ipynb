{
 "cells": [
  {
   "cell_type": "code",
   "execution_count": 1,
   "metadata": {},
   "outputs": [],
   "source": [
    "import os\n",
    "import sys\n",
    "WORKING_DIR = '/data/GitHub/2019/EPA_PSM_antelope'\n",
    "sys.path.append(WORKING_DIR)\n",
    "CAT_DIR = os.path.join(WORKING_DIR, 'catalog')"
   ]
  },
  {
   "cell_type": "code",
   "execution_count": 2,
   "metadata": {},
   "outputs": [],
   "source": [
    "from antelope_epa.epa_psm_antelope import EpaF18Foreground"
   ]
  },
  {
   "cell_type": "code",
   "execution_count": 3,
   "metadata": {},
   "outputs": [],
   "source": [
    "from antelope_catalog import LcCatalog"
   ]
  },
  {
   "cell_type": "code",
   "execution_count": 4,
   "metadata": {},
   "outputs": [
    {
     "name": "stdout",
     "output_type": "stream",
     "text": [
      "Loading JSON data from /data/GitHub/2019/EPA_PSM_antelope/catalog/reference-quantities.json:\n",
      "local.qdb: /data/GitHub/2019/EPA_PSM_antelope/catalog/reference-quantities.json\n",
      "local.qdb: /data/GitHub/lca-tools/lcatools/qdb/data/elcd_reference_quantities.json\n",
      "6 new flow entities added (6 total)\n",
      "25 new quantity entities added (25 total)\n"
     ]
    }
   ],
   "source": [
    "cat = LcCatalog(CAT_DIR)"
   ]
  },
  {
   "cell_type": "code",
   "execution_count": 5,
   "metadata": {},
   "outputs": [
    {
     "name": "stdout",
     "output_type": "stream",
     "text": [
      "local.data.GitHub.2019.EPA_PSM_antelope.catalog.psm-hackathon: /data/GitHub/2019/EPA_PSM_antelope/catalog/psm-hackathon\n",
      "Loading /data/GitHub/2019/EPA_PSM_antelope/catalog/psm-hackathon\n",
      "0 new fragment entities added (0 total)\n"
     ]
    }
   ],
   "source": [
    "fg = cat.create_foreground('psm-hackathon')"
   ]
  },
  {
   "cell_type": "code",
   "execution_count": 6,
   "metadata": {},
   "outputs": [
    {
     "name": "stdout",
     "output_type": "stream",
     "text": [
      "Workbook: NLG F18EFG ABL.xlsx\n",
      "Assemblies: ['74A430500-1017', '74A430700-1009', '74A430800-1021']\n",
      "74A430500-1017: set()\n",
      "Warning: parent is self: 74B430704-101 (row 19)\n",
      "Warning: parent is self: 74B430705-103 (row 21)\n",
      "74A430700-1009: set()\n",
      "74A430800-1021: set()\n",
      "Missing: set()\n",
      "\n",
      "Workbook: MLG F18EFG ABL_c.xlsx\n",
      "Assemblies: ['74A400500-1017', '74A400500-1018', '74A400700-1013', '74A400700-1014', '74A400800-1001']\n",
      "74A400500-1017: set()\n",
      "74A400500-1018: set()\n",
      "74A400700-1013: set()\n",
      "74A400700-1014: set()\n",
      "74A400800-1001: set()\n",
      "Missing: set()\n",
      "\n",
      "Workbook: MLG F18EFG ABL.xlsx\n",
      "Assemblies: ['74A400500-1017', '74A400500-1018', '74A400700-1013', '74A400700-1014', '74A400800-1001']\n",
      "74A400500-1017: {'74A400631-2003', '74A400600-1017'}\n",
      "74A400500-1018: {'74A400631-2003', '74A400600-1017'}\n",
      "74A400700-1013: {'74A400780-1001', '74A400700-2009', '74A400700-1011'}\n",
      "74A400700-1014: {'74A400780-1001', '74A400700-2009', '74A400700-1012'}\n",
      "74A400800-1001: set()\n",
      "Missing: {'74A400700-2009', '74A400700-1012', '74A400700-1011', '74A400631-2003', '74A400780-1001', '74A400600-1017'}\n",
      "\n",
      "Cross-References: set()\n",
      "Globally Missing: {'74A400700-2009', '74A400700-1012', '74A400631-2003', '74A400780-1001', '74A400700-1011', '74A400600-1017'}\n",
      "Valid assemblies: ['74A430500-1017', '74A430700-1009', '74A430800-1021', '74A400500-1017', '74A400500-1018', '74A400700-1013', '74A400700-1014', '74A400800-1001']\n"
     ]
    }
   ],
   "source": [
    "efg = EpaF18Foreground(fg, folder='/data/GitHub/2019/LCAproductsystemassembly_1/data-foreground/')"
   ]
  },
  {
   "cell_type": "code",
   "execution_count": 7,
   "metadata": {},
   "outputs": [],
   "source": [
    "for x in efg.valid_sheets:\n",
    "    efg.create_assembly(x)"
   ]
  },
  {
   "cell_type": "code",
   "execution_count": 8,
   "metadata": {},
   "outputs": [
    {
     "data": {
      "text/plain": [
       "['74A430500-1017 ASSEMBLY',\n",
       " '74A430700-1009 ASSEMBLY',\n",
       " '74A430800-1021 ASSEMBLY',\n",
       " '74A400500-1017 ASSEMBLY',\n",
       " '74A400500-1018 ASSEMBLY',\n",
       " '74A400700-1013 ASSEMBLY',\n",
       " '74A400700-1014 ASSEMBLY',\n",
       " '74A400800-1001 ASSEMBLY']"
      ]
     },
     "execution_count": 8,
     "metadata": {},
     "output_type": "execute_result"
    }
   ],
   "source": [
    "[k.external_ref for k in efg._refs]"
   ]
  },
  {
   "cell_type": "code",
   "execution_count": 9,
   "metadata": {},
   "outputs": [
    {
     "data": {
      "text/plain": [
       "1528"
      ]
     },
     "execution_count": 9,
     "metadata": {},
     "output_type": "execute_result"
    }
   ],
   "source": [
    "efg.fg.count('fragment')"
   ]
  },
  {
   "cell_type": "code",
   "execution_count": 10,
   "metadata": {},
   "outputs": [],
   "source": [
    "dup_flows = [list(set(k.flow for k in d))[0] for d in efg.duplicate_subassemblies()]"
   ]
  },
  {
   "cell_type": "code",
   "execution_count": 11,
   "metadata": {},
   "outputs": [
    {
     "data": {
      "text/plain": [
       "[('74A400940-1003', 'AXLE ASSY'),\n",
       " ('74A400740-1001', 'SIDE BR ASSY,LWR'),\n",
       " ('74A400912-1003', 'BOLT, ASSY, RETNR'),\n",
       " ('74A410518-2005A', 'RING, TIEDOWN'),\n",
       " ('74A400517-1003', 'BOLT ASSY'),\n",
       " ('74A400939-1001', 'ROD ASSY, SPR'),\n",
       " ('74A400574-1001', 'LINK ASSY, UPPER'),\n",
       " ('74A400734-1003', 'UNIV ASSY'),\n",
       " ('74B400977-101', 'BEARING'),\n",
       " ('74A400711-1001', 'RING ASSY'),\n",
       " ('74B400516-2001', 'SCREW, CAP'),\n",
       " ('74A400730-1003', 'SIDE BR ASSY,UPR'),\n",
       " ('74A400780-1003', 'CONN LINK ASSY'),\n",
       " ('74A400600-1019', 'SHOCK ABS ASSY'),\n",
       " ('74A400736-1001', 'ADAPTER ASSY'),\n",
       " ('74A400701-1005', 'BELLCRANK ASSY-UPR'),\n",
       " ('74A400750-1005', 'LINK ASSY, LWR'),\n",
       " ('74A400561-1005', 'LINK ASSY, LOWER'),\n",
       " ('74B400914-105', 'BEARING,PLAIN')]"
      ]
     },
     "execution_count": 11,
     "metadata": {},
     "output_type": "execute_result"
    }
   ],
   "source": [
    "[(k.external_ref, k.name) for k in dup_flows]"
   ]
  },
  {
   "cell_type": "code",
   "execution_count": 12,
   "metadata": {},
   "outputs": [
    {
     "data": {
      "text/plain": [
       "19"
      ]
     },
     "execution_count": 12,
     "metadata": {},
     "output_type": "execute_result"
    }
   ],
   "source": [
    "len(dup_flows)"
   ]
  },
  {
   "cell_type": "code",
   "execution_count": 13,
   "metadata": {},
   "outputs": [],
   "source": [
    "_dag = efg.duplicate_subassemblies()"
   ]
  },
  {
   "cell_type": "code",
   "execution_count": 33,
   "metadata": {},
   "outputs": [],
   "source": [
    "dup_set = list(next(_dag))"
   ]
  },
  {
   "cell_type": "code",
   "execution_count": 34,
   "metadata": {},
   "outputs": [
    {
     "data": {
      "text/plain": [
       "[<lcatools.entities.fragments.LcFragment at 0x7f0535dd4518>,\n",
       " <lcatools.entities.fragments.LcFragment at 0x7f0535d76c88>]"
      ]
     },
     "execution_count": 34,
     "metadata": {},
     "output_type": "execute_result"
    }
   ],
   "source": [
    "dup_set"
   ]
  },
  {
   "cell_type": "markdown",
   "metadata": {},
   "source": [
    "## check their inventories for identity\n",
    "We can't use `inventory()` because that runs the inventory of the top (reference) fragment, and neither of these are reference fragments. But we can use the direct traversal and group the inputs and outputs"
   ]
  },
  {
   "cell_type": "code",
   "execution_count": 16,
   "metadata": {},
   "outputs": [],
   "source": [
    "from lcatools.fragment_flows import group_ios"
   ]
  },
  {
   "cell_type": "code",
   "execution_count": 35,
   "metadata": {},
   "outputs": [],
   "source": [
    "io0, _ = group_ios(dup_set[0], dup_set[0].traverse(None))"
   ]
  },
  {
   "cell_type": "code",
   "execution_count": 36,
   "metadata": {},
   "outputs": [],
   "source": [
    "io1, _ = group_ios(dup_set[0], dup_set[1].traverse(None))  # parent is used just for building the exchanges"
   ]
  },
  {
   "cell_type": "code",
   "execution_count": 37,
   "metadata": {},
   "outputs": [
    {
     "data": {
      "text/plain": [
       "['74A40           1 [Output] --: 74A400700-1013 ASSEMBLY',\n",
       " 'NAS51           4 [ Input] --: FITTING',\n",
       " '74A40           2 [ Input] --: BUSHING',\n",
       " '74A40           2 [ Input] --: BUSHING',\n",
       " '74A40           1 [ Input] --: SIDE BRACE,LWR,FORGING']"
      ]
     },
     "execution_count": 37,
     "metadata": {},
     "output_type": "execute_result"
    }
   ],
   "source": [
    "[str(k) for k in io0]"
   ]
  },
  {
   "cell_type": "code",
   "execution_count": 38,
   "metadata": {},
   "outputs": [
    {
     "data": {
      "text/plain": [
       "['74A40           1 [Output] --: 74A400700-1013 ASSEMBLY',\n",
       " '74A40           2 [ Input] --: BUSHING',\n",
       " '74A40           2 [ Input] --: BUSHING',\n",
       " 'NAS51           4 [ Input] --: FITTING',\n",
       " '74A40           1 [ Input] --: SIDE BRACE,LWR,FORGING']"
      ]
     },
     "execution_count": 38,
     "metadata": {},
     "output_type": "execute_result"
    }
   ],
   "source": [
    "[str(k) for k in io1]"
   ]
  },
  {
   "cell_type": "code",
   "execution_count": 39,
   "metadata": {},
   "outputs": [
    {
     "data": {
      "text/plain": [
       "True"
      ]
     },
     "execution_count": 39,
     "metadata": {},
     "output_type": "execute_result"
    }
   ],
   "source": [
    "{(k.fragment.flow, k.fragment.direction, k.magnitude) for k in io0} == \\\n",
    "{(k.fragment.flow, k.fragment.direction, k.magnitude) for k in io1}"
   ]
  },
  {
   "cell_type": "code",
   "execution_count": null,
   "metadata": {},
   "outputs": [],
   "source": [
    "# store the inventories to test equivalency later"
   ]
  },
  {
   "cell_type": "code",
   "execution_count": 40,
   "metadata": {},
   "outputs": [],
   "source": [
    "tops = [k.top() for k in dup_set]"
   ]
  },
  {
   "cell_type": "code",
   "execution_count": 41,
   "metadata": {},
   "outputs": [],
   "source": [
    "u0 = tops[0].inventory()\n",
    "u1 = tops[1].inventory()"
   ]
  },
  {
   "cell_type": "code",
   "execution_count": null,
   "metadata": {},
   "outputs": [],
   "source": [
    "# now swap them out"
   ]
  },
  {
   "cell_type": "code",
   "execution_count": 42,
   "metadata": {},
   "outputs": [],
   "source": [
    "efg.reduce_duplicates(*dup_set)"
   ]
  },
  {
   "cell_type": "code",
   "execution_count": 43,
   "metadata": {},
   "outputs": [
    {
     "name": "stdout",
     "output_type": "stream",
     "text": [
      "( ** ref) -<- 06af7 -<- -O    [   1 Item(s)] SIDE BR ASSY,LWR {74A400740-1001 ASSEMBLY}\n",
      "Fragment Entity (ref 74A400740-1001 ASSEMBLY)\n",
      "origin: local.data.GitHub.2019.EPA_PSM_antelope.catalog.psm-hackathon\n",
      "reference: None\n",
      "     Name: SIDE BR ASSY,LWR\n",
      "  Comment: \n",
      "StageName: \n",
      "   Source: 74A400700-1013\n",
      "      Row: 50\n",
      "Exchange values: \n",
      "              Cached: 1\n",
      "            Observed: 1\n",
      "\n",
      "Balance flow: False\n",
      "Terminations: \n",
      "            Scenario  Termination\n",
      "                None: -O   Foreground\n"
     ]
    }
   ],
   "source": [
    "dup_set[0].show()"
   ]
  },
  {
   "cell_type": "code",
   "execution_count": 45,
   "metadata": {},
   "outputs": [
    {
     "data": {
      "text/plain": [
       "True"
      ]
     },
     "execution_count": 45,
     "metadata": {},
     "output_type": "execute_result"
    }
   ],
   "source": [
    "u0post = tops[0].inventory()\n",
    "{(x.flow, x.direction, x.value) for x in u0} == {(x.flow, x.direction, x.value) for x in u0post}"
   ]
  },
  {
   "cell_type": "code",
   "execution_count": 46,
   "metadata": {},
   "outputs": [
    {
     "data": {
      "text/plain": [
       "True"
      ]
     },
     "execution_count": 46,
     "metadata": {},
     "output_type": "execute_result"
    }
   ],
   "source": [
    "u1post = tops[1].inventory()\n",
    "{(x.flow, x.direction, x.value) for x in u1} == {(x.flow, x.direction, x.value) for x in u1post}"
   ]
  },
  {
   "cell_type": "code",
   "execution_count": 47,
   "metadata": {},
   "outputs": [
    {
     "data": {
      "text/plain": [
       "['74A430500-1017 ASSEMBLY',\n",
       " '74A430700-1009 ASSEMBLY',\n",
       " '74A430800-1021 ASSEMBLY',\n",
       " '74A400500-1017 ASSEMBLY',\n",
       " '74A400500-1018 ASSEMBLY',\n",
       " '74A400700-1013 ASSEMBLY',\n",
       " '74A400700-1014 ASSEMBLY',\n",
       " '74A400800-1001 ASSEMBLY',\n",
       " '74A400940-1003 ASSEMBLY',\n",
       " '74A400740-1001 ASSEMBLY']"
      ]
     },
     "execution_count": 47,
     "metadata": {},
     "output_type": "execute_result"
    }
   ],
   "source": [
    "[k.external_ref for k in efg._refs]"
   ]
  },
  {
   "cell_type": "code",
   "execution_count": 48,
   "metadata": {},
   "outputs": [
    {
     "name": "stdout",
     "output_type": "stream",
     "text": [
      "Fragment (58a8b35) -<- 48700 -<- -O    [   1 unit] RING, TIEDOWN  failed isomorphism\n",
      "Fragment (9b37ca9) -<- 88285 -<- -O    [   1 unit] SCREW, CAP  failed isomorphism\n"
     ]
    }
   ],
   "source": [
    "for dg in _dag:\n",
    "    efg.reduce_duplicates(*dg)"
   ]
  },
  {
   "cell_type": "markdown",
   "metadata": {},
   "source": [
    "### How'd we do?\n",
    "Reduced the count of fragments by.. 8-9%\n",
    "\n",
    "Do the inventories match?"
   ]
  },
  {
   "cell_type": "code",
   "execution_count": 49,
   "metadata": {},
   "outputs": [
    {
     "data": {
      "text/plain": [
       "1404"
      ]
     },
     "execution_count": 49,
     "metadata": {},
     "output_type": "execute_result"
    }
   ],
   "source": [
    "efg.fg.count('fragment')"
   ]
  },
  {
   "cell_type": "code",
   "execution_count": 50,
   "metadata": {},
   "outputs": [
    {
     "data": {
      "text/plain": [
       "True"
      ]
     },
     "execution_count": 50,
     "metadata": {},
     "output_type": "execute_result"
    }
   ],
   "source": [
    "u0final = tops[0].inventory()\n",
    "{(x.flow, x.direction, x.value) for x in u0} == {(x.flow, x.direction, x.value) for x in u0final}"
   ]
  },
  {
   "cell_type": "code",
   "execution_count": 51,
   "metadata": {},
   "outputs": [
    {
     "data": {
      "text/plain": [
       "True"
      ]
     },
     "execution_count": 51,
     "metadata": {},
     "output_type": "execute_result"
    }
   ],
   "source": [
    "u1final = tops[1].inventory()\n",
    "{(x.flow, x.direction, x.value) for x in u1} == {(x.flow, x.direction, x.value) for x in u1final}"
   ]
  },
  {
   "cell_type": "code",
   "execution_count": 52,
   "metadata": {},
   "outputs": [
    {
     "name": "stdout",
     "output_type": "stream",
     "text": [
      "   -<--O   31e5b [       1 Item(s)] 74A400700-1014 ASSEMBLY\n",
      "    [   1 unit] 74A400700-1014 ASSEMBLY\n",
      "       | -<----: 03667 (       1 Item(s)) NUT, PLAIN\n",
      "       | -<----: 2384f (       1 Item(s)) PIN\n",
      "       | -<----: 4b1d1 (       1 Item(s)) NUT\n",
      "       | -<----: 50ed3 (       1 Item(s)) WASHER, FLAT\n",
      "       | -<----: 604c0 (       1 Item(s)) BOLT\n",
      "       | -<----: 693fb (       2 Item(s)) NUT, SELF LOCKING\n",
      "       | -<----: 7ff17 (       1 Item(s)) PIN\n",
      "       | -<----: a8343 (       1 Item(s)) PLATE, ID\n",
      "       | -<----: ad88f (       1 Item(s)) PLATE, LOCK\n",
      "       | -<----: b1cd9 (       2 Item(s)) BOLT, SHOULDER\n",
      "       | -<----: bdf24 (       1 Item(s)) PIN ECCENTRIC\n",
      "       | -<----: d1b0a (       3 Item(s)) WASHER, FLAT\n",
      "       | -<--O   375d7 (       1 Item(s)) BRACE ASSY\n",
      "       |  [   1 unit] BRACE ASSY\n",
      "       |     | -<----: 0358d (       1 Item(s)) LOCKWIRE\n",
      "       |     | -<----: 0a4f1 (       1 Item(s)) WASHER, KEY\n",
      "       |     | -<----: 0ab24 (       2 Item(s)) WASHER\n",
      "       |     | -<----: 0b996 (       1 Item(s)) BOLT\n",
      "       |     | -<----: 108d8 (       1 Item(s)) NUT, UNIV ATCH\n",
      "       |     | -<----: 16dae (       2 Item(s)) NUT, PLAIN\n",
      "       |     | -<----: 22c03 (       1 Item(s)) BOLT, SHOULDER\n",
      "       |     | -<----: 37776 (       1 Item(s)) PIN, STRAIGHT\n",
      "       |     | -<----: 3d13b (       1 Item(s)) PIN, STRAIGHT\n",
      "       |     | -<----: 3d4b0 (       1 Item(s)) NUT, PLAIN\n",
      "       |     | -<----: 4a1eb (       3 Item(s)) PIN\n",
      "       |     | -<----: 4ebff (       4 Item(s)) PLATE, RETAINING\n",
      "       |     | -<----: 55a26 (       1 Item(s)) LOCK-PLATE\n",
      "       |     | -<----: 602d4 (       2 Item(s)) NUT\n",
      "       |     | -<----: 73449 (       1 Item(s)) RETAINER\n",
      "       |     | -<----: 76b36 (       1 Item(s)) PLATE, RETAINER\n",
      "       |     | -<----: 7b2da (       1 Item(s)) PACKING\n",
      "       |     | -<----: 83c10 (       1 Item(s)) LOCK-PLATE\n",
      "       |     | -<----: 88411 (       1 Item(s)) WASHER, FLAT\n",
      "       |     | -<----: 8a972 (       1 Item(s)) NUT\n",
      "       |     | -<----: 9752a (       1 Item(s)) SPACER, PLATE\n",
      "       |     | -<----: a1459 (       1 Item(s)) BOLT\n",
      "       |     | -<----: a4f75 (       1 Item(s)) BOLT\n",
      "       |     | -<----: b0bc6 (       2 Item(s)) WASHER, TAB LOCK\n",
      "       |     | -<----: b69af (       1 Item(s)) WASHER, TAB LOCK\n",
      "       |     | -<----: c759f (       1 Item(s)) BOLT, SHOULDER\n",
      "       |     | -<----: d7065 (       1 Item(s)) BOLT\n",
      "       |     | -<----: d778f (       1 Item(s)) NUT\n",
      "       |     | -<----: df029 (       1 Item(s)) PIN\n",
      "       |     | -<----: e5b28 (       1 Item(s)) BOLT,SHOULDER\n",
      "       |     | -<----: f4257 (       1 Item(s)) WASHER, KEY\n",
      "       |     | -<----: f6b12 (       1 Item(s)) WASHER\n",
      "       |     | -<----: fbeb4 (       1 Item(s)) NUT, PLAIN\n",
      "       |     | -<--#:: 0fd5b (       1 Item(s)) BELLCRANK ASSY-UPR\n",
      "       |     | -<--#:: 23456 (       1 Item(s)) UNIV ASSY\n",
      "       |     | -<--#:: 245d4 (       1 Item(s)) BOLT ASSY\n",
      "       |     | -<--#:: 33409 (       1 Item(s)) SIDE BR ASSY,LWR\n",
      "       |     | -<--#:: 885ea (       1 Item(s)) ADAPTER ASSY\n",
      "       |     | -<--#:: a3153 (       1 Item(s)) LINK ASSY, LWR\n",
      "       |     | -<--#:: c1570 (       1 Item(s)) RING ASSY\n",
      "       |     | -<--#:: de62f (       1 Item(s)) SIDE BR ASSY,UPR\n",
      "       |     x \n",
      "       | -<--O   983f1 (       1 Item(s)) CYLINDER ASSY\n",
      "       |  [   1 unit] CYLINDER ASSY\n",
      "       |     | -<----: 00608 (       1 Item(s)) SCRAPER\n",
      "       |     | -<----: 158db (       1 Item(s)) NUT\n",
      "       |     | -<----: 1af35 (       2 Item(s)) RING, BACKUP\n",
      "       |     | -<----: 2714c (       1 Item(s)) PLUNGER\n",
      "       |     | -<----: 29514 (       2 Item(s)) RETAINER\n",
      "       |     | -<----: 2f7a4 (       1 Item(s)) SEAL, TEE\n",
      "       |     | -<----: 35df1 (       1 Item(s)) SEAL, TEE\n",
      "       |     | -<----: 3d1a8 (       1 Item(s)) RETAINER\n",
      "       |     | -<----: 49102 (       1 Item(s)) WASHER, FLAT\n",
      "       |     | -<----: 52c98 (       1 Item(s)) SCREW\n",
      "       |     | -<----: 5cb8a (      10 Item(s)) BALL, BEARING\n",
      "       |     | -<----: 6c299 (       1 Item(s)) SEAL, TEE\n",
      "       |     | -<----: 71313 (       1 Item(s)) PIN, COTTER\n",
      "       |     | -<----: 78924 (       4 Item(s)) RING, BACKUP\n",
      "       |     | -<----: 7a909 (       2 Item(s)) SEAL, TEE\n",
      "       |     | -<----: 923b1 (       1 Item(s)) CAP, LINEAR ACT\n",
      "       |     | -<----: 96925 (       2 Item(s)) RING, BACKUP\n",
      "       |     | -<----: a06da (       1 Item(s)) PISTON\n",
      "       |     | -<----: aaa59 (       2 Item(s)) RING\n",
      "       |     | -<----: af873 (       1 Item(s)) LOCKWIRE\n",
      "       |     | -<----: cc3fb (       1 Item(s)) SPRING, HELICAL\n",
      "       |     | -<----: cd4e6 (       1 Item(s)) LOCK-KEY\n",
      "       |     | -<----: d1181 (       1 Item(s)) PLATE, IDENT\n",
      "       |     | -<----: d62c4 (       1 Item(s)) PLUNGER\n",
      "       |     | -<----: e18f3 (       1 Item(s)) PACKING\n",
      "       |     | -<----: f73ba (       1 Item(s)) PIN, STRAIGHT\n",
      "       |     | -<----: f777b (       1 Item(s)) PACKING\n",
      "       |     | -<--#:: 00284 (       1 Item(s)) CONN LINK ASSY\n",
      "       |     | -<--O   d8a33 (       1 Item(s)) CYLINDER ASSY\n",
      "       |     |  [   1 unit] CYLINDER ASSY\n",
      "       |     |     | -<----: 55fb4 (       3 Item(s)) PLUG\n",
      "       |     |     | -<----: 7fc50 (       1 Item(s)) CYLINDER\n",
      "       |     |     x \n",
      "       |     x \n",
      "       x \n"
     ]
    }
   ],
   "source": [
    "# subfragment terminations are shown by '#::'\n",
    "tops[1].show_tree()"
   ]
  },
  {
   "cell_type": "code",
   "execution_count": 54,
   "metadata": {},
   "outputs": [
    {
     "name": "stdout",
     "output_type": "stream",
     "text": [
      "local.data.GitHub.2019.EPA_PSM_antelope.catalog.psm-hackathon: /data/GitHub/2019/EPA_PSM_antelope/catalog/psm-hackathon/entities.json\n"
     ]
    }
   ],
   "source": [
    "efg.fg._archive.save()"
   ]
  }
 ],
 "metadata": {
  "kernelspec": {
   "display_name": "lca-tools",
   "language": "python",
   "name": "lca-tools"
  },
  "language_info": {
   "codemirror_mode": {
    "name": "ipython",
    "version": 3
   },
   "file_extension": ".py",
   "mimetype": "text/x-python",
   "name": "python",
   "nbconvert_exporter": "python",
   "pygments_lexer": "ipython3",
   "version": "3.7.3"
  }
 },
 "nbformat": 4,
 "nbformat_minor": 2
}
