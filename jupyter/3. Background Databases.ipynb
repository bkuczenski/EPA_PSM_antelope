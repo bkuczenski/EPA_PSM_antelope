{
 "cells": [
  {
   "cell_type": "markdown",
   "metadata": {},
   "source": [
    "## Load background databases\n"
   ]
  },
  {
   "cell_type": "code",
   "execution_count": 1,
   "metadata": {},
   "outputs": [
    {
     "name": "stderr",
     "output_type": "stream",
     "text": [
      "/data/GitHub/lca-tools/antelope_catalog/data_sources/local.py:69: UserWarning: environ ANTELOPE_CATALOG_ROOT missing; using BK default: /data/LCI/cat-demo/\n",
      "  warnings.warn('environ ANTELOPE_CATALOG_ROOT missing; using BK default: %s' % CATALOG_ROOT)\n"
     ]
    }
   ],
   "source": [
    "from antelope_catalog import LcCatalog"
   ]
  },
  {
   "cell_type": "code",
   "execution_count": 2,
   "metadata": {},
   "outputs": [
    {
     "name": "stdout",
     "output_type": "stream",
     "text": [
      "Loading JSON data from /data/LCI/cotedazor/reference-quantities.json:\n",
      "local.qdb: /data/LCI/cotedazor/reference-quantities.json\n",
      "local.qdb: /data/GitHub/lca-tools/lcatools/qdb/data/elcd_reference_quantities.json\n",
      "25 new quantity entities added (25 total)\n",
      "6 new flow entities added (6 total)\n"
     ]
    }
   ],
   "source": [
    "cat = LcCatalog('/data/LCI/cotedazor')"
   ]
  },
  {
   "cell_type": "code",
   "execution_count": 3,
   "metadata": {},
   "outputs": [],
   "source": [
    "from antelope_catalog.data_sources.local import make_config"
   ]
  },
  {
   "cell_type": "code",
   "execution_count": 4,
   "metadata": {},
   "outputs": [],
   "source": [
    "# ec = make_config('ecoinvent')  ## no ecoinvent\n",
    "# [k for k in ec.references]\n",
    "# cat.add_resource(next(ec.make_resources('local.ecoinvent.3.4.apos')))\n",
    "# cat.index_ref('local.ecoinvent.3.4.apos')"
   ]
  },
  {
   "cell_type": "code",
   "execution_count": 5,
   "metadata": {},
   "outputs": [],
   "source": [
    "us = make_config('uslci')"
   ]
  },
  {
   "cell_type": "code",
   "execution_count": 6,
   "metadata": {},
   "outputs": [
    {
     "data": {
      "text/plain": [
       "['local.uslci.olca', 'local.uslci.ecospold']"
      ]
     },
     "execution_count": 6,
     "metadata": {},
     "output_type": "execute_result"
    }
   ],
   "source": [
    "[k for k in us.references]"
   ]
  },
  {
   "cell_type": "code",
   "execution_count": 7,
   "metadata": {},
   "outputs": [],
   "source": [
    "cat.add_resource(next(us.make_resources('local.uslci.olca')))"
   ]
  },
  {
   "cell_type": "code",
   "execution_count": 8,
   "metadata": {},
   "outputs": [
    {
     "name": "stdout",
     "output_type": "stream",
     "text": [
      "Downloading from https://www.dropbox.com/s/upuo0yc7hwevmvs/NREL_USLCI_JSON__20180109.zip?dl=1\n",
      "local.uslci.olca: /data/LCI/cotedazor/downloads/9f8daaf52dfb8462db119c42c92eb58913353ea1\n",
      "Found Extension: zip\n",
      "Applying stored configuration\n",
      "Applying context hint local.uslci.olca:air => to air\n",
      "Applying context hint local.uslci.olca:water => to water\n",
      "Applying quantity hint Energy -> Net Calorific Value\n",
      "Applying configuration to OpenLcaJsonLdArchive with 0 entities at /data/LCI/cotedazor/downloads/9f8daaf52dfb8462db119c42c92eb58913353ea1\n",
      "Setting reference 5f96ad43-abab-3b62-bcf8-c71f9d6c7881 [Output] for 0aaf1e13-5d80-37f9-b7bb-81a6b8965c71\n",
      "Setting reference c5f94bb1-b39e-39fa-b616-376a30531c2d [Output] for 0aaf1e13-5d80-37f9-b7bb-81a6b8965c71\n",
      "Setting reference 30a64e63-3583-3f83-8d8d-0b6ea003b888 [Output] for 0aaf1e13-5d80-37f9-b7bb-81a6b8965c71\n",
      "Setting reference 588384cf-851f-391e-bf49-c6e5309d76db [Output] for 0aaf1e13-5d80-37f9-b7bb-81a6b8965c71\n",
      "Setting reference 562918fe-3ff5-33f4-abaa-d8c615380d25 [Output] for 0aaf1e13-5d80-37f9-b7bb-81a6b8965c71\n",
      "Setting reference c4069217-dfd4-324a-9243-2ee8058809d6 [Output] for 0aaf1e13-5d80-37f9-b7bb-81a6b8965c71\n",
      "Setting reference 4f1bfabb-f0d3-3f1f-a905-2fd9b36bbfa0 [Output] for 0aaf1e13-5d80-37f9-b7bb-81a6b8965c71\n",
      "Setting reference 0e44e579-abb0-3c77-af64-c774d65be529 [Output] for 0aaf1e13-5d80-37f9-b7bb-81a6b8965c71\n",
      "Setting reference d939590b-a0d7-310c-8952-9921ed64a078 [Output] for 0aaf1e13-5d80-37f9-b7bb-81a6b8965c71\n",
      "UnSetting reference 9dfc9e7c-3c20-3f4d-9d79-d54ec2d8d08b [Output] for 155839ec-d6ab-3ed6-b7c8-45586e676f6d\n",
      "UnSetting reference d939590b-a0d7-310c-8952-9921ed64a078 [Output] for dc72e285-719b-318b-9c9c-c838846a9cf4\n",
      "Characterizing flow 0e44e579-abb0-3c77-af64-c774d65be529 by 93a60a56-a3c8-11da-a746-0800200b9a66: 750\n",
      "Characterizing flow c5f94bb1-b39e-39fa-b616-376a30531c2d by 93a60a56-a3c8-11da-a746-0800200b9a66: 809\n",
      "Characterizing flow 562918fe-3ff5-33f4-abaa-d8c615380d25 by 93a60a56-a3c8-11da-a746-0800200b9a66: 975\n",
      "Characterizing flow d939590b-a0d7-310c-8952-9921ed64a078 by 93a60a56-a3c8-11da-a746-0800200b9a66: 850\n",
      "Characterizing flow c4069217-dfd4-324a-9243-2ee8058809d6 by 93a60a56-a3c8-11da-a746-0800200b9a66: 0.737\n",
      "Characterizing flow 588384cf-851f-391e-bf49-c6e5309d76db by 93a60a56-a3c8-11da-a746-0800200b9a66: 500\n",
      "Allocating 0aaf1e13-5d80-37f9-b7bb-81a6b8965c71 by 93a60a56-a3c8-11da-a746-0800200b9a66\n",
      "Loading /data/LCI/cotedazor/downloads/9f8daaf52dfb8462db119c42c92eb58913353ea1\n",
      "873e9087-c13b-34fa-859e-c0397d27cb66: 15 No unit! using default kg\n",
      "426fb3f3-87cb-38a1-b4dd-9da869db0067: 27 No unit! using default kg\n",
      "7d4b3e99-113c-3279-b856-b904eb9295fc: 3 No unit! using default kg\n",
      "d8b4d137-b876-3222-adde-878273b76e81: 29 No unit! using default kg\n",
      "563c9d42-ae65-3751-800a-5e0505265b35: 28 No unit! using default kg\n",
      "7bb0a646-ffd2-315b-b8c7-f931492dbed9: 27 No unit! using default kg\n",
      "323a15f8-5c89-3deb-aad5-78133e487bef: 4 No unit! using default EUR 2000\n",
      "323a15f8-5c89-3deb-aad5-78133e487bef: 5 No unit! using default EUR 2000\n",
      "3e950c2c-459d-3724-aa23-949812c2c534: 1 No unit! using default kg\n",
      "3e950c2c-459d-3724-aa23-949812c2c534: 13 No unit! using default kg\n",
      "7757b3eb-141f-4939-b0ff-5313ef6f9e7b: 1 No unit! using default kg\n",
      "7757b3eb-141f-4939-b0ff-5313ef6f9e7b: 9 No unit! using default kg\n",
      "3a7e1656-c3e3-447b-9f51-2a93cb0cca9b: 1 No unit! using default kg\n",
      "3a7e1656-c3e3-447b-9f51-2a93cb0cca9b: 16 No unit! using default kg\n",
      "d033e894-2149-4ccd-8129-c4d520a48d2b: 1 No unit! using default kg\n",
      "d033e894-2149-4ccd-8129-c4d520a48d2b: 14 No unit! using default kg\n",
      "2f98f9f8-565e-4a8c-9268-d8899a6d75dc: 1 No unit! using default kg\n",
      "2f98f9f8-565e-4a8c-9268-d8899a6d75dc: 7 No unit! using default kg\n",
      "4e38a874-76e2-3c20-bc6a-eea62883ebaa: 1 No unit! using default kg\n",
      "4e38a874-76e2-3c20-bc6a-eea62883ebaa: 2 No unit! using default kg\n",
      "4e38a874-76e2-3c20-bc6a-eea62883ebaa: 9 No unit! using default kg\n",
      "3221bb51-ac5f-36b7-a5c4-d81a5c65ccf0: 1 No unit! using default kg\n",
      "f002e825-5cb6-3949-be51-863c7fe5d5da: 1 No unit! using default kg\n",
      "f002e825-5cb6-3949-be51-863c7fe5d5da: 2 No unit! using default kg\n",
      "f002e825-5cb6-3949-be51-863c7fe5d5da: 3 No unit! using default kg\n",
      "3cfa52ac-c3d6-3ce2-b8f4-211bf63d7088: 1 No unit! using default kg\n",
      "3cfa52ac-c3d6-3ce2-b8f4-211bf63d7088: 12 No unit! using default kg\n",
      "99898750-1f41-3c25-8ee0-aaae4b6697d0: 1 No unit! using default kg\n",
      "25b4ad17-ccd9-36ff-8ed5-4ad7b4814ae3: 1 No unit! using default kg\n",
      "25b4ad17-ccd9-36ff-8ed5-4ad7b4814ae3: 4 No unit! using default kg\n",
      "727c4049-41db-3645-a4f9-af66fa92dee0: 1 No unit! using default kg\n",
      "727c4049-41db-3645-a4f9-af66fa92dee0: 4 No unit! using default kg\n",
      "4be84642-28cb-3508-9189-d8afcec42d92: 1 No unit! using default kg\n",
      "4be84642-28cb-3508-9189-d8afcec42d92: 2 No unit! using default kg\n",
      "c0138d7e-3eac-3b37-b27a-58c9d5a2d1cf: 1 No unit! using default kg\n",
      "8ccbedef-d726-3fae-a848-a6d41aeab5a4: 1 No unit! using default kg\n",
      "8ccbedef-d726-3fae-a848-a6d41aeab5a4: 3 No unit! using default kg\n",
      "9109d57c-8234-3569-a2e6-0e4671b524d9: 1 No unit! using default kg\n",
      "7fd53cbd-975a-3737-bf3a-bfa3285833ed: 21 No unit! using default m3\n",
      "96087256-d181-30c8-ae17-f25e1f0eab0c: 1 No unit! using default kg\n",
      "96087256-d181-30c8-ae17-f25e1f0eab0c: 3 No unit! using default kg\n",
      "96087256-d181-30c8-ae17-f25e1f0eab0c: 5 No unit! using default kg\n",
      "2753c5de-221b-369a-84de-689d354b8b2d: 1 No unit! using default kg\n",
      "2753c5de-221b-369a-84de-689d354b8b2d: 2 No unit! using default kg\n",
      "515c5359-a186-3394-b849-8676652228db: 1 No unit! using default kg\n",
      "515c5359-a186-3394-b849-8676652228db: 538 No unit! using default EUR 2000\n",
      "515c5359-a186-3394-b849-8676652228db: 932 No unit! using default EUR 2000\n",
      "515c5359-a186-3394-b849-8676652228db: 879 No unit! using default EUR 2000\n",
      "2529b0bb-702b-38cf-a80e-b7c7803d3f54: 1 No unit! using default kg\n",
      "c139b46e-e0c1-3be5-ad3d-451d6392bad6: 19 No unit! using default kg\n",
      "c139b46e-e0c1-3be5-ad3d-451d6392bad6: 31 No unit! using default kg\n",
      "c139b46e-e0c1-3be5-ad3d-451d6392bad6: 14 No unit! using default kg\n",
      "c139b46e-e0c1-3be5-ad3d-451d6392bad6: 16 No unit! using default kg\n",
      "c139b46e-e0c1-3be5-ad3d-451d6392bad6: 3 No unit! using default kg\n",
      "c139b46e-e0c1-3be5-ad3d-451d6392bad6: 13 No unit! using default kg\n",
      "c139b46e-e0c1-3be5-ad3d-451d6392bad6: 28 No unit! using default kg\n",
      "4c6f7612-c4b8-36d1-803a-8fb067b1b319: 1 No unit! using default kg\n",
      "4c6f7612-c4b8-36d1-803a-8fb067b1b319: 4 No unit! using default kg\n",
      "7aa8e2ff-0e2f-3e6c-b168-ec5168b4be6a: 21 No unit! using default kg\n",
      "0898854c-e38f-3d23-880f-f8da7d65ca0c: 15 No unit! using default kg\n",
      "d9cadd89-4203-375a-903a-63197cd29c6a: 25 No unit! using default kg\n",
      "0879167f-989b-3e3b-b9c5-3c07ea0a3f8e: 26 No unit! using default kg\n",
      "8e3e47ea-ed49-329e-8931-29115917bc81: 8 No unit! using default kg\n",
      "8e3e47ea-ed49-329e-8931-29115917bc81: 15 No unit! using default kg\n",
      "zero total found; not setting allocation by qty PHYSICAL_ALLOCATION (EPS virgin resin manufacture; batch suspension polymerization; industry average, at plant) [alloc]\n",
      "local.uslci.olca.index.20201028: /data/LCI/cotedazor/index/ef42cf8f53552305a9d267d00e965d22fe6a185b.json.gz\n",
      "local.uslci.olca: /data/LCI/cotedazor/downloads/9f8daaf52dfb8462db119c42c92eb58913353ea1\n",
      "272 new quantity entities added (272 total)\n",
      "4671 new flow entities added (4671 total)\n",
      "767 new process entities added (767 total)\n"
     ]
    },
    {
     "data": {
      "text/plain": [
       "'local.uslci.olca.index.20201028'"
      ]
     },
     "execution_count": 8,
     "metadata": {},
     "output_type": "execute_result"
    }
   ],
   "source": [
    "cat.index_ref('local.uslci.olca')"
   ]
  },
  {
   "cell_type": "code",
   "execution_count": 9,
   "metadata": {},
   "outputs": [
    {
     "data": {
      "text/plain": [
       "LcResource(local.elcd.3.2, dataSource=/data/LCI/ELCD/ELCD3.2.zip:IlcdLcia, ['basic', 'quantity', 'inventory'] [50])"
      ]
     },
     "execution_count": 9,
     "metadata": {},
     "output_type": "execute_result"
    }
   ],
   "source": [
    "cat.new_resource('local.elcd.3.2', '/data/LCI/ELCD/ELCD3.2.zip', 'IlcdLcia', \n",
    "                interfaces=('inventory', 'quantity'), static=False)"
   ]
  },
  {
   "cell_type": "code",
   "execution_count": 10,
   "metadata": {},
   "outputs": [
    {
     "data": {
      "text/plain": [
       "LcResource(local.usepa.useeio.1.1, dataSource=None:OpenLcaJsonLdArchive, ['basic', 'quantity', 'inventory'] [50] 1 cfg)"
      ]
     },
     "execution_count": 10,
     "metadata": {},
     "output_type": "execute_result"
    }
   ],
   "source": [
    "cat.new_resource('local.usepa.useeio.1.1', None, 'OpenLcaJsonLdArchive', \n",
    "                 interfaces=('inventory', 'quantity'), static=False, \n",
    "                 download={'url': 'https://pasteur.epa.gov/uploads/10.23719/1375574/USEEIOv1.1-JSONLD-foropenlca.zip',\n",
    "                           'md5sum': 'dda25b5f25fe4112e592029373525773'},\n",
    "                 config={'hints': [('context', 'air', 'to air'), ('context', 'water', 'to water')]})\n"
   ]
  },
  {
   "cell_type": "code",
   "execution_count": 11,
   "metadata": {},
   "outputs": [
    {
     "name": "stdout",
     "output_type": "stream",
     "text": [
      "local.elcd.3.2: /data/LCI/ELCD/ELCD3.2.zip\n",
      "Found Extension: zip\n",
      "Loading /data/LCI/ELCD/ELCD3.2.zip\n",
      "26fd4ed1-a97f-4be3-a9ea-ca9273b48101: skipping characterization for d17c7ed3-8e80-4ba1-9b58-0de5ff0363c4\n",
      "9f8f445c-e172-49f6-8881-bcf2a9824588: skipping characterization for 75c6769f-cc71-4217-b3cd-7e83025eb39f\n",
      "71d1241f-fb2b-4774-9c17-18f19955c2db: skipping characterization for d17c7ed3-8e80-4ba1-9b58-0de5ff0363c4\n",
      "d1008171-2d06-4e14-b107-7e510875203f: skipping characterization for 4377c59d-d0ad-4236-9333-035e95fcbe82\n",
      "Duplicate Characterization in entity d1008171-2d06-4e14-b107-7e510875203f\n",
      " Energy renewable and non renewable (net calorific value) [MJ] = 14\n",
      "439de0df-6861-4bb9-8ac6-7e94bbe9f284: skipping characterization for 4377c59d-d0ad-4236-9333-035e95fcbe82\n",
      "Duplicate Characterization in entity 439de0df-6861-4bb9-8ac6-7e94bbe9f284\n",
      " Energy renewable and non renewable (net calorific value) [MJ] = 14.65\n",
      "96b2b9ac-cfb6-46bf-8ad1-c056e338950a: skipping characterization for 4377c59d-d0ad-4236-9333-035e95fcbe82\n",
      "41d7636c-7bf1-40f4-a605-e1a8d11e41d9: skipping characterization for d17c7ed3-8e80-4ba1-9b58-0de5ff0363c4\n",
      "In UUID 1323a7e6-7841-47db-8da1-06355432a908:\n",
      "Creating DUMMY flow (cd5c80bb-995b-456f-a12d-77b9b2ffad43) with name Hazardous waste (underground deposit)\n",
      "e0c2b408-7dca-41de-ad53-2d7975838e87: skipping characterization for 5dec4198-f241-4903-aa51-6f7297a84529\n",
      "4d92b8d4-6633-4238-b0e2-9096db3e8882: skipping characterization for 0441824a-70dc-4612-b681-7a9c6825d5bc\n",
      "119e8a79-019a-4a99-84da-c6f700eb1d51: skipping characterization for c79145ca-cc90-49b1-905a-51aaedc0e36b\n",
      "94 new quantity entities added (94 total)\n",
      "2343 new flow entities added (2343 total)\n",
      "503 new process entities added (503 total)\n",
      "flow 37c63eed-fdfd-4601-9756-7094d4c9f381: context Land transformation sense Source conflicts with direction Output; negating factor\n",
      "flow f20439b3-200f-48d7-b0a0-972a0628a31e: context Land transformation sense Source conflicts with direction Output; negating factor\n",
      "flow fa4d4851-3cab-48a0-a2e4-d3e047323eb6: context Land transformation sense Source conflicts with direction Output; negating factor\n",
      "flow 37c63eed-fdfd-4601-9756-7094d4c9f381: context Land transformation sense Source conflicts with direction Output; negating factor\n",
      "flow f20439b3-200f-48d7-b0a0-972a0628a31e: context Land transformation sense Source conflicts with direction Output; negating factor\n",
      "flow 1a00b335-af6e-47db-bc23-012f2c0642ab: context Land transformation sense Source conflicts with direction Output; negating factor\n",
      "flow 848d055d-88c2-4926-9ddd-1671887c4e2f: context Land transformation sense Source conflicts with direction Output; negating factor\n",
      "flow 8348ce0c-3dcf-4425-8336-04d6c5619e4d: context Land transformation sense Source conflicts with direction Output; negating factor\n",
      "flow 6d2e9579-899e-4de6-a13d-e569c4aacd81: context Land transformation sense Source conflicts with direction Output; negating factor\n",
      "flow 933debfd-2aa5-4a35-b07b-2732350ea29c: context Land transformation sense Source conflicts with direction Output; negating factor\n",
      "flow 7b830424-436d-428c-b2ad-3e93f3115d7b: context Land transformation sense Source conflicts with direction Output; negating factor\n",
      "flow aa9dc400-929f-48c8-86c6-628f34a0efa3: context Land transformation sense Source conflicts with direction Output; negating factor\n",
      "flow fe3b7db4-a7e6-4e83-876e-ef859c1c421c: context Land transformation sense Source conflicts with direction Output; negating factor\n",
      "flow 3b9ccd9f-1dd3-48ad-b444-b08fb5a63a89: context Land transformation sense Source conflicts with direction Output; negating factor\n",
      "flow f6225b5f-b9cf-4c88-82d2-a578e1ce5e42: context Land transformation sense Source conflicts with direction Output; negating factor\n",
      "flow 6d205e19-e6c2-4090-b138-01a1b9326a76: context Land transformation sense Source conflicts with direction Output; negating factor\n",
      "flow 75fb549e-21ce-4ad2-b65e-fa9b1664b74a: context Land transformation sense Source conflicts with direction Output; negating factor\n",
      "flow dc3f4893-9db3-4d19-b108-bcd3a44ed78d: context Land transformation sense Source conflicts with direction Output; negating factor\n",
      "flow 2f8cc78f-7f63-4b5c-9010-70a847737d23: context Land transformation sense Source conflicts with direction Output; negating factor\n",
      "flow 68f57e2a-2909-423c-ad8e-6a695f59a48f: context Land transformation sense Source conflicts with direction Output; negating factor\n",
      "flow 9fcab08d-c0e9-490f-b594-ee023a78d5c7: context Land transformation sense Source conflicts with direction Output; negating factor\n",
      "flow 4a227586-270a-4b07-9f15-79da640bec83: context Land transformation sense Source conflicts with direction Output; negating factor\n",
      "flow 68e9e9b5-bd61-4fd3-a422-c3cff4f67203: context Land transformation sense Source conflicts with direction Output; negating factor\n",
      "flow 0c08b290-70d4-4d06-bf99-af10a0df99d5: context Land transformation sense Source conflicts with direction Output; negating factor\n",
      "48 new quantity entities added (142 total)\n",
      "local.elcd.3.2.index.20201028: /data/LCI/cotedazor/index/aa6258ca0fcff12f7c7f4b6aae398cb1eddedf27.json.gz\n",
      "local.elcd.3.2: /data/LCI/ELCD/ELCD3.2.zip\n",
      "142 new quantity entities added (142 total)\n",
      "2343 new flow entities added (2343 total)\n",
      "503 new process entities added (503 total)\n"
     ]
    },
    {
     "data": {
      "text/plain": [
       "'local.elcd.3.2.index.20201028'"
      ]
     },
     "execution_count": 11,
     "metadata": {},
     "output_type": "execute_result"
    }
   ],
   "source": [
    "cat.index_ref('local.elcd.3.2')"
   ]
  },
  {
   "cell_type": "code",
   "execution_count": 12,
   "metadata": {},
   "outputs": [
    {
     "name": "stdout",
     "output_type": "stream",
     "text": [
      "Downloading from https://pasteur.epa.gov/uploads/10.23719/1375574/USEEIOv1.1-JSONLD-foropenlca.zip\n",
      "local.usepa.useeio.1.1: /data/LCI/cotedazor/downloads/23dc562a69d595eda1cc7641ea0d81443c4720b3\n",
      "Found Extension: zip\n",
      "Applying stored configuration\n",
      "Applying context hint local.usepa.useeio.1.1:air => to air\n",
      "Applying context hint local.usepa.useeio.1.1:water => to water\n",
      "Applying configuration to OpenLcaJsonLdArchive with 0 entities at /data/LCI/cotedazor/downloads/23dc562a69d595eda1cc7641ea0d81443c4720b3\n",
      "Loading /data/LCI/cotedazor/downloads/23dc562a69d595eda1cc7641ea0d81443c4720b3\n",
      "local.usepa.useeio.1.1.index.20201028: /data/LCI/cotedazor/index/404ac4f2469504f631bc8a96803d5dcc68952509.json.gz\n",
      "local.usepa.useeio.1.1: /data/LCI/cotedazor/downloads/23dc562a69d595eda1cc7641ea0d81443c4720b3\n",
      "24 new quantity entities added (24 total)\n",
      "2261 new flow entities added (2261 total)\n",
      "388 new process entities added (388 total)\n"
     ]
    },
    {
     "data": {
      "text/plain": [
       "'local.usepa.useeio.1.1.index.20201028'"
      ]
     },
     "execution_count": 12,
     "metadata": {},
     "output_type": "execute_result"
    }
   ],
   "source": [
    "cat.index_ref('local.usepa.useeio.1.1')"
   ]
  },
  {
   "cell_type": "code",
   "execution_count": 13,
   "metadata": {},
   "outputs": [
    {
     "name": "stdout",
     "output_type": "stream",
     "text": [
      "local.elcd.3.2 [basic, inventory, quantity]\n",
      "local.elcd.3.2.index.20201028 [basic, index]\n",
      "local.qdb [basic, index, quantity]\n",
      "local.usepa.useeio.1.1 [basic, inventory, quantity]\n",
      "local.usepa.useeio.1.1.index.20201028 [basic, index]\n",
      "local.uslci.olca [basic, inventory, quantity]\n",
      "local.uslci.olca.index.20201028 [basic, index]\n"
     ]
    }
   ],
   "source": [
    "cat.show_interfaces()"
   ]
  },
  {
   "cell_type": "code",
   "execution_count": 14,
   "metadata": {},
   "outputs": [
    {
     "name": "stdout",
     "output_type": "stream",
     "text": [
      "Missing canonical quantity-- adding to LciaDb\n",
      "registering local.usepa.useeio.1.1/b0682037-e878-4be4-a63a-a7a81053a691\n"
     ]
    }
   ],
   "source": [
    "USD = next(cat.query('local.usepa.useeio').quantities(Name='price'))"
   ]
  }
 ],
 "metadata": {
  "kernelspec": {
   "display_name": "lca-tools",
   "language": "python",
   "name": "lca-tools"
  },
  "language_info": {
   "codemirror_mode": {
    "name": "ipython",
    "version": 3
   },
   "file_extension": ".py",
   "mimetype": "text/x-python",
   "name": "python",
   "nbconvert_exporter": "python",
   "pygments_lexer": "ipython3",
   "version": "3.8.3"
  }
 },
 "nbformat": 4,
 "nbformat_minor": 2
}
