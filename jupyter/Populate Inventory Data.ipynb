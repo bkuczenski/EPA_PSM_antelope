{
 "cells": [
  {
   "cell_type": "markdown",
   "metadata": {},
   "source": [
    "## Populate Inventory Data\n",
    "The purpose of this workbook is to load-up all the flow information I hand-curated, and assign it to the flow entities.  Then I will use the metadata to assign (random) mass and economic value properties to the flows.\n",
    "\n",
    "Later I will use the metainfo to terminate fragments using the flows."
   ]
  },
  {
   "cell_type": "code",
   "execution_count": 1,
   "metadata": {},
   "outputs": [],
   "source": [
    "from antelope_catalog import LcCatalog"
   ]
  },
  {
   "cell_type": "code",
   "execution_count": 2,
   "metadata": {},
   "outputs": [
    {
     "name": "stdout",
     "output_type": "stream",
     "text": [
      "Loading JSON data from /data/GitHub/2019/EPA_PSM_antelope/catalog/reference-quantities.json:\n",
      "local.qdb: /data/GitHub/2019/EPA_PSM_antelope/catalog/reference-quantities.json\n",
      "local.qdb: /data/GitHub/lca-tools/lcatools/qdb/data/elcd_reference_quantities.json\n",
      "6 new flow entities added (6 total)\n",
      "25 new quantity entities added (25 total)\n"
     ]
    }
   ],
   "source": [
    "cat = LcCatalog('/data/GitHub/2019/EPA_PSM_antelope/catalog/')"
   ]
  },
  {
   "cell_type": "code",
   "execution_count": 3,
   "metadata": {},
   "outputs": [
    {
     "name": "stdout",
     "output_type": "stream",
     "text": [
      "foreground.psm-hackathon [basic, foreground, index, quantity]\n",
      "local.ecoinvent.3.4.apos [basic, inventory]\n",
      "local.ecoinvent.3.4.apos.index.20190528 [basic, index]\n",
      "local.elcd.3.2 [basic, inventory, quantity]\n",
      "local.elcd.3.2.index.20190528 [basic, index]\n",
      "local.qdb [basic, index, quantity]\n",
      "local.usepa.useeio.1.1 [basic, inventory, quantity]\n",
      "local.usepa.useeio.1.1.index.20190528 [basic, index]\n",
      "local.uslci.olca [basic, inventory, quantity]\n",
      "local.uslci.olca.index.20190528 [basic, index]\n"
     ]
    }
   ],
   "source": [
    "cat.show_interfaces()"
   ]
  },
  {
   "cell_type": "code",
   "execution_count": 4,
   "metadata": {},
   "outputs": [],
   "source": [
    "fg = cat.create_foreground('psm-hackathon')"
   ]
  },
  {
   "cell_type": "code",
   "execution_count": 5,
   "metadata": {},
   "outputs": [
    {
     "name": "stdout",
     "output_type": "stream",
     "text": [
      "foreground.psm-hackathon: /data/GitHub/2019/EPA_PSM_antelope/catalog/psm-hackathon\n",
      "Loading /data/GitHub/2019/EPA_PSM_antelope/catalog/psm-hackathon\n",
      "foreground.psm-hackathon: /data/GitHub/2019/EPA_PSM_antelope/catalog/psm-hackathon/entities.json\n",
      "1019 new flow entities added (1019 total)\n",
      "0 new fragment entities added (0 total)\n",
      "1 new quantity entities added (1 total)\n",
      "1402 new fragment entities added (1402 total)\n"
     ]
    }
   ],
   "source": [
    "ar = cat.get_archive(fg.origin)"
   ]
  },
  {
   "cell_type": "code",
   "execution_count": 6,
   "metadata": {},
   "outputs": [],
   "source": [
    "f = next(ar.entities_by_type('flow'))"
   ]
  },
  {
   "cell_type": "code",
   "execution_count": 7,
   "metadata": {},
   "outputs": [],
   "source": [
    "from lcatools.entities.xlsx_editor import XlsxArchiveUpdater"
   ]
  },
  {
   "cell_type": "code",
   "execution_count": 8,
   "metadata": {},
   "outputs": [
    {
     "name": "stdout",
     "output_type": "stream",
     "text": [
      "Flow Entity (ref 3M1169C3D6A)\n",
      "origin: foreground.psm-hackathon\n",
      "reference: [local.qdb] Number of items [Item(s)]\n",
      "       Name: BOLT\n",
      "    Comment: \n",
      "      Level: 1.0\n",
      "  CasNumber: \n",
      "Compartment: []\n",
      "         PT: 5\n"
     ]
    }
   ],
   "source": [
    "f.show()"
   ]
  },
  {
   "cell_type": "code",
   "execution_count": 9,
   "metadata": {},
   "outputs": [],
   "source": [
    "with XlsxArchiveUpdater(ar, 'PSM-hackathon-leaf-flows_annotated.xlsx') as x:\n",
    "    x.apply()"
   ]
  },
  {
   "cell_type": "code",
   "execution_count": 10,
   "metadata": {},
   "outputs": [
    {
     "name": "stdout",
     "output_type": "stream",
     "text": [
      "Flow Entity (ref 3M1169C3D6A)\n",
      "origin: foreground.psm-hackathon\n",
      "reference: [local.qdb] Number of items [Item(s)]\n",
      "       Name: BOLT\n",
      "    Comment: \n",
      "         PT: 5\n",
      "      Level: 1.0\n",
      "  CasNumber: \n",
      "Compartment: []\n",
      "   Material: Nickel\n",
      "       Size: Small\n",
      "   PartType: Hardware\n"
     ]
    }
   ],
   "source": [
    "f.show()"
   ]
  },
  {
   "cell_type": "code",
   "execution_count": 11,
   "metadata": {},
   "outputs": [],
   "source": [
    "ar.save()"
   ]
  },
  {
   "cell_type": "code",
   "execution_count": null,
   "metadata": {},
   "outputs": [],
   "source": []
  },
  {
   "cell_type": "code",
   "execution_count": 12,
   "metadata": {},
   "outputs": [],
   "source": [
    "import xlrd\n",
    "\n",
    "def mk_kwd(fname, sheet='mass_hints'):\n",
    "    _kwd = dict()\n",
    "\n",
    "    _xl = xlrd.open_workbook(fname)\n",
    "    _s = _xl.sheet_by_name(sheet)\n",
    "    for r in range(1, _s.nrows):\n",
    "        _kwd[_s.cell(r, 0).value.lower()] = {'mass': _s.cell(r, 1).value, 'price': _s.cell(r, 2).value}\n",
    "    return _kwd\n",
    "    \n"
   ]
  },
  {
   "cell_type": "code",
   "execution_count": 13,
   "metadata": {},
   "outputs": [
    {
     "name": "stdout",
     "output_type": "stream",
     "text": [
      "Loading JSON data from /data/GitHub/2019/EPA_PSM_antelope/catalog/index/0bfdaea6ff0149c86e4d245afec4b2e47c07afb8.json.gz:\n",
      "local.usepa.useeio.1.1.index.20190528: /data/GitHub/2019/EPA_PSM_antelope/catalog/index/0bfdaea6ff0149c86e4d245afec4b2e47c07afb8.json.gz\n",
      "local.usepa.useeio.1.1: /data/LCI/USEEIO/USEEIOv1.1-JSONLD-foropenlca.zip\n",
      "388 new process entities added (388 total)\n",
      "2261 new flow entities added (2261 total)\n",
      "24 new quantity entities added (24 total)\n",
      "Missing canonical quantity-- adding to LciaDb\n",
      "registering local.usepa.useeio.1.1/b0682037-e878-4be4-a63a-a7a81053a691\n",
      "local.usepa.useeio.1.1: /data/LCI/USEEIO/USEEIOv1.1-JSONLD-foropenlca.zip\n",
      "Found Extension: zip\n",
      "Applying stored configuration\n",
      "Applying context hint local.usepa.useeio.1.1:water => to water\n",
      "Applying context hint local.usepa.useeio.1.1:air => to air\n",
      "Applying configuration to OpenLcaJsonLdArchive with 0 entities at /data/LCI/USEEIO/USEEIOv1.1-JSONLD-foropenlca.zip\n",
      "Retrieving canonical [local.usepa.useeio.1.1] Producer Price US 2013 [USD]\n"
     ]
    }
   ],
   "source": [
    "mass = cat.lcia_engine.get_canonical('mass')\n",
    "USD = next(cat.query('local.usepa.useeio').quantities(Name='price'))"
   ]
  },
  {
   "cell_type": "code",
   "execution_count": 14,
   "metadata": {},
   "outputs": [
    {
     "name": "stdout",
     "output_type": "stream",
     "text": [
      "QuantityRef catalog reference (b0682037-e878-4be4-a63a-a7a81053a691)\n",
      "origin: local.usepa.useeio.1.1\n",
      "UUID: b0682037-e878-4be4-a63a-a7a81053a691\n",
      "   Name: Producer Price US 2013\n"
     ]
    }
   ],
   "source": [
    "USD.show()"
   ]
  },
  {
   "cell_type": "code",
   "execution_count": 15,
   "metadata": {},
   "outputs": [],
   "source": [
    "kwd = mk_kwd('PSM-hackathon-leaf-flows_annotated.xlsx')"
   ]
  },
  {
   "cell_type": "code",
   "execution_count": 16,
   "metadata": {},
   "outputs": [],
   "source": [
    "import random"
   ]
  },
  {
   "cell_type": "code",
   "execution_count": 17,
   "metadata": {},
   "outputs": [
    {
     "name": "stdout",
     "output_type": "stream",
     "text": [
      "Help on method lognormvariate in module random:\n",
      "\n",
      "lognormvariate(mu, sigma) method of random.Random instance\n",
      "    Log normal distribution.\n",
      "    \n",
      "    If you take the natural logarithm of this distribution, you'll get a\n",
      "    normal distribution with mean mu and standard deviation sigma.\n",
      "    mu can have any value, and sigma must be greater than zero.\n",
      "\n"
     ]
    }
   ],
   "source": [
    "help(random.lognormvariate)"
   ]
  },
  {
   "cell_type": "code",
   "execution_count": 18,
   "metadata": {},
   "outputs": [
    {
     "data": {
      "text/plain": [
       "1.0262747980959792"
      ]
     },
     "execution_count": 18,
     "metadata": {},
     "output_type": "execute_result"
    }
   ],
   "source": [
    "random.lognormvariate(0, 0.15)"
   ]
  },
  {
   "cell_type": "code",
   "execution_count": 19,
   "metadata": {},
   "outputs": [
    {
     "name": "stdout",
     "output_type": "stream",
     "text": [
      "Flow Entity (ref 3M1169C3D6A)\n",
      "origin: foreground.psm-hackathon\n",
      "reference: [local.qdb] Number of items [Item(s)]\n",
      "       Name: BOLT\n",
      "    Comment: \n",
      "         PT: 5\n",
      "      Level: 1.0\n",
      "  CasNumber: \n",
      "Compartment: []\n",
      "   Material: Nickel\n",
      "       Size: Small\n",
      "   PartType: Hardware\n"
     ]
    }
   ],
   "source": [
    "f.show()"
   ]
  },
  {
   "cell_type": "code",
   "execution_count": 20,
   "metadata": {},
   "outputs": [],
   "source": [
    "_m_base = -3\n",
    "_p_base = -3\n",
    "_sig_base = 0.65\n",
    "\n",
    "\n",
    "def mock_cfs(flow, kwdict, demo=True):\n",
    "    m = p = 1.0\n",
    "    sig = _sig_base\n",
    "    for k in ('PartType', 'Material', 'Size'):\n",
    "        if flow.has_property(k):\n",
    "            sig *= 0.75  # narrow sigma for each specification\n",
    "            kw = flow[k].lower()\n",
    "            if kw in kwdict:\n",
    "                val_d = kwdict[kw]\n",
    "                m *= val_d['mass']\n",
    "                p *= val_d['price']\n",
    "            else:\n",
    "                if kw is not None:\n",
    "                    print('missing kwd %s' % kw)\n",
    "    m *= random.lognormvariate(_m_base, sig)\n",
    "    p *= random.lognormvariate(_p_base, sig)\n",
    "    if demo:\n",
    "        print('[%s] %s: mass %3g %s; price: %3g %s' % (flow.external_ref, flow.name, m, mass.unit(), p, USD.unit()))\n",
    "    else:\n",
    "        return m, p\n",
    "            "
   ]
  },
  {
   "cell_type": "code",
   "execution_count": 21,
   "metadata": {},
   "outputs": [
    {
     "name": "stdout",
     "output_type": "stream",
     "text": [
      "Help on method characterize in module lcatools.interfaces.iquantity:\n",
      "\n",
      "characterize(flowable, ref_quantity, query_quantity, value, context=None, location='GLO', **kwargs) method of antelope_catalog.catalog_query.CatalogQuery instance\n",
      "    Add Characterization data for a flowable, reporting the amount of a query quantity that is equal to a unit\n",
      "    amount of a reference quantity, for a given context and location\n",
      "    :param flowable: string or flow external ref\n",
      "    :param ref_quantity: string or external ref\n",
      "    :param query_quantity: string or external ref\n",
      "    :param value: float or dict of locations to floats\n",
      "    :param context: string\n",
      "    :param location: string, ignored if value is dict\n",
      "    :param kwargs: overwrite=False, origin=query_quantity.origin, others?\n",
      "    :return:\n",
      "\n"
     ]
    }
   ],
   "source": [
    "help(fg.characterize)"
   ]
  },
  {
   "cell_type": "code",
   "execution_count": 22,
   "metadata": {},
   "outputs": [],
   "source": [
    "cf_dict = {}"
   ]
  },
  {
   "cell_type": "code",
   "execution_count": 23,
   "metadata": {},
   "outputs": [
    {
     "data": {
      "text/plain": [
       "{'foreground.psm-hackathon/3M1169C3D6A': {'mass': 0.01120718297564451,\n",
       "  'price': 0.2896358007847856}}"
      ]
     },
     "execution_count": 23,
     "metadata": {},
     "output_type": "execute_result"
    }
   ],
   "source": [
    "m, p = mock_cfs(f, kwd, demo=False)\n",
    "cf_dict[f.link] = {'mass': m, 'price': p}\n",
    "cf_dict"
   ]
  },
  {
   "cell_type": "code",
   "execution_count": 24,
   "metadata": {},
   "outputs": [
    {
     "name": "stdout",
     "output_type": "stream",
     "text": [
      "FlowRef catalog reference (3M1169C3D6A)\n",
      "origin: foreground.psm-hackathon\n",
      "   Name: BOLT\n",
      "Comment: \n",
      "==Local Fields==\n",
      "CasNumber: \n"
     ]
    }
   ],
   "source": [
    "fg.get(f.external_ref).show()"
   ]
  },
  {
   "cell_type": "code",
   "execution_count": 25,
   "metadata": {},
   "outputs": [],
   "source": [
    "cf = fg.characterize(f.link, f.reference_entity, mass, cf_dict[f.link]['mass'])"
   ]
  },
  {
   "cell_type": "code",
   "execution_count": 26,
   "metadata": {},
   "outputs": [
    {
     "data": {
      "text/plain": [
       "Characterization(BOLT, Item(s), kg, None: 0.0112)"
      ]
     },
     "execution_count": 26,
     "metadata": {},
     "output_type": "execute_result"
    }
   ],
   "source": [
    "cf"
   ]
  },
  {
   "cell_type": "code",
   "execution_count": 27,
   "metadata": {},
   "outputs": [],
   "source": [
    "cf2 = fg.characterize(f.link, f.reference_entity, USD, cf_dict[f.link]['price'])"
   ]
  },
  {
   "cell_type": "code",
   "execution_count": 28,
   "metadata": {},
   "outputs": [
    {
     "data": {
      "text/plain": [
       "Characterization(BOLT, Item(s), USD, None:   0.29)"
      ]
     },
     "execution_count": 28,
     "metadata": {},
     "output_type": "execute_result"
    }
   ],
   "source": [
    "cf2"
   ]
  },
  {
   "cell_type": "code",
   "execution_count": 29,
   "metadata": {},
   "outputs": [
    {
     "data": {
      "text/plain": [
       "['BOLT [context None]: 1 Item(s) x 0.0112072 kg/Item(s) [GLO] (foreground.psm-hackathon)',\n",
       " 'BOLT [context None]: 1 Item(s) x 0.289636 USD/Item(s) [GLO] (foreground.psm-hackathon)']"
      ]
     },
     "execution_count": 29,
     "metadata": {},
     "output_type": "execute_result"
    }
   ],
   "source": [
    "[str(k) for k in fg.profile(f)]"
   ]
  },
  {
   "cell_type": "code",
   "execution_count": 30,
   "metadata": {},
   "outputs": [
    {
     "data": {
      "text/plain": [
       "{'foreground.psm-hackathon/3M1169C3D6A': {'mass': 0.01120718297564451,\n",
       "  'price': 0.2896358007847856}}"
      ]
     },
     "execution_count": 30,
     "metadata": {},
     "output_type": "execute_result"
    }
   ],
   "source": [
    "cf_dict"
   ]
  },
  {
   "cell_type": "code",
   "execution_count": 31,
   "metadata": {},
   "outputs": [
    {
     "name": "stdout",
     "output_type": "stream",
     "text": [
      "missing kwd tiny\n",
      "missing kwd tiny\n",
      "missing kwd tiny\n"
     ]
    }
   ],
   "source": [
    "for f in fg.flows(Material='.'):\n",
    "    if f.link in cf_dict:\n",
    "        continue\n",
    "    m, p = mock_cfs(f, kwd, demo=False)\n",
    "    cf_dict[f.link] = {'mass': m, 'price': p}\n",
    "    fg.characterize(f.link, f.reference_entity, mass, cf_dict[f.link]['mass'])\n",
    "    fg.characterize(f.link, f.reference_entity, USD, cf_dict[f.link]['price'])\n"
   ]
  },
  {
   "cell_type": "code",
   "execution_count": 32,
   "metadata": {},
   "outputs": [
    {
     "data": {
      "text/plain": [
       "True"
      ]
     },
     "execution_count": 32,
     "metadata": {},
     "output_type": "execute_result"
    }
   ],
   "source": [
    "fg.save()"
   ]
  },
  {
   "cell_type": "code",
   "execution_count": 33,
   "metadata": {},
   "outputs": [],
   "source": [
    "_flow_gen = fg.flows(Material='.')"
   ]
  },
  {
   "cell_type": "code",
   "execution_count": 34,
   "metadata": {},
   "outputs": [],
   "source": [
    "f = next(_flow_gen)"
   ]
  },
  {
   "cell_type": "code",
   "execution_count": 35,
   "metadata": {},
   "outputs": [
    {
     "data": {
      "text/plain": [
       "['BOLT [context None]: 1 Item(s) x 0.0112072 kg/Item(s) [GLO] (foreground.psm-hackathon)',\n",
       " 'BOLT [context None]: 1 Item(s) x 0.289636 USD/Item(s) [GLO] (foreground.psm-hackathon)']"
      ]
     },
     "execution_count": 35,
     "metadata": {},
     "output_type": "execute_result"
    }
   ],
   "source": [
    "[str(k) for k in fg.profile(f)]"
   ]
  },
  {
   "cell_type": "code",
   "execution_count": 51,
   "metadata": {},
   "outputs": [],
   "source": []
  },
  {
   "cell_type": "code",
   "execution_count": 43,
   "metadata": {},
   "outputs": [
    {
     "name": "stdout",
     "output_type": "stream",
     "text": [
      "[foreground.psm-hackathon] WASHER, FLAT [Item(s)] [4M116-39001]\n",
      "CFs: mass: 0.00555 kg; price: 2.19 USD\n"
     ]
    }
   ],
   "source": [
    "f = next(_flow_gen)\n",
    "print('%s [%s]\\nCFs: mass: %.3g %s; price: %.3g %s' % (f, f.external_ref, mass.cf(f), mass.unit(), USD.cf(f), USD.unit()))\n",
    "assert mass.cf(f) == cf_dict[f.link]['mass']\n",
    "assert USD.cf(f) == cf_dict[f.link]['price']"
   ]
  },
  {
   "cell_type": "code",
   "execution_count": 44,
   "metadata": {},
   "outputs": [
    {
     "data": {
      "text/plain": [
       "2.1854723935572635"
      ]
     },
     "execution_count": 44,
     "metadata": {},
     "output_type": "execute_result"
    }
   ],
   "source": [
    "USD.cf(f)"
   ]
  },
  {
   "cell_type": "code",
   "execution_count": 45,
   "metadata": {},
   "outputs": [
    {
     "data": {
      "text/plain": [
       "{'mass': 0.005553813590308264, 'price': 2.1854723935572635}"
      ]
     },
     "execution_count": 45,
     "metadata": {},
     "output_type": "execute_result"
    }
   ],
   "source": [
    "cf_dict[f.link]"
   ]
  },
  {
   "cell_type": "code",
   "execution_count": 46,
   "metadata": {},
   "outputs": [],
   "source": [
    "f = next(fg.flows(Material='Assembly'))"
   ]
  },
  {
   "cell_type": "code",
   "execution_count": 47,
   "metadata": {},
   "outputs": [
    {
     "name": "stdout",
     "output_type": "stream",
     "text": [
      "FlowRef catalog reference (74A400503-2001)\n",
      "origin: foreground.psm-hackathon\n",
      "   Name: PLATE, IDENT\n",
      "Comment: \n",
      "==Local Fields==\n",
      "CasNumber: \n",
      " Material: Assembly\n",
      "     Size: Small\n"
     ]
    }
   ],
   "source": [
    "f.show()"
   ]
  },
  {
   "cell_type": "code",
   "execution_count": 48,
   "metadata": {},
   "outputs": [
    {
     "data": {
      "text/plain": [
       "True"
      ]
     },
     "execution_count": 48,
     "metadata": {},
     "output_type": "execute_result"
    }
   ],
   "source": [
    "f.has_property('Size')"
   ]
  },
  {
   "cell_type": "code",
   "execution_count": 49,
   "metadata": {},
   "outputs": [
    {
     "name": "stdout",
     "output_type": "stream",
     "text": [
      "FlowRef catalog reference (74A400503-2001)\n",
      "origin: foreground.psm-hackathon\n",
      "   Name: PLATE, IDENT\n",
      "Comment: \n",
      "==Local Fields==\n",
      "CasNumber: \n",
      " Material: Assembly\n",
      "     Size: Small\n"
     ]
    }
   ],
   "source": [
    "f.show()"
   ]
  },
  {
   "cell_type": "code",
   "execution_count": 50,
   "metadata": {},
   "outputs": [
    {
     "name": "stdout",
     "output_type": "stream",
     "text": [
      "[foreground.psm-hackathon] PLATE, IDENT [Item(s)] [74A400503-2001]\n",
      "CFs: mass: 0.339 kg; price: 4.63 USD\n"
     ]
    }
   ],
   "source": [
    "print('%s [%s]\\nCFs: mass: %.3g %s; price: %.3g %s' % (f, f.external_ref, mass.cf(f), mass.unit(), USD.cf(f), USD.unit()))\n",
    "assert mass.cf(f) == cf_dict[f.link]['mass']\n",
    "assert USD.cf(f) == cf_dict[f.link]['price']"
   ]
  },
  {
   "cell_type": "code",
   "execution_count": null,
   "metadata": {},
   "outputs": [],
   "source": []
  }
 ],
 "metadata": {
  "kernelspec": {
   "display_name": "lca-tools",
   "language": "python",
   "name": "lca-tools"
  },
  "language_info": {
   "codemirror_mode": {
    "name": "ipython",
    "version": 3
   },
   "file_extension": ".py",
   "mimetype": "text/x-python",
   "name": "python",
   "nbconvert_exporter": "python",
   "pygments_lexer": "ipython3",
   "version": "3.7.3"
  }
 },
 "nbformat": 4,
 "nbformat_minor": 2
}
