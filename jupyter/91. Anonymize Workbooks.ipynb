{
 "cells": [
  {
   "cell_type": "code",
   "execution_count": 1,
   "metadata": {},
   "outputs": [],
   "source": [
    "import sys\n",
    "sys.path.append('/data/GitHub/2019/EPA_PSM_antelope/')"
   ]
  },
  {
   "cell_type": "code",
   "execution_count": 2,
   "metadata": {},
   "outputs": [],
   "source": [
    "DATA_DIR = '/data/GitHub/2019/LCAproductsystemassembly_1/data-foreground/'"
   ]
  },
  {
   "cell_type": "code",
   "execution_count": 3,
   "metadata": {},
   "outputs": [],
   "source": [
    "from antelope_epa.anonymize import WorksheetAnonymizer"
   ]
  },
  {
   "cell_type": "code",
   "execution_count": 4,
   "metadata": {},
   "outputs": [
    {
     "name": "stdout",
     "output_type": "stream",
     "text": [
      "Workbook: NLG F18EFG ABL.xlsx\n",
      "Assemblies: ['74A430500-1017', '74A430700-1009', '74A430800-1021']\n",
      "74A430500-1017: set()\n",
      "Warning: parent is self: 74B430704-101 (row 19)\n",
      "Warning: parent is self: 74B430705-103 (row 21)\n",
      "74A430700-1009: set()\n",
      "74A430800-1021: set()\n",
      "Missing: set()\n",
      "\n",
      "Workbook: MLG F18EFG ABL_c.xlsx\n",
      "Assemblies: ['74A400500-1017', '74A400500-1018', '74A400700-1013', '74A400700-1014', '74A400800-1001']\n",
      "74A400500-1017: set()\n",
      "74A400500-1018: set()\n",
      "74A400700-1013: set()\n",
      "74A400700-1014: set()\n",
      "74A400800-1001: set()\n",
      "Missing: set()\n",
      "\n",
      "Workbook: MLG F18EFG ABL.xlsx\n",
      "Assemblies: ['74A400500-1017', '74A400500-1018', '74A400700-1013', '74A400700-1014', '74A400800-1001']\n",
      "74A400500-1017: {'74A400600-1017', '74A400631-2003'}\n",
      "74A400500-1018: {'74A400600-1017', '74A400631-2003'}\n",
      "74A400700-1013: {'74A400700-2009', '74A400700-1011', '74A400780-1001'}\n",
      "74A400700-1014: {'74A400700-2009', '74A400780-1001', '74A400700-1012'}\n",
      "74A400800-1001: set()\n",
      "Missing: {'74A400700-2009', '74A400600-1017', '74A400700-1012', '74A400700-1011', '74A400780-1001', '74A400631-2003'}\n",
      "\n",
      "Cross-References: set()\n",
      "Globally Missing: {'74A400700-2009', '74A400600-1017', '74A400700-1012', '74A400700-1011', '74A400780-1001', '74A400631-2003'}\n"
     ]
    }
   ],
   "source": [
    "wa = WorksheetAnonymizer(DATA_DIR)"
   ]
  },
  {
   "cell_type": "code",
   "execution_count": 5,
   "metadata": {},
   "outputs": [],
   "source": [
    "import os"
   ]
  },
  {
   "cell_type": "code",
   "execution_count": 6,
   "metadata": {},
   "outputs": [],
   "source": [
    "ddir = os.path.abspath(os.path.join(DATA_DIR, '..', 'anon-foreground'))"
   ]
  },
  {
   "cell_type": "code",
   "execution_count": 7,
   "metadata": {},
   "outputs": [
    {
     "name": "stdout",
     "output_type": "stream",
     "text": [
      "Adding sheet 74A430500-1017 -> ANON_707639\n",
      "Adding sheet 74A430700-1009 -> ANON_509548\n",
      "Adding sheet 74A430800-1021 -> ANON_763797\n",
      "writing workbook <xlsxwriter.workbook.Workbook object at 0x7f0b1831abe0>\n",
      "Adding sheet 74A400500-1017 -> ANON_966501\n",
      "Adding sheet 74A400500-1018 -> ANON_259265\n",
      "Adding sheet 74A400700-1013 -> ANON_165232\n",
      "Adding sheet 74A400700-1014 -> ANON_838015\n",
      "Adding sheet 74A400800-1001 -> ANON_777789\n",
      "writing workbook <xlsxwriter.workbook.Workbook object at 0x7f0b2030cc88>\n"
     ]
    }
   ],
   "source": [
    "wa.write_anon_books(ddir)"
   ]
  },
  {
   "cell_type": "code",
   "execution_count": null,
   "metadata": {},
   "outputs": [],
   "source": []
  }
 ],
 "metadata": {
  "kernelspec": {
   "display_name": "lca-tools",
   "language": "python",
   "name": "lca-tools"
  },
  "language_info": {
   "codemirror_mode": {
    "name": "ipython",
    "version": 3
   },
   "file_extension": ".py",
   "mimetype": "text/x-python",
   "name": "python",
   "nbconvert_exporter": "python",
   "pygments_lexer": "ipython3",
   "version": "3.7.3"
  }
 },
 "nbformat": 4,
 "nbformat_minor": 2
}
