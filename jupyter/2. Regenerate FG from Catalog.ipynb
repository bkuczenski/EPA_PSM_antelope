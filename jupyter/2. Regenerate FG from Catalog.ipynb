{
 "cells": [
  {
   "cell_type": "code",
   "execution_count": 1,
   "metadata": {},
   "outputs": [],
   "source": [
    "import os\n",
    "import sys\n",
    "WORKING_DIR = '/data/GitHub/2019/EPA_PSM_antelope'\n",
    "sys.path.append(WORKING_DIR)\n",
    "CAT_DIR = os.path.join(WORKING_DIR, 'catalog')"
   ]
  },
  {
   "cell_type": "code",
   "execution_count": 2,
   "metadata": {},
   "outputs": [],
   "source": [
    "from antelope_catalog import LcCatalog"
   ]
  },
  {
   "cell_type": "code",
   "execution_count": 3,
   "metadata": {},
   "outputs": [
    {
     "name": "stdout",
     "output_type": "stream",
     "text": [
      "Loading JSON data from /data/GitHub/2019/EPA_PSM_antelope/catalog/reference-quantities.json:\n",
      "local.qdb: /data/GitHub/2019/EPA_PSM_antelope/catalog/reference-quantities.json\n",
      "local.qdb: /data/GitHub/lca-tools/lcatools/qdb/data/elcd_reference_quantities.json\n",
      "6 new flow entities added (6 total)\n",
      "25 new quantity entities added (25 total)\n"
     ]
    }
   ],
   "source": [
    "cat = LcCatalog(CAT_DIR)"
   ]
  },
  {
   "cell_type": "code",
   "execution_count": 4,
   "metadata": {},
   "outputs": [
    {
     "name": "stdout",
     "output_type": "stream",
     "text": [
      "local.data.GitHub.2019.EPA_PSM_antelope.catalog.psm-hackathon: /data/GitHub/2019/EPA_PSM_antelope/catalog/psm-hackathon\n",
      "Loading /data/GitHub/2019/EPA_PSM_antelope/catalog/psm-hackathon\n",
      "local.data.GitHub.2019.EPA_PSM_antelope.catalog.psm-hackathon: /data/GitHub/2019/EPA_PSM_antelope/catalog/psm-hackathon/entities.json\n",
      "1019 new flow entities added (1019 total)\n",
      "0 new fragment entities added (0 total)\n",
      "1 new quantity entities added (1 total)\n",
      "1404 new fragment entities added (1404 total)\n"
     ]
    }
   ],
   "source": [
    "fg = cat.create_foreground('psm-hackathon')"
   ]
  },
  {
   "cell_type": "code",
   "execution_count": 5,
   "metadata": {},
   "outputs": [
    {
     "data": {
      "text/plain": [
       "['( ** ref) -<- 9b37c -<- -O    [   1 Item(s)] 74A400500-1017 ASSEMBLY {74A400500-1017 ASSEMBLY}',\n",
       " '( ** ref) -<- 2996d -<- -O    [   1 Item(s)] 74A400500-1018 ASSEMBLY {74A400500-1018 ASSEMBLY}',\n",
       " '( ** ref) -<- 59382 -<- -O    [   1 Item(s)] 74A400700-1013 ASSEMBLY {74A400700-1013 ASSEMBLY}',\n",
       " '( ** ref) -<- 31e5b -<- -O    [   1 Item(s)] 74A400700-1014 ASSEMBLY {74A400700-1014 ASSEMBLY}',\n",
       " '( ** ref) -<- 44679 -<- -O    [   2 Item(s)] 74A400800-1001 ASSEMBLY {74A400800-1001 ASSEMBLY}',\n",
       " '( ** ref) -<- eb20e -<- -O    [   1 Item(s)] 74A430500-1017 ASSEMBLY {74A430500-1017 ASSEMBLY}',\n",
       " '( ** ref) -<- d96c9 -<- -O    [   1 Item(s)] 74A430700-1009 ASSEMBLY {74A430700-1009 ASSEMBLY}',\n",
       " '( ** ref) -<- f7bf7 -<- -O    [   1 Item(s)] 74A430800-1021 ASSEMBLY {74A430800-1021 ASSEMBLY}',\n",
       " '( ** ref) -<- 8ddbc -<- -O    [   1 Item(s)] ADAPTER ASSY {74A400736-1001 ASSEMBLY}',\n",
       " '( ** ref) -<- 0af12 -<- -O    [   1 Item(s)] AXLE ASSY {74A400940-1003 ASSEMBLY}',\n",
       " '( ** ref) -<- 05b8a -<- -O    [   1 Item(s)] BEARING {74B400977-101 ASSEMBLY}',\n",
       " '( ** ref) -<- 6f346 -<- -O    [   1 Item(s)] BEARING,PLAIN {74B400914-105 ASSEMBLY}',\n",
       " '( ** ref) -<- cdb66 -<- -O    [   1 Item(s)] BELLCRANK ASSY-UPR {74A400701-1005 ASSEMBLY}',\n",
       " '( ** ref) -<- e3132 -<- -O    [   1 Item(s)] BOLT ASSY {74A400517-1003 ASSEMBLY}',\n",
       " '( ** ref) -<- 93941 -<- -O    [   1 Item(s)] BOLT, ASSY, RETNR {74A400912-1003 ASSEMBLY}',\n",
       " '( ** ref) -<- b9ecb -<- -O    [   1 Item(s)] CONN LINK ASSY {74A400780-1003 ASSEMBLY}',\n",
       " '( ** ref) -<- 82cc9 -<- -O    [   1 Item(s)] LINK ASSY, LOWER {74A400561-1005 ASSEMBLY}',\n",
       " '( ** ref) -<- b6871 -<- -O    [   1 Item(s)] LINK ASSY, LWR {74A400750-1005 ASSEMBLY}',\n",
       " '( ** ref) -<- 5e259 -<- -O    [   1 Item(s)] LINK ASSY, UPPER {74A400574-1001 ASSEMBLY}',\n",
       " '( ** ref) -<- 62531 -<- -O    [   1 Item(s)] RING ASSY {74A400711-1001 ASSEMBLY}',\n",
       " '( ** ref) -<- c0a83 -<- -O    [   1 Item(s)] RING, TIEDOWN {74A410518-2005A ASSEMBLY}',\n",
       " '( ** ref) -<- 77a5b -<- -O    [   1 Item(s)] ROD ASSY, SPR {74A400939-1001 ASSEMBLY}',\n",
       " '( ** ref) -<- 7eb7c -<- -O    [   1 Item(s)] SCREW, CAP {74B400516-2001 ASSEMBLY}',\n",
       " '( ** ref) -<- 6adc9 -<- -O    [   1 Item(s)] SHOCK ABS ASSY {74A400600-1019 ASSEMBLY}',\n",
       " '( ** ref) -<- 06af7 -<- -O    [   1 Item(s)] SIDE BR ASSY,LWR {74A400740-1001 ASSEMBLY}',\n",
       " '( ** ref) -<- 6df39 -<- -O    [   1 Item(s)] SIDE BR ASSY,UPR {74A400730-1003 ASSEMBLY}',\n",
       " '( ** ref) -<- ed420 -<- -O    [   1 Item(s)] UNIV ASSY {74A400734-1003 ASSEMBLY}']"
      ]
     },
     "execution_count": 5,
     "metadata": {},
     "output_type": "execute_result"
    }
   ],
   "source": [
    "[str(k) for k in sorted(fg.fragments(), key=lambda x:x['name'])]"
   ]
  },
  {
   "cell_type": "code",
   "execution_count": 6,
   "metadata": {},
   "outputs": [],
   "source": [
    "frag = fg.frag('44679')"
   ]
  },
  {
   "cell_type": "code",
   "execution_count": 7,
   "metadata": {},
   "outputs": [
    {
     "name": "stdout",
     "output_type": "stream",
     "text": [
      "( ** ref) -<- 44679 -<- -O    [   2 Item(s)] 74A400800-1001 ASSEMBLY {74A400800-1001 ASSEMBLY}\n",
      "Fragment Entity (ref 74A400800-1001 ASSEMBLY)\n",
      "origin: local.data.GitHub.2019.EPA_PSM_antelope.catalog.psm-hackathon\n",
      "reference: None\n",
      "     Name: 74A400800-1001 ASSEMBLY\n",
      "  Comment: \n",
      "StageName: \n",
      "   Source: 74A400800-1001\n",
      "      Row: 2\n",
      "Exchange values: \n",
      "              Cached: 2\n",
      "            Observed: 2\n",
      "\n",
      "Balance flow: False\n",
      "Terminations: \n",
      "            Scenario  Termination\n",
      "                None: -O   Foreground\n"
     ]
    }
   ],
   "source": [
    "frag.show()"
   ]
  },
  {
   "cell_type": "code",
   "execution_count": 8,
   "metadata": {},
   "outputs": [
    {
     "name": "stdout",
     "output_type": "stream",
     "text": [
      "   -<--O   44679 [       2 Item(s)] 74A400800-1001 ASSEMBLY\n",
      "    [   1 unit] 74A400800-1001 ASSEMBLY\n",
      "       | -<----: 126be (       2 Item(s)) RETAINER\n",
      "       | -<----: 1d01b (       1 Item(s)) PACKING\n",
      "       | -<----: 23fb1 (       1 Item(s)) PACKING\n",
      "       | -<----: 338d3 (       1 Item(s)) CYLINDER, RETRACT\n",
      "       | -<----: 33b39 (       1 Item(s)) SCRAPER\n",
      "       | -<----: 34a24 (       2 Item(s)) RETAINER\n",
      "       | -<----: 34a9d (       2 Item(s)) RETAINER\n",
      "       | -<----: 540e0 (       1 Item(s)) TUBE, TRANSFER\n",
      "       | -<----: 82b88 (       2 Item(s)) RETAINER\n",
      "       | -<----: 8f01b (       1 Item(s)) PLATE, LOCKING\n",
      "       | -<----: 8f8d0 (       1 Item(s)) PISTON, RETRACT\n",
      "       | -<----: b1cc4 (       1 Item(s)) PACKING\n",
      "       | -<----: c16fc (       2 Item(s)) RETAINER\n",
      "       | -<----: c668b (       1 Item(s)) SPACER, PLATE\n",
      "       | -<----: c840d (       1 Item(s)) LOCKWIRE\n",
      "       | -<----: d25ed (       1 Item(s)) PACKING\n",
      "       | -<----: d4d53 (       2 Item(s)) SCREW\n",
      "       | -<----: de72a (       1 Item(s)) PLATE, IDENT\n",
      "       | -<----: ea954 (       1 Item(s)) SEAL\n",
      "       | -<----: f0c29 (       2 Item(s)) RETAINER\n",
      "       | -<--O   40a73 (       1 Item(s)) ROD ASSEMBLY\n",
      "       |  [   1 unit] ROD ASSEMBLY\n",
      "       |     | -<----: 04ce8 (       1 Item(s)) ROD\n",
      "       |     | -<----: 142fa (       1 Item(s)) BEARING\n",
      "       |     x \n",
      "       | -<--O   58121 (       1 Item(s)) RING, PISTON\n",
      "       |  [   1 unit] RING, PISTON\n",
      "       |     | -<----: 8d1bf (       2 Item(s)) RING, PISTON\n",
      "       |     | -<----: ceced (       1 Item(s)) RING, EXPANDER\n",
      "       |     x \n",
      "       | -<--O   d0bf3 (       1 Item(s)) HEAD ASSEMBLY\n",
      "       |  [   1 unit] HEAD ASSEMBLY\n",
      "       |     | -<----: 392df (       1 Item(s)) BEARING\n",
      "       |     | -<----: 3e525 (       2 Item(s)) PACKING\n",
      "       |     | -<----: 91b6e (       2 Item(s)) PLUG\n",
      "       |     | -<----: 9b49d (       1 Item(s)) HEAD\n",
      "       |     | -<----: b6890 (       2 Item(s)) PIN\n",
      "       |     | -<----: bbd04 (       2 Item(s)) ADAPTER\n",
      "       |     x \n",
      "       x \n"
     ]
    }
   ],
   "source": [
    "frag.show_tree()"
   ]
  },
  {
   "cell_type": "code",
   "execution_count": 9,
   "metadata": {},
   "outputs": [],
   "source": [
    "from antelope_epa.epa_psm_antelope import EpaF18Foreground"
   ]
  },
  {
   "cell_type": "code",
   "execution_count": 10,
   "metadata": {},
   "outputs": [],
   "source": [
    "efg = EpaF18Foreground(fg)"
   ]
  },
  {
   "cell_type": "code",
   "execution_count": 11,
   "metadata": {
    "scrolled": false
   },
   "outputs": [
    {
     "name": "stdout",
     "output_type": "stream",
     "text": [
      "   -<--O   2996d [       1 Item(s)] 74A400500-1018 ASSEMBLY\n",
      "    [   1 unit] 74A400500-1018 ASSEMBLY\n",
      "       | -<----: 01242 (       1 Item(s)) NUT\n",
      "       | -<----: 01dbe (       1 Item(s)) PLATE\n",
      "       | -<----: 0701c (       1 Item(s)) SPACER, SLEEVE\n",
      "       | -<----: 08c23 (       1 Item(s)) WASHER, TAB LOCK\n",
      "       | -<----: 1cc5a (       1 Item(s)) NUT\n",
      "       | -<----: 20810 (       1 Item(s)) LOCKWIRE\n",
      "       | -<----: 20c05 (       1 Item(s)) BOLT-RETAINER\n",
      "       | -<----: 263b3 (       2 Item(s)) WASHER, FLAT\n",
      "       | -<----: 26c93 (       2 Item(s)) WASHER, FLAT\n",
      "       | -<----: 2bd15 (       2 Item(s)) NUT, PLAIN\n",
      "       | -<----: 2c63a (       1 Item(s)) BOLT, SHOULDER\n",
      "       | -<----: 2ef03 (       1 Item(s)) BOLT\n",
      "       | -<----: 2f798 (       1 Item(s)) PIN, COTTER\n",
      "       | -<----: 4b3ae (       1 Item(s)) NUT,PLAIN,HEXAGON\n",
      "       | -<----: 6d87d (       1 Item(s)) ADAPTER\n",
      "       | -<----: 86628 (       2 Item(s)) WASHER,FLAT\n",
      "       | -<----: 86c6a (       1 Item(s)) PLATE, IDENT\n",
      "       | -<----: aae19 (       1 Item(s)) NUT, PLAIN, HEX\n",
      "       | -<----: b714d (       1 Item(s)) BOLT, SHOULDER\n",
      "       | -<----: c03d3 (       1 Item(s)) WASHER, KEY\n",
      "       | -<----: cc0c0 (       1 Item(s)) WASHER\n",
      "       | -<----: cfb26 (       1 Item(s)) PIN\n",
      "       | -<----: d77d2 (       2 Item(s)) WASHER, FLAT\n",
      "       | -<----: df1ca (       1 Item(s)) STUD\n",
      "       | -<----: e2798 (       1 Item(s)) BOLT, SHOULDER\n",
      "       | -<----: e5737 (       2 Item(s)) WASHER, KEY\n",
      "       | -<----: e9628 (       1 Item(s)) PLATE\n",
      "       | -<----: eb005 (       1 Item(s)) PIN, PIVOT\n",
      "       | -<--#:: 07133 (       2 Item(s)) SCREW, CAP\n",
      "       | -<--O   34ca9 (       1 Item(s)) TRUNNION ASSY\n",
      "       |  [   1 unit] TRUNNION ASSY\n",
      "       |     | -<----: 07a73 (       3 Item(s)) WASHER\n",
      "       |     | -<----: 084b9 (       2 Item(s)) BOLT, SHACKLE\n",
      "       |     | -<----: 0a550 (       2 Item(s)) WASHER\n",
      "       |     | -<----: 13d0d (       1 Item(s)) WASHER\n",
      "       |     | -<----: 15dd4 (       1 Item(s)) BOLT,SHOULDER\n",
      "       |     | -<----: 1b10d (       1 Item(s)) MACHINE SCREW\n",
      "       |     | -<----: 1b8e9 (       1 Item(s)) BRACKET\n",
      "       |     | -<----: 2482b (       3 Item(s)) PIN\n",
      "       |     | -<----: 3a7e0 (       1 Item(s)) PIN, TRUNNION\n",
      "       |     | -<----: 3ef63 (       2 Item(s)) BRACKET,SHACKLE\n",
      "       |     | -<----: 75a69 (       1 Item(s)) PLUG, THREADED\n",
      "       |     | -<----: 96d27 (       1 Item(s)) LOCK\n",
      "       |     | -<----: a4a61 (       3 Item(s)) NUT\n",
      "       |     | -<----: a6a50 (       2 Item(s)) SPRING\n",
      "       |     | -<----: b49c4 (       1 Item(s)) WASHER, FLAT\n",
      "       |     | -<----: cc8c4 (       1 Item(s)) WASHER, KEY\n",
      "       |     | -<----: d23cb (       1 Item(s)) BRACKET\n",
      "       |     | -<----: d6967 (       1 Item(s)) COTTER PIN\n",
      "       |     | -<----: df5a4 (       1 Item(s)) BOLT, SHOULDER\n",
      "       |     | -<----: e9f4b (       1 Item(s)) NUT\n",
      "       |     | -<--#:: c88f9 (       2 Item(s)) RING, TIEDOWN\n",
      "       |     | -<--O   f1cf4 (       1 Item(s)) TRUNNION ASSY\n",
      "       |     |  [   1 unit] TRUNNION ASSY\n",
      "       |     |     | -<----: 0ef43 (       1 Item(s)) BUSHING\n",
      "       |     |     | -<----: 30d80 (       1 Item(s)) BUSHING\n",
      "       |     |     | -<----: 43f5e (       4 Item(s)) BUSHING\n",
      "       |     |     | -<----: aab64 (       3 Item(s)) FITTING\n",
      "       |     |     | -<----: abe81 (       2 Item(s)) BUSHING\n",
      "       |     |     | -<----: bda9d (       1 Item(s)) BUSHING\n",
      "       |     |     | -<----: cf3b3 (       1 Item(s)) BUSHING\n",
      "       |     |     | -<----: dffd2 (       2 Item(s)) BUSHING\n",
      "       |     |     | -<----: e06aa (       2 Item(s)) BUSHING\n",
      "       |     |     | -<----: ef09b (       1 Item(s)) BUSHING\n",
      "       |     |     | -<--O   a83b9 (       1 Item(s)) TRUNNION\n",
      "       |     |     |  [   1 unit] TRUNNION\n",
      "       |     |     |     | -<--O   a173c (       1 Item(s)) TRUNNION\n",
      "       |     |     |     |  [   1 unit] TRUNNION\n",
      "       |     |     |     |     | -<----: cf364 (       1 Item(s)) TRUNNION, FORGING\n",
      "       |     |     |     |     x \n",
      "       |     |     |     x \n",
      "       |     |     x \n",
      "       |     x \n",
      "       | -<--O   397f1 (       1 Item(s)) SUPPORT ASSY\n",
      "       |  [   1 unit] SUPPORT ASSY\n",
      "       |     | -<----: 2b4ac (       4 Item(s)) INSERT\n",
      "       |     | -<--O   faa7e (       1 Item(s)) SUPPORT\n",
      "       |     |  [   1 unit] SUPPORT\n",
      "       |     |     | -<----: e19b3 (       1 Item(s)) SUPPORT, CASTING\n",
      "       |     |     x \n",
      "       |     x \n",
      "       | -<--O   3f653 (       1 Item(s)) SUPPORT ASSY\n",
      "       |  [   1 unit] SUPPORT ASSY\n",
      "       |     | -<----: 09a25 (       1 Item(s)) SPACER\n",
      "       |     | -<----: 0df60 (       1 Item(s)) INSERT\n",
      "       |     | -<----: 59df9 (       3 Item(s)) INSERT\n",
      "       |     | -<----: 75ce7 (       1 Item(s)) TARGET\n",
      "       |     | -<----: a883f (       1 Item(s)) SETSCREW\n",
      "       |     | -<----: a98da (       2 Item(s)) RIVET\n",
      "       |     | -<--O   b79c7 (       1 Item(s)) SUPPORT\n",
      "       |     |  [   1 unit] SUPPORT\n",
      "       |     |     | -<----: 543c4 (       1 Item(s)) SUPPORT, CASTING\n",
      "       |     |     x \n",
      "       |     x \n",
      "       | -<--#:: 7bc9f (       1 Item(s)) SHOCK ABS ASSY\n",
      "       | -<--O   a7391 (       1 Item(s)) PLANING MECH ASSY\n",
      "       |  [   1 unit] PLANING MECH ASSY\n",
      "       |     | -<----: 06b5b (       1 Item(s)) PIN\n",
      "       |     | -<----: 112fe (       1 Item(s)) BOLT\n",
      "       |     | -<----: 12d6d (       1 Item(s)) WASHER\n",
      "       |     | -<----: 48182 (       1 Item(s)) LOCKWIRE\n",
      "       |     | -<----: 66449 (       1 Item(s)) BOLT\n",
      "       |     | -<----: 77a5e (       1 Item(s)) NUT\n",
      "       |     | -<----: 8a02c (       1 Item(s)) PIN, COTTER\n",
      "       |     | -<----: 9c2c2 (       1 Item(s)) NUT\n",
      "       |     | -<----: c5a68 (       1 Item(s)) WASHER, FLAT\n",
      "       |     | -<--#:: 29042 (       1 Item(s)) LINK ASSY, LOWER\n",
      "       |     | -<--#:: 92770 (       1 Item(s)) LINK ASSY, UPPER\n",
      "       |     | -<--O   c4744 (       1 Item(s)) BELLCRANK ASSY\n",
      "       |     |  [   1 unit] BELLCRANK ASSY\n",
      "       |     |     | -<----: 20e43 (       2 Item(s)) BUSHING\n",
      "       |     |     | -<----: 39377 (       2 Item(s)) BUSHING,PIVOT,PTFE\n",
      "       |     |     | -<----: 4509d (       2 Item(s)) BUSHING, BELLCRANK\n",
      "       |     |     | -<--O   121f0 (       1 Item(s)) BELL CRANK\n",
      "       |     |     |  [   1 unit] BELL CRANK\n",
      "       |     |     |     | -<----: 526bf (       1 Item(s)) BELLCRANK, FORGING\n",
      "       |     |     |     x \n",
      "       |     |     x \n",
      "       |     x \n",
      "       | -<--O   c58a9 (       1 Item(s)) LEVER/AXLE ASSY\n",
      "       |  [   1 unit] LEVER/AXLE ASSY\n",
      "       |     | -<----: 053d7 (       1 Item(s)) NUT, PLAIN\n",
      "       |     | -<----: 0c768 (       1 Item(s)) WASHER, FLAT\n",
      "       |     | -<----: 0ecbd (       1 Item(s)) SPACER\n",
      "       |     | -<----: 0fc1b (       1 Item(s)) LOCK - AXLE CRANK\n",
      "       |     | -<----: 14e17 (       1 Item(s)) WASHER, FLAT\n",
      "       |     | -<----: 1a46c (       2 Item(s)) BOLT, SHOULDER\n",
      "       |     | -<----: 2c6ef (       1 Item(s)) WASHER, LAMINATED\n",
      "       |     | -<----: 2cac7 (       2 Item(s)) WASHER, FLAT\n",
      "       |     | -<----: 325fe (       1 Item(s)) BOLT, SHOULDER\n",
      "       |     | -<----: 3f4d1 (       1 Item(s)) WASHER, CSK\n",
      "       |     | -<----: 414d1 (       2 Item(s)) NUT, DRILLED JAM\n",
      "       |     | -<----: 48cb0 (       1 Item(s)) TARGET,PROX SW\n",
      "       |     | -<----: 50fc5 (       1 Item(s)) BOLT, HEX HEAD\n",
      "       |     | -<----: 5b0d2 (       1 Item(s)) BUSHING, CLAMP-UP\n",
      "       |     | -<----: 62d50 (       1 Item(s)) NUT, PLAIN, RND\n",
      "       |     | -<----: 65116 (       1 Item(s)) LINK,OVERCENTER\n",
      "       |     | -<----: 6ad52 (       1 Item(s)) NUT\n",
      "       |     | -<----: 6b126 (       2 Item(s)) WASHER,FLAT\n",
      "       |     | -<----: 6d90b (       1 Item(s)) WASHER\n",
      "       |     | -<----: 6ed58 (       2 Item(s)) NUT\n",
      "       |     | -<----: 7bebc (       1 Item(s)) PIN\n",
      "       |     | -<----: 85025 (       1 Item(s)) LOCKWIRE\n",
      "       |     | -<----: 869d5 (       1 Item(s)) PACKING\n",
      "       |     | -<----: 8785b (       1 Item(s)) WASHER, FLAT\n",
      "       |     | -<----: 8be66 (       1 Item(s)) PIN, COTTER\n",
      "       |     | -<----: 8ca1b (       3 Item(s)) WASHER, KEY, LWR\n",
      "       |     | -<----: 907a5 (       1 Item(s)) NUT, DRILLED JAM\n",
      "       |     | -<----: 91c98 (       1 Item(s)) ROLLER, UPLOCK\n",
      "       |     | -<----: 93c37 (       1 Item(s)) SPRING, OUTER\n",
      "       |     | -<----: 97b5e (       1 Item(s)) NUT, AXLE\n",
      "       |     | -<----: 9c1ae (       1 Item(s)) PACKING\n",
      "       |     | -<----: a1246 (       1 Item(s)) SPRING, INNER\n",
      "       |     | -<----: a20d2 (       1 Item(s)) SEAT, SPRING\n",
      "       |     | -<----: a8297 (       2 Item(s)) BOLT, HEX HEAD\n",
      "       |     | -<----: bf746 (       1 Item(s)) PLUG, PROTECTIVE\n",
      "       |     | -<----: c390f (       1 Item(s)) WASHER, KEY\n",
      "       |     | -<----: c995d (       1 Item(s)) PACKING\n",
      "       |     | -<----: d534e (       2 Item(s)) PIN\n",
      "       |     | -<----: dac13 (       1 Item(s)) LINK, PLAIN\n",
      "       |     | -<----: e982e (       2 Item(s)) BOLT, SHOULDER\n",
      "       |     | -<----: f492a (       1 Item(s)) NUT, SELF LOCKING\n",
      "       |     | -<----: f5502 (       1 Item(s)) BOLT, SHOULDER\n",
      "       |     | -<----: f5581 (       1 Item(s)) BOLT, HEX HEAD\n",
      "       |     | -<----: fcf6e (       1 Item(s)) NUT, PIN ASSY\n",
      "       |     | -<----: ff365 (       1 Item(s)) PIN\n",
      "       |     | -<--#:: 203ef (       1 Item(s)) AXLE ASSY\n",
      "       |     | -<--O   2143c (       1 Item(s)) LEVER ASSY\n",
      "       |     |  [   1 unit] LEVER ASSY\n",
      "       |     |     | -<----: 24c0b (       1 Item(s)) BUSHING\n",
      "       |     |     | -<----: 343cf (       2 Item(s)) BUSHING\n",
      "       |     |     | -<----: 4a5e5 (       1 Item(s)) BUSHING\n",
      "       |     |     | -<----: 53991 (       1 Item(s)) BUSHING\n",
      "       |     |     | -<----: 5d4e2 (       5 Item(s)) FITTING\n",
      "       |     |     | -<----: b05e3 (       2 Item(s)) BUSHING\n",
      "       |     |     | -<----: e4f46 (       1 Item(s)) BUSHING\n",
      "       |     |     | -<----: f347b (       2 Item(s)) BUSHING\n",
      "       |     |     | -<----: f9e4e (       2 Item(s)) BUSHING\n",
      "       |     |     | -<--O   212dd (       1 Item(s)) LEVER\n",
      "       |     |     |  [   1 unit] LEVER\n",
      "       |     |     |     | -<--O   a5c0a (       1 Item(s)) LEVER\n",
      "       |     |     |     |  [   1 unit] LEVER\n",
      "       |     |     |     |     | -<----: ca300 (       1 Item(s)) LEVER, FORGING\n",
      "       |     |     |     |     x \n",
      "       |     |     |     x \n",
      "       |     |     | -<--#:: ed8d5 (       1 Item(s)) BEARING\n",
      "       |     |     x \n",
      "       |     | -<--O   2963d (       1 Item(s)) LINK ASSY, UPR\n",
      "       |     |  [   1 unit] LINK ASSY, UPR\n",
      "       |     |     | -<----: 08328 (       2 Item(s)) BUSHING\n",
      "       |     |     | -<----: a0518 (       2 Item(s)) BUSHING\n",
      "       |     |     | -<----: a7be9 (       1 Item(s)) LINK\n",
      "       |     |     | -<----: ccd84 (       2 Item(s)) BUSHING\n",
      "       |     |     x \n",
      "       |     | -<--#:: 2c2a8 (       1 Item(s)) BOLT, ASSY, RETNR\n",
      "       |     | -<--#:: 61456 (       1 Item(s)) ROD ASSY, SPR\n",
      "       |     | -<--O   aa56d (       1 Item(s)) BRKT ASSY, SPR\n",
      "       |     |  [   1 unit] BRKT ASSY, SPR\n",
      "       |     |     | -<----: 2cbf8 (       1 Item(s)) BRACKET\n",
      "       |     |     | -<----: 9f6b6 (       1 Item(s)) BUSHING\n",
      "       |     |     | -<----: b427d (       1 Item(s)) BUSHING\n",
      "       |     |     x \n",
      "       |     | -<--O   c3e7c (       1 Item(s)) YOKE ASSY\n",
      "       |     |  [   1 unit] YOKE ASSY\n",
      "       |     |     | -<----: 303ad (       1 Item(s)) YOKE\n",
      "       |     |     | -<----: 536cb (       2 Item(s)) FITTING\n",
      "       |     |     | -<----: a85a7 (       2 Item(s)) BUSHING\n",
      "       |     |     | -<----: c44f4 (       2 Item(s)) BUSHING\n",
      "       |     |     x \n",
      "       |     | -<--O   ca3a8 (       1 Item(s)) BRKT ASSY, PROX\n",
      "       |     |  [   1 unit] BRKT ASSY, PROX\n",
      "       |     |     | -<----: f3862 (       1 Item(s)) BUSHING\n",
      "       |     |     | -<--O   e83b8 (       1 Item(s)) BRACKET\n",
      "       |     |     |  [   1 unit] BRACKET\n",
      "       |     |     |     | -<----: ab61b (       1 Item(s)) BRACKET, CASTING\n",
      "       |     |     |     x \n",
      "       |     |     x \n",
      "       |     | -<--O   cf5e8 (       1 Item(s)) PIN ASSY\n",
      "       |     |  [   1 unit] PIN ASSY\n",
      "       |     |     | -<----: f4493 (       1 Item(s)) BEARING\n",
      "       |     |     | -<--O   121ec (       1 Item(s)) PIN\n",
      "       |     |     |  [   1 unit] PIN\n",
      "       |     |     |     | -<----: 3697c (       1 Item(s)) PIN\n",
      "       |     |     |     x \n",
      "       |     |     x \n",
      "       |     | -<--O   e310c (       1 Item(s)) CRANK ASSY\n",
      "       |     |  [   1 unit] CRANK ASSY\n",
      "       |     |     | -<----: 88bdf (       1 Item(s)) FITTING\n",
      "       |     |     | -<--#:: 212d3 (       1 Item(s)) BEARING,PLAIN\n",
      "       |     |     | -<--O   dea57 (       1 Item(s)) CRANK,AXLE\n",
      "       |     |     |  [   1 unit] CRANK,AXLE\n",
      "       |     |     |     | -<--O   01cfa (       1 Item(s)) CRANK,AXLE\n",
      "       |     |     |     |  [   1 unit] CRANK,AXLE\n",
      "       |     |     |     |     | -<----: 65f02 (       1 Item(s)) CRANK, AXLE, FORGING\n",
      "       |     |     |     |     x \n",
      "       |     |     |     x \n",
      "       |     |     x \n",
      "       |     | -<--O   f5b85 (       1 Item(s)) LINK ASSY, LWR\n",
      "       |     |  [   1 unit] LINK ASSY, LWR\n",
      "       |     |     | -<----: 7f79a (       2 Item(s)) BUSHING\n",
      "       |     |     | -<----: d1631 (       2 Item(s)) BUSHING\n",
      "       |     |     | -<--O   8fee0 (       1 Item(s)) LINK\n",
      "       |     |     |  [   1 unit] LINK\n",
      "       |     |     |     | -<----: 77f7d (       1 Item(s)) LINK\n",
      "       |     |     |     x \n",
      "       |     |     x \n",
      "       |     x \n",
      "       x \n"
     ]
    }
   ],
   "source": [
    "efg.fg['74A400500-1018 ASSEMBLY'].show_tree()"
   ]
  },
  {
   "cell_type": "code",
   "execution_count": 12,
   "metadata": {},
   "outputs": [
    {
     "name": "stdout",
     "output_type": "stream",
     "text": [
      "(a7391fe) -<- 29042 -<- -#::  [   1 unit] LINK ASSY, LOWER \n",
      "Fragment Entity (ref 29042525-a8d8-4861-8f88-83fe1b9a01d1)\n",
      "origin: local.data.GitHub.2019.EPA_PSM_antelope.catalog.psm-hackathon\n",
      "reference: (2996df7) -<- a7391 -<- -O    [   1 unit] PLANING MECH ASSY \n",
      "     Name: LINK ASSY, LOWER\n",
      "  Comment: New subfragment\n",
      "StageName: \n",
      "Exchange values: \n",
      "              Cached: 1\n",
      "            Observed: 0\n",
      "\n",
      "Balance flow: False\n",
      "Terminations: \n",
      "            Scenario  Termination\n",
      "                None: -#::       ( ** ref) -<- 82cc9 -<- -O    [   1 Item(s)] LINK ASSY, LOWER {74A400561-1005 ASSEMBLY}\n"
     ]
    }
   ],
   "source": [
    "efg.fg.frag('29042').show()"
   ]
  },
  {
   "cell_type": "code",
   "execution_count": 13,
   "metadata": {},
   "outputs": [
    {
     "name": "stdout",
     "output_type": "stream",
     "text": [
      "   -<--O   82cc9 [       1 Item(s)] LINK ASSY, LOWER\n",
      "    [   1 unit] LINK ASSY, LOWER\n",
      "       | -<----: 0f194 (       1 Item(s)) SCRAPER, LWR PLAN\n",
      "       | -<----: 3e6d9 (       1 Item(s)) LOCKING DEVICE\n",
      "       | -<----: 482b7 (       1 Item(s)) SPOOL\n",
      "       | -<----: 7a813 (       1 Item(s)) LOCKWIRE\n",
      "       | -<----: 979f5 (       1 Item(s)) NUT,PLAIN,HEX, JAM\n",
      "       | -<----: aaa84 (       1 Item(s)) PIN\n",
      "       | -<----: b9c9d (       1 Item(s)) CYCLINDER, LOWER\n",
      "       | -<----: d89e5 (       1 Item(s)) NUT,CASTLE\n",
      "       | -<----: da71c (       1 Item(s)) SPRING, LWR PLAN\n",
      "       | -<----: efba3 (       2 Item(s)) SEAT\n",
      "       | -<--O   35d8e (       1 Item(s)) ROD END ASSY\n",
      "       |  [   1 unit] ROD END ASSY\n",
      "       |     | -<----: a6c0c (       1 Item(s)) BEARING\n",
      "       |     | -<----: b5e29 (       1 Item(s)) ROD END\n",
      "       |     x \n",
      "       | -<--O   f0d84 (       1 Item(s)) CLEVIS ASSY\n",
      "       |  [   1 unit] CLEVIS ASSY\n",
      "       |     | -<----: 03f56 (       2 Item(s)) BUSHING\n",
      "       |     | -<----: 92202 (       1 Item(s)) CLEVIS\n",
      "       |     x \n",
      "       x \n"
     ]
    }
   ],
   "source": [
    "efg.fg.frag('82cc9').show_tree()"
   ]
  },
  {
   "cell_type": "code",
   "execution_count": 18,
   "metadata": {},
   "outputs": [],
   "source": [
    "dups = [k for k in efg.duplicate_subassemblies()]"
   ]
  },
  {
   "cell_type": "code",
   "execution_count": 35,
   "metadata": {},
   "outputs": [],
   "source": [
    "frag._origin = 'foreground.psm-hackathon'"
   ]
  },
  {
   "cell_type": "code",
   "execution_count": 36,
   "metadata": {},
   "outputs": [
    {
     "data": {
      "text/plain": [
       "{'_LcFragment__dbg_threshold': -1,\n",
       " '_exchange_values': {0: 2.0, 1: 0.0},\n",
       " '_conserved_quantity': None,\n",
       " '_private': False,\n",
       " '_background': False,\n",
       " '_is_balance': False,\n",
       " '_child_flows': {<lcatools.entities.fragments.LcFragment at 0x7faabdebc0f0>,\n",
       "  <lcatools.entities.fragments.LcFragment at 0x7faabdebc198>,\n",
       "  <lcatools.entities.fragments.LcFragment at 0x7faabdebc208>,\n",
       "  <lcatools.entities.fragments.LcFragment at 0x7faabdebc278>,\n",
       "  <lcatools.entities.fragments.LcFragment at 0x7faabdebc2e8>,\n",
       "  <lcatools.entities.fragments.LcFragment at 0x7faabdebc358>,\n",
       "  <lcatools.entities.fragments.LcFragment at 0x7faabdebc3c8>,\n",
       "  <lcatools.entities.fragments.LcFragment at 0x7faabdebc438>,\n",
       "  <lcatools.entities.fragments.LcFragment at 0x7faabdebc588>,\n",
       "  <lcatools.entities.fragments.LcFragment at 0x7faabdebc5f8>,\n",
       "  <lcatools.entities.fragments.LcFragment at 0x7faabdebc748>,\n",
       "  <lcatools.entities.fragments.LcFragment at 0x7faabdebc7b8>,\n",
       "  <lcatools.entities.fragments.LcFragment at 0x7faabdebc828>,\n",
       "  <lcatools.entities.fragments.LcFragment at 0x7faabdebc898>,\n",
       "  <lcatools.entities.fragments.LcFragment at 0x7faabdebc908>,\n",
       "  <lcatools.entities.fragments.LcFragment at 0x7faabdebc978>,\n",
       "  <lcatools.entities.fragments.LcFragment at 0x7faabdebc9e8>,\n",
       "  <lcatools.entities.fragments.LcFragment at 0x7faabdebca58>,\n",
       "  <lcatools.entities.fragments.LcFragment at 0x7faabdebcd68>,\n",
       "  <lcatools.entities.fragments.LcFragment at 0x7faabdebcdd8>,\n",
       "  <lcatools.entities.fragments.LcFragment at 0x7faabdebce48>,\n",
       "  <lcatools.entities.fragments.LcFragment at 0x7faabdebceb8>,\n",
       "  <lcatools.entities.fragments.LcFragment at 0x7faabdebcf28>},\n",
       " '_terminations': {None: <lcatools.terminations.FlowTermination at 0x7faabdf20080>},\n",
       " '_external_ref': '74A400800-1001 ASSEMBLY',\n",
       " '_uuid': '44679cf8-6bd4-4d8b-b189-2fd0b9723335',\n",
       " '_d': {'Name': '74A400800-1001 ASSEMBLY',\n",
       "  'Comment': '',\n",
       "  'StageName': '',\n",
       "  'Row': 2,\n",
       "  'Source': '74A400800-1001'},\n",
       " '_entity_type': 'fragment',\n",
       " '_reference_entity': None,\n",
       " '_origin': 'foreground.psm-hackathon',\n",
       " '_query_ref': None,\n",
       " 'flow': <lcatools.entities.flows.LcFlow at 0x7faabe4f6048>,\n",
       " 'direction': 'Input'}"
      ]
     },
     "execution_count": 36,
     "metadata": {},
     "output_type": "execute_result"
    }
   ],
   "source": [
    "frag.__dict__"
   ]
  },
  {
   "cell_type": "code",
   "execution_count": 23,
   "metadata": {},
   "outputs": [
    {
     "name": "stdout",
     "output_type": "stream",
     "text": [
      "Help on method reduce_duplicates in module antelope_epa.epa_psm_antelope:\n",
      "\n",
      "reduce_duplicates(master, *dupes, verify=True) method of antelope_epa.epa_psm_antelope.EpaF18Foreground instance\n",
      "    :param master:\n",
      "    :param dupes: 0 or more fragments that are duplicates\n",
      "    :param verify: [True] whether to test that the master and duplicate are isomorphic\n",
      "    :return:\n",
      "\n"
     ]
    }
   ],
   "source": [
    "help(efg.reduce_duplicates)"
   ]
  },
  {
   "cell_type": "code",
   "execution_count": 26,
   "metadata": {},
   "outputs": [],
   "source": [
    "for dup in dups:\n",
    "    dup = sorted(dup, key=lambda x: not x.is_reference)\n",
    "    efg.reduce_duplicates(*dup)"
   ]
  },
  {
   "cell_type": "code",
   "execution_count": 28,
   "metadata": {},
   "outputs": [
    {
     "data": {
      "text/plain": [
       "[]"
      ]
     },
     "execution_count": 28,
     "metadata": {},
     "output_type": "execute_result"
    }
   ],
   "source": [
    "[k for k in efg.duplicate_subassemblies()]"
   ]
  },
  {
   "cell_type": "code",
   "execution_count": 30,
   "metadata": {},
   "outputs": [
    {
     "name": "stdout",
     "output_type": "stream",
     "text": [
      "0 new flow entities added (1019 total)\n",
      "-2 new fragment entities added (1402 total)\n",
      "0 new quantity entities added (1 total)\n"
     ]
    }
   ],
   "source": [
    "efg.fg._archive.check_counter()"
   ]
  },
  {
   "cell_type": "code",
   "execution_count": 31,
   "metadata": {},
   "outputs": [],
   "source": [
    "efg.fg.save()"
   ]
  },
  {
   "cell_type": "code",
   "execution_count": 16,
   "metadata": {},
   "outputs": [
    {
     "data": {
      "text/plain": [
       "[('7M1190SN220-3', 'RETAINER'),\n",
       " ('7M1190ST220-3', 'RETAINER'),\n",
       " ('MS27595-236', 'RETAINER'),\n",
       " ('74B400819-201', 'RING, PISTON'),\n",
       " ('M8791/1-123', 'RETAINER'),\n",
       " ('M8791/1-116', 'RETAINER'),\n",
       " ('M83461/1-010', 'PACKING'),\n",
       " ('AS3125-04', 'PLUG'),\n",
       " ('AS3126-04', 'PIN'),\n",
       " ('7M1244C4', 'ADAPTER'),\n",
       " ('MS35266-60', 'SCREW'),\n",
       " ('M8791/1-118', 'RETAINER'),\n",
       " ('M83461/1-236', 'PACKING'),\n",
       " ('M83461/1-123', 'PACKING'),\n",
       " ('74A400808-2001', 'CYLINDER, RETRACT'),\n",
       " ('74B410058-105', 'SCRAPER'),\n",
       " ('74A400821-2003', 'ROD'),\n",
       " ('MS14103-12', 'BEARING'),\n",
       " ('74A400804-2001', 'TUBE, TRANSFER'),\n",
       " ('74B400819-203', 'RING, EXPANDER'),\n",
       " ('74A400809-2001', 'PLATE, LOCKING'),\n",
       " ('74A400806-2001', 'PISTON, RETRACT'),\n",
       " ('M83461/1-116', 'PACKING'),\n",
       " ('74A400807-2001', 'SPACER, PLATE'),\n",
       " ('MS20995NC32', 'LOCKWIRE'),\n",
       " ('MS14101-12', 'BEARING'),\n",
       " ('74A400811-2001', 'HEAD'),\n",
       " ('M83461/1-118', 'PACKING'),\n",
       " ('74A400803-2001', 'PLATE, IDENT'),\n",
       " ('7M1190R220-3', 'SEAL'),\n",
       " ('74A400800-1001', 'RETRACT ACTUATOR ASSY')]"
      ]
     },
     "execution_count": 16,
     "metadata": {},
     "output_type": "execute_result"
    }
   ],
   "source": [
    "[(k.flow.external_ref, k.flow.name) for k in frag.inventory()]"
   ]
  },
  {
   "cell_type": "markdown",
   "metadata": {},
   "source": [
    "## Start to look into annotating flows\n",
    "For every flow that's used as a cutoff (i.e. upstream / background part) we need to identify one or several appropriate providers for it from the various databases we're using.  This is going to be supremely labor intensive to do it manually-- since there are hundreds of parts-- but on the other hand this is the step that should get handled automatically by someone who has access to the proper parts database.  We should not plan to spend more than 4-6 hours on this part.\n",
    "\n",
    "First question: how many parts are there?"
   ]
  },
  {
   "cell_type": "code",
   "execution_count": 17,
   "metadata": {},
   "outputs": [
    {
     "data": {
      "text/plain": [
       "810"
      ]
     },
     "execution_count": 17,
     "metadata": {},
     "output_type": "execute_result"
    }
   ],
   "source": [
    "cutoffs = set()\n",
    "for flow in efg.fg.flows():\n",
    "    if len([k for k in efg.fg.fragments_with_flow(flow) if k.term.is_null]) > 0:\n",
    "        cutoffs.add(flow)\n",
    "len(cutoffs)"
   ]
  },
  {
   "cell_type": "markdown",
   "metadata": {},
   "source": [
    "Optimistically, let's say we spend 4 hours on this.  That is 200 parts per hour = about 4 parts per minute.  I mean, it takes about 15 seconds just to refresh the [parttarget](parttarget.com) page.\n",
    "\n",
    "Well, a lot of these are going to be relatively repeating.  Fortunately [parttarget](parttarget.com) responds to partial matches (`ST3M404` returns 24 results, all of which are \"Nut, Plain, Slotted, Hexagon\")  It's also dubious what value is added by getting authentic information for all this stuff.  The value is in \"realistic\" linking to background databases, but as far as LCIA is concerned I would need accurate mass and price information and that's not happening.\n",
    "\n",
    "Moreover, there are several parts (mainly exterior subassemblies, like 74A400533-2001) that do not appear on parttarget.\n",
    "\n",
    "I think for this exercise I will generate random mass and price estimates, but that I will select terminations based on the actual part.  This means the burden of the effort will be in selecting suitable processes from the four background databases, which is a task that has an early investment of effort but will likely result in a small number of widely reused terminal datasets.\n",
    "\n",
    "What we will be left at at the end is a model whose full parameterization is serialized in the foreground structure: in flow metadata, characterization data, and fragment terminations.\n",
    "\n",
    "The proximate step is to list out all the flows and lookup/makeup their material and type, so that I can semi-intelligently terminate them to background datasets."
   ]
  },
  {
   "cell_type": "code",
   "execution_count": 18,
   "metadata": {},
   "outputs": [],
   "source": [
    "from lcatools.entities.xlsx_editor import write_to_excel"
   ]
  },
  {
   "cell_type": "code",
   "execution_count": 19,
   "metadata": {},
   "outputs": [
    {
     "name": "stdout",
     "output_type": "stream",
     "text": [
      "Writing entities to sheet flow\n",
      "Writing entities to sheet quantity\n",
      "Writing 811 entities to PSM-hackathon-leaf-flows.xlsx\n"
     ]
    }
   ],
   "source": [
    "write_to_excel('PSM-hackathon-leaf-flows', list(cutoffs) + list(efg.fg.quantities()), overwrite=True)"
   ]
  }
 ],
 "metadata": {
  "kernelspec": {
   "display_name": "lca-tools",
   "language": "python",
   "name": "lca-tools"
  },
  "language_info": {
   "codemirror_mode": {
    "name": "ipython",
    "version": 3
   },
   "file_extension": ".py",
   "mimetype": "text/x-python",
   "name": "python",
   "nbconvert_exporter": "python",
   "pygments_lexer": "ipython3",
   "version": "3.7.3"
  }
 },
 "nbformat": 4,
 "nbformat_minor": 2
}
