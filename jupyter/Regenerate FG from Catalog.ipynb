{
 "cells": [
  {
   "cell_type": "code",
   "execution_count": 1,
   "metadata": {},
   "outputs": [],
   "source": [
    "import os\n",
    "import sys\n",
    "WORKING_DIR = '/data/GitHub/2019/EPA_PSM_antelope'\n",
    "sys.path.append(WORKING_DIR)\n",
    "CAT_DIR = os.path.join(WORKING_DIR, 'catalog')"
   ]
  },
  {
   "cell_type": "code",
   "execution_count": 2,
   "metadata": {},
   "outputs": [],
   "source": [
    "from antelope_catalog import LcCatalog"
   ]
  },
  {
   "cell_type": "code",
   "execution_count": 3,
   "metadata": {},
   "outputs": [
    {
     "name": "stdout",
     "output_type": "stream",
     "text": [
      "Loading JSON data from /data/GitHub/2019/EPA_PSM_antelope/catalog/reference-quantities.json:\n",
      "local.qdb: /data/GitHub/2019/EPA_PSM_antelope/catalog/reference-quantities.json\n",
      "local.qdb: /data/GitHub/lca-tools/lcatools/qdb/data/elcd_reference_quantities.json\n",
      "25 new quantity entities added (25 total)\n",
      "6 new flow entities added (6 total)\n"
     ]
    }
   ],
   "source": [
    "cat = LcCatalog(CAT_DIR)"
   ]
  },
  {
   "cell_type": "code",
   "execution_count": 4,
   "metadata": {},
   "outputs": [
    {
     "name": "stdout",
     "output_type": "stream",
     "text": [
      "local.data.GitHub.2019.EPA_PSM_antelope.catalog.psm-hackathon: /data/GitHub/2019/EPA_PSM_antelope/catalog/psm-hackathon\n",
      "Loading /data/GitHub/2019/EPA_PSM_antelope/catalog/psm-hackathon\n",
      "local.data.GitHub.2019.EPA_PSM_antelope.catalog.psm-hackathon: /data/GitHub/2019/EPA_PSM_antelope/catalog/psm-hackathon/entities.json\n",
      "1 new quantity entities added (1 total)\n",
      "1019 new flow entities added (1019 total)\n",
      "0 new fragment entities added (0 total)\n",
      "1402 new fragment entities added (1402 total)\n"
     ]
    }
   ],
   "source": [
    "fg = cat.create_foreground('psm-hackathon')"
   ]
  },
  {
   "cell_type": "code",
   "execution_count": 5,
   "metadata": {},
   "outputs": [
    {
     "data": {
      "text/plain": [
       "['( ** ref) -<- 6e249 -<- -O    [   1 Item(s)] 74A400500-1017 ASSEMBLY {74A400500-1017 ASSEMBLY}',\n",
       " '( ** ref) -<- d7b8d -<- -O    [   1 Item(s)] 74A400500-1018 ASSEMBLY {74A400500-1018 ASSEMBLY}',\n",
       " '( ** ref) -<- e1212 -<- -O    [   1 Item(s)] 74A400700-1013 ASSEMBLY {74A400700-1013 ASSEMBLY}',\n",
       " '( ** ref) -<- bb47d -<- -O    [   1 Item(s)] 74A400700-1014 ASSEMBLY {74A400700-1014 ASSEMBLY}',\n",
       " '( ** ref) -<- aeb80 -<- -O    [   2 Item(s)] 74A400800-1001 ASSEMBLY {74A400800-1001 ASSEMBLY}',\n",
       " '( ** ref) -<- 68e78 -<- -O    [   1 Item(s)] 74A430500-1017 ASSEMBLY {74A430500-1017 ASSEMBLY}',\n",
       " '( ** ref) -<- 7cc66 -<- -O    [   1 Item(s)] 74A430700-1009 ASSEMBLY {74A430700-1009 ASSEMBLY}',\n",
       " '( ** ref) -<- 85f15 -<- -O    [   1 Item(s)] 74A430800-1021 ASSEMBLY {74A430800-1021 ASSEMBLY}',\n",
       " '( ** ref) -<- 184b2 -<- -O    [   1 Item(s)] ADAPTER ASSY {74A400736-1001 ASSEMBLY}',\n",
       " '( ** ref) -<- 7fa2f -<- -O    [   1 Item(s)] AXLE ASSY {74A400940-1003 ASSEMBLY}',\n",
       " '( ** ref) -<- 1e60a -<- -O    [   1 Item(s)] BEARING {74B400977-101 ASSEMBLY}',\n",
       " '( ** ref) -<- f95c6 -<- -O    [   1 Item(s)] BEARING,PLAIN {74B400914-105 ASSEMBLY}',\n",
       " '( ** ref) -<- 02d33 -<- -O    [   1 Item(s)] BELLCRANK ASSY-UPR {74A400701-1005 ASSEMBLY}',\n",
       " '( ** ref) -<- b9aaf -<- -O    [   1 Item(s)] BOLT ASSY {74A400517-1003 ASSEMBLY}',\n",
       " '( ** ref) -<- a8391 -<- -O    [   1 Item(s)] BOLT, ASSY, RETNR {74A400912-1003 ASSEMBLY}',\n",
       " '( ** ref) -<- f8b96 -<- -O    [   1 Item(s)] CONN LINK ASSY {74A400780-1003 ASSEMBLY}',\n",
       " '( ** ref) -<- f53d6 -<- -O    [   1 Item(s)] LINK ASSY, LOWER {74A400561-1005 ASSEMBLY}',\n",
       " '( ** ref) -<- c8943 -<- -O    [   1 Item(s)] LINK ASSY, LWR {74A400750-1005 ASSEMBLY}',\n",
       " '( ** ref) -<- cab00 -<- -O    [   1 Item(s)] LINK ASSY, UPPER {74A400574-1001 ASSEMBLY}',\n",
       " '( ** ref) -<- 8debe -<- -O    [   1 Item(s)] RING ASSY {74A400711-1001 ASSEMBLY}',\n",
       " '( ** ref) -<- e697a -<- -O    [   1 Item(s)] RING, TIEDOWN {74A410518-2005A ASSEMBLY}',\n",
       " '( ** ref) -<- 1e39a -<- -O    [   1 Item(s)] ROD ASSY, SPR {74A400939-1001 ASSEMBLY}',\n",
       " '( ** ref) -<- a933f -<- -O    [   1 Item(s)] SCREW, CAP {74B400516-2001 ASSEMBLY}',\n",
       " '( ** ref) -<- f898f -<- -O    [   1 Item(s)] SHOCK ABS ASSY {74A400600-1019 ASSEMBLY}',\n",
       " '( ** ref) -<- 8681a -<- -O    [   1 Item(s)] SIDE BR ASSY,LWR {74A400740-1001 ASSEMBLY}',\n",
       " '( ** ref) -<- 3a1e5 -<- -O    [   1 Item(s)] SIDE BR ASSY,UPR {74A400730-1003 ASSEMBLY}',\n",
       " '( ** ref) -<- eeb00 -<- -O    [   1 Item(s)] UNIV ASSY {74A400734-1003 ASSEMBLY}']"
      ]
     },
     "execution_count": 5,
     "metadata": {},
     "output_type": "execute_result"
    }
   ],
   "source": [
    "[str(k) for k in sorted(fg.fragments(), key=lambda x:x['name'])]"
   ]
  },
  {
   "cell_type": "code",
   "execution_count": 6,
   "metadata": {},
   "outputs": [],
   "source": [
    "frag = fg.frag('aeb80')"
   ]
  },
  {
   "cell_type": "code",
   "execution_count": 7,
   "metadata": {},
   "outputs": [
    {
     "name": "stdout",
     "output_type": "stream",
     "text": [
      "( ** ref) -<- aeb80 -<- -O    [   2 Item(s)] 74A400800-1001 ASSEMBLY {74A400800-1001 ASSEMBLY}\n",
      "Fragment Entity (ref 74A400800-1001 ASSEMBLY)\n",
      "origin: local.data.GitHub.2019.EPA_PSM_antelope.catalog.psm-hackathon\n",
      "reference: None\n",
      "     Name: 74A400800-1001 ASSEMBLY\n",
      "  Comment: \n",
      "      Row: 2\n",
      "StageName: \n",
      "   Source: 74A400800-1001\n",
      "Exchange values: \n",
      "              Cached: 2\n",
      "            Observed: 2\n",
      "\n",
      "Balance flow: False\n",
      "Terminations: \n",
      "            Scenario  Termination\n",
      "                None: -O   Foreground\n"
     ]
    }
   ],
   "source": [
    "frag.show()"
   ]
  },
  {
   "cell_type": "code",
   "execution_count": 8,
   "metadata": {},
   "outputs": [
    {
     "name": "stdout",
     "output_type": "stream",
     "text": [
      "   -<--O   aeb80 [       2 Item(s)] 74A400800-1001 ASSEMBLY\n",
      "    [   1 unit] 74A400800-1001 ASSEMBLY\n",
      "       | -<----: 10d33 (       2 Item(s)) RETAINER\n",
      "       | -<----: 1b060 (       2 Item(s)) RETAINER\n",
      "       | -<----: 2bbda (       1 Item(s)) TUBE, TRANSFER\n",
      "       | -<----: 2c9d5 (       1 Item(s)) CYLINDER, RETRACT\n",
      "       | -<----: 402c0 (       1 Item(s)) SPACER, PLATE\n",
      "       | -<----: 4a421 (       1 Item(s)) SEAL\n",
      "       | -<----: 6360e (       1 Item(s)) SCRAPER\n",
      "       | -<----: 6e349 (       1 Item(s)) PACKING\n",
      "       | -<----: 8a050 (       1 Item(s)) PACKING\n",
      "       | -<----: 8dcba (       1 Item(s)) PACKING\n",
      "       | -<----: 8e4f3 (       2 Item(s)) SCREW\n",
      "       | -<----: 97e11 (       2 Item(s)) RETAINER\n",
      "       | -<----: 9d904 (       1 Item(s)) PISTON, RETRACT\n",
      "       | -<----: 9e657 (       1 Item(s)) PLATE, IDENT\n",
      "       | -<----: 9f7b5 (       2 Item(s)) RETAINER\n",
      "       | -<----: bd29b (       1 Item(s)) LOCKWIRE\n",
      "       | -<----: cf677 (       1 Item(s)) PACKING\n",
      "       | -<----: f1157 (       1 Item(s)) PLATE, LOCKING\n",
      "       | -<----: f943c (       2 Item(s)) RETAINER\n",
      "       | -<----: ff592 (       2 Item(s)) RETAINER\n",
      "       | -<--O   844e3 (       1 Item(s)) RING, PISTON\n",
      "       |  [   1 unit] RING, PISTON\n",
      "       |     | -<----: 34756 (       1 Item(s)) RING, EXPANDER\n",
      "       |     | -<----: 5f88c (       2 Item(s)) RING, PISTON\n",
      "       |     x \n",
      "       | -<--O   86e23 (       1 Item(s)) HEAD ASSEMBLY\n",
      "       |  [   1 unit] HEAD ASSEMBLY\n",
      "       |     | -<----: 351c5 (       2 Item(s)) PIN\n",
      "       |     | -<----: 5ee59 (       2 Item(s)) PACKING\n",
      "       |     | -<----: cf68a (       2 Item(s)) ADAPTER\n",
      "       |     | -<----: e1656 (       1 Item(s)) BEARING\n",
      "       |     | -<----: ee567 (       1 Item(s)) HEAD\n",
      "       |     | -<----: f8cfd (       2 Item(s)) PLUG\n",
      "       |     x \n",
      "       | -<--O   9aa22 (       1 Item(s)) ROD ASSEMBLY\n",
      "       |  [   1 unit] ROD ASSEMBLY\n",
      "       |     | -<----: a8d44 (       1 Item(s)) BEARING\n",
      "       |     | -<----: f79be (       1 Item(s)) ROD\n",
      "       |     x \n",
      "       x \n"
     ]
    }
   ],
   "source": [
    "frag.show_tree()"
   ]
  },
  {
   "cell_type": "code",
   "execution_count": 9,
   "metadata": {},
   "outputs": [],
   "source": [
    "from antelope_epa.epa_psm_antelope import EpaF18Foreground"
   ]
  },
  {
   "cell_type": "code",
   "execution_count": 10,
   "metadata": {},
   "outputs": [],
   "source": [
    "efg = EpaF18Foreground(fg)"
   ]
  },
  {
   "cell_type": "code",
   "execution_count": 11,
   "metadata": {
    "scrolled": false
   },
   "outputs": [
    {
     "name": "stdout",
     "output_type": "stream",
     "text": [
      "   -<--O   d7b8d [       1 Item(s)] 74A400500-1018 ASSEMBLY\n",
      "    [   1 unit] 74A400500-1018 ASSEMBLY\n",
      "       | -<----: 00740 (       1 Item(s)) PIN, PIVOT\n",
      "       | -<----: 042bd (       2 Item(s)) WASHER, FLAT\n",
      "       | -<----: 11a33 (       1 Item(s)) ADAPTER\n",
      "       | -<----: 1b582 (       1 Item(s)) PIN\n",
      "       | -<----: 4616f (       2 Item(s)) WASHER, FLAT\n",
      "       | -<----: 530de (       1 Item(s)) PLATE\n",
      "       | -<----: 5dfcb (       1 Item(s)) WASHER, KEY\n",
      "       | -<----: 5ee36 (       2 Item(s)) WASHER, KEY\n",
      "       | -<----: 69d27 (       1 Item(s)) BOLT, SHOULDER\n",
      "       | -<----: 76f28 (       2 Item(s)) NUT, PLAIN\n",
      "       | -<----: 7b819 (       1 Item(s)) BOLT, SHOULDER\n",
      "       | -<----: 7d623 (       1 Item(s)) WASHER, TAB LOCK\n",
      "       | -<----: 7d74c (       1 Item(s)) PLATE\n",
      "       | -<----: 7f4c8 (       1 Item(s)) NUT\n",
      "       | -<----: 87581 (       1 Item(s)) STUD\n",
      "       | -<----: 8963f (       2 Item(s)) WASHER, FLAT\n",
      "       | -<----: 97801 (       1 Item(s)) BOLT\n",
      "       | -<----: aee09 (       1 Item(s)) NUT\n",
      "       | -<----: b5fe0 (       1 Item(s)) SPACER, SLEEVE\n",
      "       | -<----: c313d (       1 Item(s)) BOLT, SHOULDER\n",
      "       | -<----: d23cf (       1 Item(s)) BOLT-RETAINER\n",
      "       | -<----: d42b3 (       1 Item(s)) NUT, PLAIN, HEX\n",
      "       | -<----: d9ef4 (       2 Item(s)) WASHER,FLAT\n",
      "       | -<----: de35c (       1 Item(s)) PIN, COTTER\n",
      "       | -<----: e797a (       1 Item(s)) WASHER\n",
      "       | -<----: f150a (       1 Item(s)) LOCKWIRE\n",
      "       | -<----: f57e4 (       1 Item(s)) PLATE, IDENT\n",
      "       | -<----: fce9b (       1 Item(s)) NUT,PLAIN,HEXAGON\n",
      "       | -<--O   03dcf (       1 Item(s)) PLANING MECH ASSY\n",
      "       |  [   1 unit] PLANING MECH ASSY\n",
      "       |     | -<----: 270f0 (       1 Item(s)) NUT\n",
      "       |     | -<----: 2ca4e (       1 Item(s)) PIN\n",
      "       |     | -<----: 77315 (       1 Item(s)) NUT\n",
      "       |     | -<----: 7bde2 (       1 Item(s)) BOLT\n",
      "       |     | -<----: 8f439 (       1 Item(s)) PIN, COTTER\n",
      "       |     | -<----: c34e3 (       1 Item(s)) LOCKWIRE\n",
      "       |     | -<----: e3fee (       1 Item(s)) WASHER, FLAT\n",
      "       |     | -<----: ec40e (       1 Item(s)) WASHER\n",
      "       |     | -<----: ecfb1 (       1 Item(s)) BOLT\n",
      "       |     | -<--#:: 7db7a (       1 Item(s)) LINK ASSY, UPPER\n",
      "       |     | -<--O   bcbfd (       1 Item(s)) BELLCRANK ASSY\n",
      "       |     |  [   1 unit] BELLCRANK ASSY\n",
      "       |     |     | -<----: 2e3fe (       2 Item(s)) BUSHING\n",
      "       |     |     | -<----: d11d3 (       2 Item(s)) BUSHING, BELLCRANK\n",
      "       |     |     | -<----: f6a05 (       2 Item(s)) BUSHING,PIVOT,PTFE\n",
      "       |     |     | -<--O   fe02d (       1 Item(s)) BELL CRANK\n",
      "       |     |     |  [   1 unit] BELL CRANK\n",
      "       |     |     |     | -<----: 0d916 (       1 Item(s)) BELLCRANK, FORGING\n",
      "       |     |     |     x \n",
      "       |     |     x \n",
      "       |     | -<--#:: c3ce1 (       1 Item(s)) LINK ASSY, LOWER\n",
      "       |     x \n",
      "       | -<--O   1d678 (       1 Item(s)) LEVER/AXLE ASSY\n",
      "       |  [   1 unit] LEVER/AXLE ASSY\n",
      "       |     | -<----: 03d52 (       3 Item(s)) WASHER, KEY, LWR\n",
      "       |     | -<----: 04be1 (       1 Item(s)) PIN\n",
      "       |     | -<----: 0622d (       1 Item(s)) WASHER, KEY\n",
      "       |     | -<----: 0c000 (       1 Item(s)) NUT, SELF LOCKING\n",
      "       |     | -<----: 0c5e4 (       1 Item(s)) WASHER, LAMINATED\n",
      "       |     | -<----: 0ce22 (       2 Item(s)) WASHER,FLAT\n",
      "       |     | -<----: 0f89a (       1 Item(s)) NUT, PLAIN\n",
      "       |     | -<----: 1035b (       1 Item(s)) SPACER\n",
      "       |     | -<----: 1bdb2 (       1 Item(s)) LINK, PLAIN\n",
      "       |     | -<----: 1f783 (       1 Item(s)) WASHER, FLAT\n",
      "       |     | -<----: 28812 (       1 Item(s)) PIN, COTTER\n",
      "       |     | -<----: 308d6 (       1 Item(s)) BOLT, SHOULDER\n",
      "       |     | -<----: 40568 (       1 Item(s)) NUT, DRILLED JAM\n",
      "       |     | -<----: 5fcd3 (       1 Item(s)) BUSHING, CLAMP-UP\n",
      "       |     | -<----: 6256c (       1 Item(s)) LOCK - AXLE CRANK\n",
      "       |     | -<----: 67f64 (       2 Item(s)) PIN\n",
      "       |     | -<----: 72fee (       2 Item(s)) WASHER, FLAT\n",
      "       |     | -<----: 84dbc (       1 Item(s)) WASHER\n",
      "       |     | -<----: 85166 (       1 Item(s)) WASHER, CSK\n",
      "       |     | -<----: 86c21 (       1 Item(s)) NUT, PIN ASSY\n",
      "       |     | -<----: 87021 (       1 Item(s)) NUT, AXLE\n",
      "       |     | -<----: 87ff9 (       2 Item(s)) NUT, DRILLED JAM\n",
      "       |     | -<----: 93089 (       1 Item(s)) BOLT, HEX HEAD\n",
      "       |     | -<----: 95b28 (       1 Item(s)) NUT\n",
      "       |     | -<----: 97971 (       1 Item(s)) PACKING\n",
      "       |     | -<----: 9b951 (       2 Item(s)) NUT\n",
      "       |     | -<----: a7199 (       1 Item(s)) ROLLER, UPLOCK\n",
      "       |     | -<----: a9d5e (       2 Item(s)) BOLT, SHOULDER\n",
      "       |     | -<----: abc0b (       1 Item(s)) BOLT, SHOULDER\n",
      "       |     | -<----: b5925 (       1 Item(s)) NUT, PLAIN, RND\n",
      "       |     | -<----: b91ac (       1 Item(s)) PIN\n",
      "       |     | -<----: bc8a3 (       1 Item(s)) SEAT, SPRING\n",
      "       |     | -<----: bd921 (       1 Item(s)) PACKING\n",
      "       |     | -<----: bfd1f (       1 Item(s)) LINK,OVERCENTER\n",
      "       |     | -<----: c1fbb (       1 Item(s)) LOCKWIRE\n",
      "       |     | -<----: c2403 (       2 Item(s)) BOLT, HEX HEAD\n",
      "       |     | -<----: ca466 (       1 Item(s)) SPRING, INNER\n",
      "       |     | -<----: d0b66 (       1 Item(s)) PACKING\n",
      "       |     | -<----: e6667 (       2 Item(s)) BOLT, SHOULDER\n",
      "       |     | -<----: ec3f8 (       1 Item(s)) PLUG, PROTECTIVE\n",
      "       |     | -<----: ec4e5 (       1 Item(s)) WASHER, FLAT\n",
      "       |     | -<----: f190e (       1 Item(s)) TARGET,PROX SW\n",
      "       |     | -<----: f1dad (       1 Item(s)) BOLT, HEX HEAD\n",
      "       |     | -<----: f509c (       1 Item(s)) SPRING, OUTER\n",
      "       |     | -<----: f8b54 (       1 Item(s)) WASHER, FLAT\n",
      "       |     | -<--#:: 09789 (       1 Item(s)) BOLT, ASSY, RETNR\n",
      "       |     | -<--#:: 154de (       1 Item(s)) AXLE ASSY\n",
      "       |     | -<--O   1e673 (       1 Item(s)) BRKT ASSY, PROX\n",
      "       |     |  [   1 unit] BRKT ASSY, PROX\n",
      "       |     |     | -<----: 17288 (       1 Item(s)) BUSHING\n",
      "       |     |     | -<--O   e6163 (       1 Item(s)) BRACKET\n",
      "       |     |     |  [   1 unit] BRACKET\n",
      "       |     |     |     | -<----: 6d514 (       1 Item(s)) BRACKET, CASTING\n",
      "       |     |     |     x \n",
      "       |     |     x \n",
      "       |     | -<--O   297b1 (       1 Item(s)) BRKT ASSY, SPR\n",
      "       |     |  [   1 unit] BRKT ASSY, SPR\n",
      "       |     |     | -<----: 07415 (       1 Item(s)) BUSHING\n",
      "       |     |     | -<----: 0c02a (       1 Item(s)) BUSHING\n",
      "       |     |     | -<----: a9d5e (       1 Item(s)) BRACKET\n",
      "       |     |     x \n",
      "       |     | -<--O   3559a (       1 Item(s)) CRANK ASSY\n",
      "       |     |  [   1 unit] CRANK ASSY\n",
      "       |     |     | -<----: e2dd4 (       1 Item(s)) FITTING\n",
      "       |     |     | -<--#:: 6d9a7 (       1 Item(s)) BEARING,PLAIN\n",
      "       |     |     | -<--O   86a7f (       1 Item(s)) CRANK,AXLE\n",
      "       |     |     |  [   1 unit] CRANK,AXLE\n",
      "       |     |     |     | -<--O   db78d (       1 Item(s)) CRANK,AXLE\n",
      "       |     |     |     |  [   1 unit] CRANK,AXLE\n",
      "       |     |     |     |     | -<----: 5ce7d (       1 Item(s)) CRANK, AXLE, FORGING\n",
      "       |     |     |     |     x \n",
      "       |     |     |     x \n",
      "       |     |     x \n",
      "       |     | -<--O   73ff3 (       1 Item(s)) LINK ASSY, UPR\n",
      "       |     |  [   1 unit] LINK ASSY, UPR\n",
      "       |     |     | -<----: 288a0 (       1 Item(s)) LINK\n",
      "       |     |     | -<----: 39574 (       2 Item(s)) BUSHING\n",
      "       |     |     | -<----: 4f4b3 (       2 Item(s)) BUSHING\n",
      "       |     |     | -<----: f47a8 (       2 Item(s)) BUSHING\n",
      "       |     |     x \n",
      "       |     | -<--O   74745 (       1 Item(s)) LEVER ASSY\n",
      "       |     |  [   1 unit] LEVER ASSY\n",
      "       |     |     | -<----: 09520 (       5 Item(s)) FITTING\n",
      "       |     |     | -<----: 2e238 (       1 Item(s)) BUSHING\n",
      "       |     |     | -<----: 5d269 (       2 Item(s)) BUSHING\n",
      "       |     |     | -<----: 65ab2 (       2 Item(s)) BUSHING\n",
      "       |     |     | -<----: 65f97 (       2 Item(s)) BUSHING\n",
      "       |     |     | -<----: 6dec7 (       1 Item(s)) BUSHING\n",
      "       |     |     | -<----: 7ccc5 (       1 Item(s)) BUSHING\n",
      "       |     |     | -<----: 82e13 (       2 Item(s)) BUSHING\n",
      "       |     |     | -<----: 91fab (       1 Item(s)) BUSHING\n",
      "       |     |     | -<--#:: 4986a (       1 Item(s)) BEARING\n",
      "       |     |     | -<--O   d4c02 (       1 Item(s)) LEVER\n",
      "       |     |     |  [   1 unit] LEVER\n",
      "       |     |     |     | -<--O   8d64e (       1 Item(s)) LEVER\n",
      "       |     |     |     |  [   1 unit] LEVER\n",
      "       |     |     |     |     | -<----: 47cbf (       1 Item(s)) LEVER, FORGING\n",
      "       |     |     |     |     x \n",
      "       |     |     |     x \n",
      "       |     |     x \n",
      "       |     | -<--O   7fcb5 (       1 Item(s)) YOKE ASSY\n",
      "       |     |  [   1 unit] YOKE ASSY\n",
      "       |     |     | -<----: 2c434 (       2 Item(s)) FITTING\n",
      "       |     |     | -<----: 48bd1 (       2 Item(s)) BUSHING\n",
      "       |     |     | -<----: 73e5f (       1 Item(s)) YOKE\n",
      "       |     |     | -<----: b8972 (       2 Item(s)) BUSHING\n",
      "       |     |     x \n",
      "       |     | -<--#:: 8a90e (       1 Item(s)) ROD ASSY, SPR\n",
      "       |     | -<--O   91a33 (       1 Item(s)) LINK ASSY, LWR\n",
      "       |     |  [   1 unit] LINK ASSY, LWR\n",
      "       |     |     | -<----: 6b28e (       2 Item(s)) BUSHING\n",
      "       |     |     | -<----: b9aa8 (       2 Item(s)) BUSHING\n",
      "       |     |     | -<--O   1be68 (       1 Item(s)) LINK\n",
      "       |     |     |  [   1 unit] LINK\n",
      "       |     |     |     | -<----: 032bd (       1 Item(s)) LINK\n",
      "       |     |     |     x \n",
      "       |     |     x \n",
      "       |     | -<--O   a41c2 (       1 Item(s)) PIN ASSY\n",
      "       |     |  [   1 unit] PIN ASSY\n",
      "       |     |     | -<----: 4f4b9 (       1 Item(s)) BEARING\n",
      "       |     |     | -<--O   125b8 (       1 Item(s)) PIN\n",
      "       |     |     |  [   1 unit] PIN\n",
      "       |     |     |     | -<----: 09aa9 (       1 Item(s)) PIN\n",
      "       |     |     |     x \n",
      "       |     |     x \n",
      "       |     x \n",
      "       | -<--O   45fc3 (       1 Item(s)) SUPPORT ASSY\n",
      "       |  [   1 unit] SUPPORT ASSY\n",
      "       |     | -<----: 78f7c (       1 Item(s)) TARGET\n",
      "       |     | -<----: 7c940 (       3 Item(s)) INSERT\n",
      "       |     | -<----: a0dc6 (       2 Item(s)) RIVET\n",
      "       |     | -<----: a6424 (       1 Item(s)) INSERT\n",
      "       |     | -<----: c4778 (       1 Item(s)) SPACER\n",
      "       |     | -<----: e8e86 (       1 Item(s)) SETSCREW\n",
      "       |     | -<--O   27cc0 (       1 Item(s)) SUPPORT\n",
      "       |     |  [   1 unit] SUPPORT\n",
      "       |     |     | -<----: 112d4 (       1 Item(s)) SUPPORT, CASTING\n",
      "       |     |     x \n",
      "       |     x \n",
      "       | -<--O   48424 (       1 Item(s)) TRUNNION ASSY\n",
      "       |  [   1 unit] TRUNNION ASSY\n",
      "       |     | -<----: 063f6 (       1 Item(s)) BOLT,SHOULDER\n",
      "       |     | -<----: 0bf39 (       2 Item(s)) WASHER\n",
      "       |     | -<----: 0cd43 (       2 Item(s)) SPRING\n",
      "       |     | -<----: 1ea81 (       2 Item(s)) BOLT, SHACKLE\n",
      "       |     | -<----: 2db44 (       2 Item(s)) BRACKET,SHACKLE\n",
      "       |     | -<----: 33a30 (       3 Item(s)) NUT\n",
      "       |     | -<----: 3e0db (       1 Item(s)) LOCK\n",
      "       |     | -<----: 4b316 (       1 Item(s)) PLUG, THREADED\n",
      "       |     | -<----: 572d6 (       1 Item(s)) WASHER, FLAT\n",
      "       |     | -<----: 5b824 (       3 Item(s)) PIN\n",
      "       |     | -<----: 7454f (       1 Item(s)) WASHER, KEY\n",
      "       |     | -<----: 7bbd9 (       1 Item(s)) MACHINE SCREW\n",
      "       |     | -<----: 9022a (       1 Item(s)) BRACKET\n",
      "       |     | -<----: a7a39 (       3 Item(s)) WASHER\n",
      "       |     | -<----: becde (       1 Item(s)) NUT\n",
      "       |     | -<----: c0483 (       1 Item(s)) BRACKET\n",
      "       |     | -<----: c5a69 (       1 Item(s)) WASHER\n",
      "       |     | -<----: c6d72 (       1 Item(s)) COTTER PIN\n",
      "       |     | -<----: dabd8 (       1 Item(s)) PIN, TRUNNION\n",
      "       |     | -<----: e3e6e (       1 Item(s)) BOLT, SHOULDER\n",
      "       |     | -<--O   501ba (       1 Item(s)) TRUNNION ASSY\n",
      "       |     |  [   1 unit] TRUNNION ASSY\n",
      "       |     |     | -<----: 18a34 (       1 Item(s)) BUSHING\n",
      "       |     |     | -<----: 2df88 (       3 Item(s)) FITTING\n",
      "       |     |     | -<----: 5847f (       1 Item(s)) BUSHING\n",
      "       |     |     | -<----: 6502b (       1 Item(s)) BUSHING\n",
      "       |     |     | -<----: 67b17 (       1 Item(s)) BUSHING\n",
      "       |     |     | -<----: 8a5d9 (       1 Item(s)) BUSHING\n",
      "       |     |     | -<----: b2f3e (       2 Item(s)) BUSHING\n",
      "       |     |     | -<----: c7e82 (       4 Item(s)) BUSHING\n",
      "       |     |     | -<----: ca8c7 (       2 Item(s)) BUSHING\n",
      "       |     |     | -<----: d3e7e (       2 Item(s)) BUSHING\n",
      "       |     |     | -<--O   9c01c (       1 Item(s)) TRUNNION\n",
      "       |     |     |  [   1 unit] TRUNNION\n",
      "       |     |     |     | -<--O   0e4c0 (       1 Item(s)) TRUNNION\n",
      "       |     |     |     |  [   1 unit] TRUNNION\n",
      "       |     |     |     |     | -<----: f1fbc (       1 Item(s)) TRUNNION, FORGING\n",
      "       |     |     |     |     x \n",
      "       |     |     |     x \n",
      "       |     |     x \n",
      "       |     | -<--#:: b77f7 (       2 Item(s)) RING, TIEDOWN\n",
      "       |     x \n",
      "       | -<--O   b3009 (       1 Item(s)) SUPPORT ASSY\n",
      "       |  [   1 unit] SUPPORT ASSY\n",
      "       |     | -<----: 13bbe (       4 Item(s)) INSERT\n",
      "       |     | -<--O   77248 (       1 Item(s)) SUPPORT\n",
      "       |     |  [   1 unit] SUPPORT\n",
      "       |     |     | -<----: eacbb (       1 Item(s)) SUPPORT, CASTING\n",
      "       |     |     x \n",
      "       |     x \n",
      "       | -<--#:: b44f4 (       1 Item(s)) SHOCK ABS ASSY\n",
      "       | -<--#:: c5d62 (       2 Item(s)) SCREW, CAP\n",
      "       x \n"
     ]
    }
   ],
   "source": [
    "efg.fg['74A400500-1018 ASSEMBLY'].show_tree()"
   ]
  },
  {
   "cell_type": "code",
   "execution_count": 12,
   "metadata": {},
   "outputs": [
    {
     "name": "stdout",
     "output_type": "stream",
     "text": [
      "(03dcf02) -<- c3ce1 -<- -#::  [   1 unit] LINK ASSY, LOWER \n",
      "Fragment Entity (ref c3ce1340-fa7f-4f96-94e1-cb496fa319e4)\n",
      "origin: local.data.GitHub.2019.EPA_PSM_antelope.catalog.psm-hackathon\n",
      "reference: (d7b8dc7) -<- 03dcf -<- -O    [   1 unit] PLANING MECH ASSY \n",
      "     Name: LINK ASSY, LOWER\n",
      "  Comment: New subfragment\n",
      "StageName: \n",
      "Exchange values: \n",
      "              Cached: 1\n",
      "            Observed: 0\n",
      "\n",
      "Balance flow: False\n",
      "Terminations: \n",
      "            Scenario  Termination\n",
      "                None: -#::       ( ** ref) -<- f53d6 -<- -O    [   1 Item(s)] LINK ASSY, LOWER {74A400561-1005 ASSEMBLY}\n"
     ]
    }
   ],
   "source": [
    "efg.fg.frag('c3ce1').show()"
   ]
  },
  {
   "cell_type": "code",
   "execution_count": 13,
   "metadata": {},
   "outputs": [
    {
     "name": "stdout",
     "output_type": "stream",
     "text": [
      "   -<--O   f53d6 [       1 Item(s)] LINK ASSY, LOWER\n",
      "    [   1 unit] LINK ASSY, LOWER\n",
      "       | -<----: 141ed (       1 Item(s)) SCRAPER, LWR PLAN\n",
      "       | -<----: 37bf2 (       1 Item(s)) LOCKING DEVICE\n",
      "       | -<----: 3aec8 (       1 Item(s)) NUT,CASTLE\n",
      "       | -<----: 4c49b (       2 Item(s)) SEAT\n",
      "       | -<----: 5b666 (       1 Item(s)) CYCLINDER, LOWER\n",
      "       | -<----: a5e7f (       1 Item(s)) SPRING, LWR PLAN\n",
      "       | -<----: b65fb (       1 Item(s)) LOCKWIRE\n",
      "       | -<----: cc7bc (       1 Item(s)) SPOOL\n",
      "       | -<----: cf7c4 (       1 Item(s)) NUT,PLAIN,HEX, JAM\n",
      "       | -<----: f7660 (       1 Item(s)) PIN\n",
      "       | -<--O   55485 (       1 Item(s)) ROD END ASSY\n",
      "       |  [   1 unit] ROD END ASSY\n",
      "       |     | -<----: c6146 (       1 Item(s)) ROD END\n",
      "       |     | -<----: faf26 (       1 Item(s)) BEARING\n",
      "       |     x \n",
      "       | -<--O   9c92d (       1 Item(s)) CLEVIS ASSY\n",
      "       |  [   1 unit] CLEVIS ASSY\n",
      "       |     | -<----: d015a (       1 Item(s)) CLEVIS\n",
      "       |     | -<----: ec557 (       2 Item(s)) BUSHING\n",
      "       |     x \n",
      "       x \n"
     ]
    }
   ],
   "source": [
    "efg.fg.frag('f53d6').show_tree()"
   ]
  },
  {
   "cell_type": "code",
   "execution_count": 14,
   "metadata": {},
   "outputs": [],
   "source": [
    "dups = [k for k in efg.duplicate_subassemblies()]"
   ]
  },
  {
   "cell_type": "code",
   "execution_count": 15,
   "metadata": {},
   "outputs": [
    {
     "data": {
      "text/plain": [
       "[]"
      ]
     },
     "execution_count": 15,
     "metadata": {},
     "output_type": "execute_result"
    }
   ],
   "source": [
    "dups"
   ]
  },
  {
   "cell_type": "code",
   "execution_count": 16,
   "metadata": {},
   "outputs": [
    {
     "data": {
      "text/plain": [
       "[('7M1190SN220-3', 'RETAINER'),\n",
       " ('M8791/1-118', 'RETAINER'),\n",
       " ('74B400819-201', 'RING, PISTON'),\n",
       " ('AS3126-04', 'PIN'),\n",
       " ('M83461/1-010', 'PACKING'),\n",
       " ('7M1244C4', 'ADAPTER'),\n",
       " ('AS3125-04', 'PLUG'),\n",
       " ('MS35266-60', 'SCREW'),\n",
       " ('MS27595-236', 'RETAINER'),\n",
       " ('M8791/1-116', 'RETAINER'),\n",
       " ('M8791/1-123', 'RETAINER'),\n",
       " ('7M1190ST220-3', 'RETAINER'),\n",
       " ('74A400804-2001', 'TUBE, TRANSFER'),\n",
       " ('74A400808-2001', 'CYLINDER, RETRACT'),\n",
       " ('74A400807-2001', 'SPACER, PLATE'),\n",
       " ('7M1190R220-3', 'SEAL'),\n",
       " ('74B410058-105', 'SCRAPER'),\n",
       " ('M83461/1-116', 'PACKING'),\n",
       " ('74B400819-203', 'RING, EXPANDER'),\n",
       " ('MS14101-12', 'BEARING'),\n",
       " ('74A400811-2001', 'HEAD'),\n",
       " ('M83461/1-236', 'PACKING'),\n",
       " ('M83461/1-123', 'PACKING'),\n",
       " ('MS14103-12', 'BEARING'),\n",
       " ('74A400821-2003', 'ROD'),\n",
       " ('74A400806-2001', 'PISTON, RETRACT'),\n",
       " ('74A400803-2001', 'PLATE, IDENT'),\n",
       " ('MS20995NC32', 'LOCKWIRE'),\n",
       " ('M83461/1-118', 'PACKING'),\n",
       " ('74A400809-2001', 'PLATE, LOCKING'),\n",
       " ('74A400800-1001', 'RETRACT ACTUATOR ASSY')]"
      ]
     },
     "execution_count": 16,
     "metadata": {},
     "output_type": "execute_result"
    }
   ],
   "source": [
    "[(k.flow.external_ref, k.flow.name) for k in frag.inventory()]"
   ]
  },
  {
   "cell_type": "markdown",
   "metadata": {},
   "source": [
    "## Start to look into annotating flows\n",
    "For every flow that's used as a cutoff (i.e. upstream / background part) we need to identify one or several appropriate providers for it from the various databases we're using.  This is going to be supremely labor intensive to do it manually-- since there are hundreds of parts-- but on the other hand this is the step that should get handled automatically by someone who has access to the proper parts database.  We should not plan to spend more than 4-6 hours on this part.\n",
    "\n",
    "First question: how many parts are there?"
   ]
  },
  {
   "cell_type": "code",
   "execution_count": 17,
   "metadata": {},
   "outputs": [
    {
     "data": {
      "text/plain": [
       "810"
      ]
     },
     "execution_count": 17,
     "metadata": {},
     "output_type": "execute_result"
    }
   ],
   "source": [
    "cutoffs = set()\n",
    "for flow in efg.fg.flows():\n",
    "    if len([k for k in efg.fg.fragments_with_flow(flow) if k.term.is_null]) > 0:\n",
    "        cutoffs.add(flow)\n",
    "len(cutoffs)"
   ]
  },
  {
   "cell_type": "markdown",
   "metadata": {},
   "source": [
    "Optimistically, let's say we spend 4 hours on this.  That is 200 parts per hour = about 4 parts per minute.  I mean, it takes about 15 seconds just to refresh the [parttarget](parttarget.com) page.\n",
    "\n",
    "Well, a lot of these are going to be relatively repeating.  Fortunately [parttarget](parttarget.com) responds to partial matches (`ST3M404` returns 24 results, all of which are \"Nut, Plain, Slotted, Hexagon\")  It's also dubious what value is added by getting authentic information for all this stuff.  The value is in \"realistic\" linking to background databases, but as far as LCIA is concerned I would need accurate mass and price information and that's not happening.\n",
    "\n",
    "Moreover, there are several parts (mainly exterior subassemblies, like 74A400533-2001) that do not appear on parttarget.\n",
    "\n",
    "I think for this exercise I will generate random mass and price estimates, but that I will select terminations based on the actual part.  This means the burden of the effort will be in selecting suitable processes from the four background databases, which is a task that has an early investment of effort but will likely result in a small number of widely reused terminal datasets.\n",
    "\n",
    "What we will be left at at the end is a model whose full parameterization is serialized in the foreground structure: in flow metadata, characterization data, and fragment terminations.\n",
    "\n",
    "The proximate step is to list out all the flows and lookup/makeup their material and type, so that I can semi-intelligently terminate them to background datasets."
   ]
  },
  {
   "cell_type": "code",
   "execution_count": 18,
   "metadata": {},
   "outputs": [],
   "source": [
    "from lcatools.entities.xlsx_editor import write_to_excel"
   ]
  },
  {
   "cell_type": "code",
   "execution_count": 19,
   "metadata": {},
   "outputs": [
    {
     "name": "stdout",
     "output_type": "stream",
     "text": [
      "Writing entities to sheet flow\n",
      "Writing entities to sheet quantity\n",
      "Writing 811 entities to PSM-hackathon-leaf-flows.xlsx\n"
     ]
    }
   ],
   "source": [
    "write_to_excel('PSM-hackathon-leaf-flows', list(cutoffs) + list(efg.fg.quantities()), overwrite=True)"
   ]
  }
 ],
 "metadata": {
  "kernelspec": {
   "display_name": "lca-tools",
   "language": "python",
   "name": "lca-tools"
  },
  "language_info": {
   "codemirror_mode": {
    "name": "ipython",
    "version": 3
   },
   "file_extension": ".py",
   "mimetype": "text/x-python",
   "name": "python",
   "nbconvert_exporter": "python",
   "pygments_lexer": "ipython3",
   "version": "3.7.3"
  }
 },
 "nbformat": 4,
 "nbformat_minor": 2
}
